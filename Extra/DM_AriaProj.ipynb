{
 "cells": [
  {
   "cell_type": "markdown",
   "id": "199f6d6e",
   "metadata": {},
   "source": [
    "##### Data: 6/21/2022"
   ]
  },
  {
   "cell_type": "code",
   "execution_count": null,
   "id": "2cbd920b",
   "metadata": {},
   "outputs": [],
   "source": []
  },
  {
   "cell_type": "markdown",
   "id": "421ad3cf",
   "metadata": {},
   "source": [
    "### Import Libraries"
   ]
  },
  {
   "cell_type": "code",
   "execution_count": 291,
   "id": "a9a0790a",
   "metadata": {},
   "outputs": [],
   "source": [
    "import numpy as np\n",
    "import pandas as pd\n",
    "from sklearn.linear_model import LogisticRegression\n",
    "from sklearn.neighbors import KNeighborsClassifier\n",
    "from sklearn.ensemble import RandomForestClassifier\n",
    "from sklearn import svm\n",
    "from sklearn.tree import DecisionTreeClassifier\n",
    "from sklearn.naive_bayes import MultinomialNB\n",
    "from sklearn.metrics import accuracy_score, f1_score, confusion_matrix\n",
    "from sklearn.model_selection import train_test_split\n",
    "from sklearn.preprocessing import MinMaxScaler\n",
    "import random"
   ]
  },
  {
   "cell_type": "code",
   "execution_count": null,
   "id": "b2e63c30",
   "metadata": {},
   "outputs": [],
   "source": []
  },
  {
   "cell_type": "code",
   "execution_count": 21,
   "id": "10e8a2bf",
   "metadata": {},
   "outputs": [],
   "source": [
    "# !pip install openpyxl"
   ]
  },
  {
   "cell_type": "code",
   "execution_count": null,
   "id": "9f91e32a",
   "metadata": {},
   "outputs": [],
   "source": []
  },
  {
   "cell_type": "markdown",
   "id": "b38d2730",
   "metadata": {},
   "source": [
    "### 1. Loading Dataset"
   ]
  },
  {
   "cell_type": "code",
   "execution_count": 142,
   "id": "194f53dc",
   "metadata": {},
   "outputs": [],
   "source": [
    "def load_dataset(path):\n",
    "    dataset = pd.read_excel('{}'.format(path))\n",
    "    return dataset"
   ]
  },
  {
   "cell_type": "code",
   "execution_count": 143,
   "id": "6d125b1b",
   "metadata": {},
   "outputs": [
    {
     "data": {
      "text/html": [
       "<div>\n",
       "<style scoped>\n",
       "    .dataframe tbody tr th:only-of-type {\n",
       "        vertical-align: middle;\n",
       "    }\n",
       "\n",
       "    .dataframe tbody tr th {\n",
       "        vertical-align: top;\n",
       "    }\n",
       "\n",
       "    .dataframe thead th {\n",
       "        text-align: right;\n",
       "    }\n",
       "</style>\n",
       "<table border=\"1\" class=\"dataframe\">\n",
       "  <thead>\n",
       "    <tr style=\"text-align: right;\">\n",
       "      <th></th>\n",
       "      <th>id</th>\n",
       "      <th>M</th>\n",
       "      <th>F</th>\n",
       "      <th>L</th>\n",
       "      <th>R</th>\n",
       "      <th>Label</th>\n",
       "    </tr>\n",
       "  </thead>\n",
       "  <tbody>\n",
       "    <tr>\n",
       "      <th>0</th>\n",
       "      <td>1</td>\n",
       "      <td>200000</td>\n",
       "      <td>1</td>\n",
       "      <td>13</td>\n",
       "      <td>13</td>\n",
       "      <td>4</td>\n",
       "    </tr>\n",
       "    <tr>\n",
       "      <th>1</th>\n",
       "      <td>2</td>\n",
       "      <td>324000</td>\n",
       "      <td>1</td>\n",
       "      <td>14</td>\n",
       "      <td>14</td>\n",
       "      <td>4</td>\n",
       "    </tr>\n",
       "    <tr>\n",
       "      <th>2</th>\n",
       "      <td>3</td>\n",
       "      <td>400000</td>\n",
       "      <td>1</td>\n",
       "      <td>13</td>\n",
       "      <td>13</td>\n",
       "      <td>4</td>\n",
       "    </tr>\n",
       "    <tr>\n",
       "      <th>3</th>\n",
       "      <td>4</td>\n",
       "      <td>420000</td>\n",
       "      <td>1</td>\n",
       "      <td>14</td>\n",
       "      <td>14</td>\n",
       "      <td>4</td>\n",
       "    </tr>\n",
       "    <tr>\n",
       "      <th>4</th>\n",
       "      <td>5</td>\n",
       "      <td>489000</td>\n",
       "      <td>1</td>\n",
       "      <td>13</td>\n",
       "      <td>13</td>\n",
       "      <td>4</td>\n",
       "    </tr>\n",
       "  </tbody>\n",
       "</table>\n",
       "</div>"
      ],
      "text/plain": [
       "   id       M  F   L   R  Label\n",
       "0   1  200000  1  13  13      4\n",
       "1   2  324000  1  14  14      4\n",
       "2   3  400000  1  13  13      4\n",
       "3   4  420000  1  14  14      4\n",
       "4   5  489000  1  13  13      4"
      ]
     },
     "execution_count": 143,
     "metadata": {},
     "output_type": "execute_result"
    }
   ],
   "source": [
    "dataset = load_dataset('./PROJECT DM.xlsx')\n",
    "dataset.head()"
   ]
  },
  {
   "cell_type": "code",
   "execution_count": 144,
   "id": "a481461d",
   "metadata": {},
   "outputs": [
    {
     "name": "stdout",
     "output_type": "stream",
     "text": [
      "<class 'pandas.core.frame.DataFrame'>\n",
      "RangeIndex: 11656 entries, 0 to 11655\n",
      "Data columns (total 6 columns):\n",
      " #   Column  Non-Null Count  Dtype\n",
      "---  ------  --------------  -----\n",
      " 0   id      11656 non-null  int64\n",
      " 1   M       11656 non-null  int64\n",
      " 2   F       11656 non-null  int64\n",
      " 3   L       11656 non-null  int64\n",
      " 4   R       11656 non-null  int64\n",
      " 5   Label   11656 non-null  int64\n",
      "dtypes: int64(6)\n",
      "memory usage: 546.5 KB\n"
     ]
    }
   ],
   "source": [
    "dataset.info()"
   ]
  },
  {
   "cell_type": "code",
   "execution_count": 145,
   "id": "abb45bb7",
   "metadata": {},
   "outputs": [
    {
     "data": {
      "text/html": [
       "<div>\n",
       "<style scoped>\n",
       "    .dataframe tbody tr th:only-of-type {\n",
       "        vertical-align: middle;\n",
       "    }\n",
       "\n",
       "    .dataframe tbody tr th {\n",
       "        vertical-align: top;\n",
       "    }\n",
       "\n",
       "    .dataframe thead th {\n",
       "        text-align: right;\n",
       "    }\n",
       "</style>\n",
       "<table border=\"1\" class=\"dataframe\">\n",
       "  <thead>\n",
       "    <tr style=\"text-align: right;\">\n",
       "      <th></th>\n",
       "      <th>id</th>\n",
       "      <th>M</th>\n",
       "      <th>F</th>\n",
       "      <th>L</th>\n",
       "      <th>R</th>\n",
       "      <th>Label</th>\n",
       "    </tr>\n",
       "  </thead>\n",
       "  <tbody>\n",
       "    <tr>\n",
       "      <th>count</th>\n",
       "      <td>11656.000000</td>\n",
       "      <td>1.165600e+04</td>\n",
       "      <td>11656.000000</td>\n",
       "      <td>11656.000000</td>\n",
       "      <td>11656.000000</td>\n",
       "      <td>11656.000000</td>\n",
       "    </tr>\n",
       "    <tr>\n",
       "      <th>mean</th>\n",
       "      <td>5828.500000</td>\n",
       "      <td>3.143431e+06</td>\n",
       "      <td>3.950841</td>\n",
       "      <td>22.596002</td>\n",
       "      <td>9.696723</td>\n",
       "      <td>2.975635</td>\n",
       "    </tr>\n",
       "    <tr>\n",
       "      <th>std</th>\n",
       "      <td>3364.941703</td>\n",
       "      <td>3.839804e+06</td>\n",
       "      <td>4.260549</td>\n",
       "      <td>7.702204</td>\n",
       "      <td>5.824569</td>\n",
       "      <td>1.458097</td>\n",
       "    </tr>\n",
       "    <tr>\n",
       "      <th>min</th>\n",
       "      <td>1.000000</td>\n",
       "      <td>2.500000e+04</td>\n",
       "      <td>1.000000</td>\n",
       "      <td>13.000000</td>\n",
       "      <td>1.000000</td>\n",
       "      <td>1.000000</td>\n",
       "    </tr>\n",
       "    <tr>\n",
       "      <th>25%</th>\n",
       "      <td>2914.750000</td>\n",
       "      <td>1.172900e+06</td>\n",
       "      <td>2.000000</td>\n",
       "      <td>15.000000</td>\n",
       "      <td>4.000000</td>\n",
       "      <td>2.000000</td>\n",
       "    </tr>\n",
       "    <tr>\n",
       "      <th>50%</th>\n",
       "      <td>5828.500000</td>\n",
       "      <td>2.026435e+06</td>\n",
       "      <td>3.000000</td>\n",
       "      <td>22.000000</td>\n",
       "      <td>10.000000</td>\n",
       "      <td>3.000000</td>\n",
       "    </tr>\n",
       "    <tr>\n",
       "      <th>75%</th>\n",
       "      <td>8742.250000</td>\n",
       "      <td>3.712050e+06</td>\n",
       "      <td>5.000000</td>\n",
       "      <td>29.000000</td>\n",
       "      <td>14.000000</td>\n",
       "      <td>4.000000</td>\n",
       "    </tr>\n",
       "    <tr>\n",
       "      <th>max</th>\n",
       "      <td>11656.000000</td>\n",
       "      <td>1.208510e+08</td>\n",
       "      <td>130.000000</td>\n",
       "      <td>37.000000</td>\n",
       "      <td>36.000000</td>\n",
       "      <td>5.000000</td>\n",
       "    </tr>\n",
       "  </tbody>\n",
       "</table>\n",
       "</div>"
      ],
      "text/plain": [
       "                 id             M             F             L             R  \\\n",
       "count  11656.000000  1.165600e+04  11656.000000  11656.000000  11656.000000   \n",
       "mean    5828.500000  3.143431e+06      3.950841     22.596002      9.696723   \n",
       "std     3364.941703  3.839804e+06      4.260549      7.702204      5.824569   \n",
       "min        1.000000  2.500000e+04      1.000000     13.000000      1.000000   \n",
       "25%     2914.750000  1.172900e+06      2.000000     15.000000      4.000000   \n",
       "50%     5828.500000  2.026435e+06      3.000000     22.000000     10.000000   \n",
       "75%     8742.250000  3.712050e+06      5.000000     29.000000     14.000000   \n",
       "max    11656.000000  1.208510e+08    130.000000     37.000000     36.000000   \n",
       "\n",
       "              Label  \n",
       "count  11656.000000  \n",
       "mean       2.975635  \n",
       "std        1.458097  \n",
       "min        1.000000  \n",
       "25%        2.000000  \n",
       "50%        3.000000  \n",
       "75%        4.000000  \n",
       "max        5.000000  "
      ]
     },
     "execution_count": 145,
     "metadata": {},
     "output_type": "execute_result"
    }
   ],
   "source": [
    "dataset.describe()"
   ]
  },
  {
   "cell_type": "code",
   "execution_count": 146,
   "id": "36384e67",
   "metadata": {},
   "outputs": [
    {
     "data": {
      "text/plain": [
       "id       0\n",
       "M        0\n",
       "F        0\n",
       "L        0\n",
       "R        0\n",
       "Label    0\n",
       "dtype: int64"
      ]
     },
     "execution_count": 146,
     "metadata": {},
     "output_type": "execute_result"
    }
   ],
   "source": [
    "dataset.isna().sum()"
   ]
  },
  {
   "cell_type": "markdown",
   "id": "3b7386cb",
   "metadata": {},
   "source": [
    "##### So, It seams that theres no need for any preprocessing"
   ]
  },
  {
   "cell_type": "code",
   "execution_count": null,
   "id": "55656bc0",
   "metadata": {},
   "outputs": [],
   "source": []
  },
  {
   "cell_type": "markdown",
   "id": "883f9d09",
   "metadata": {},
   "source": [
    "### 2. Splitting the dataset into 80% of train and 20% of test"
   ]
  },
  {
   "cell_type": "code",
   "execution_count": 147,
   "id": "e601d2bd",
   "metadata": {},
   "outputs": [],
   "source": [
    "# We're ignoring the id attr\n",
    "X = dataset.iloc[:, 1:-1]\n",
    "y = dataset.iloc[:, -1]\n",
    "x_train, x_test, y_train, y_test = train_test_split(X, y, test_size=0.2, random_state=0, stratify=y)"
   ]
  },
  {
   "cell_type": "code",
   "execution_count": 148,
   "id": "7f07681c",
   "metadata": {},
   "outputs": [
    {
     "data": {
      "text/plain": [
       "(9324, 4)"
      ]
     },
     "execution_count": 148,
     "metadata": {},
     "output_type": "execute_result"
    }
   ],
   "source": [
    "x_train.shape"
   ]
  },
  {
   "cell_type": "code",
   "execution_count": 149,
   "id": "da3969ed",
   "metadata": {},
   "outputs": [
    {
     "data": {
      "text/plain": [
       "(2332, 4)"
      ]
     },
     "execution_count": 149,
     "metadata": {},
     "output_type": "execute_result"
    }
   ],
   "source": [
    "x_test.shape"
   ]
  },
  {
   "cell_type": "code",
   "execution_count": null,
   "id": "b83aa22b",
   "metadata": {},
   "outputs": [],
   "source": []
  },
  {
   "cell_type": "markdown",
   "id": "8a7bd384",
   "metadata": {},
   "source": [
    "### 3. Normalization"
   ]
  },
  {
   "cell_type": "code",
   "execution_count": 150,
   "id": "c443b245",
   "metadata": {},
   "outputs": [],
   "source": [
    "scaler  = MinMaxScaler()\n",
    "x_train = pd.DataFrame(scaler.fit_transform(x_train), columns=x_train.columns)\n",
    "x_test  = pd.DataFrame(scaler.transform(x_test), columns=x_train.columns)"
   ]
  },
  {
   "cell_type": "code",
   "execution_count": 152,
   "id": "77060088",
   "metadata": {},
   "outputs": [
    {
     "data": {
      "text/html": [
       "<div>\n",
       "<style scoped>\n",
       "    .dataframe tbody tr th:only-of-type {\n",
       "        vertical-align: middle;\n",
       "    }\n",
       "\n",
       "    .dataframe tbody tr th {\n",
       "        vertical-align: top;\n",
       "    }\n",
       "\n",
       "    .dataframe thead th {\n",
       "        text-align: right;\n",
       "    }\n",
       "</style>\n",
       "<table border=\"1\" class=\"dataframe\">\n",
       "  <thead>\n",
       "    <tr style=\"text-align: right;\">\n",
       "      <th></th>\n",
       "      <th>M</th>\n",
       "      <th>F</th>\n",
       "      <th>L</th>\n",
       "      <th>R</th>\n",
       "    </tr>\n",
       "  </thead>\n",
       "  <tbody>\n",
       "    <tr>\n",
       "      <th>0</th>\n",
       "      <td>0.017807</td>\n",
       "      <td>0.015504</td>\n",
       "      <td>0.750000</td>\n",
       "      <td>0.428571</td>\n",
       "    </tr>\n",
       "    <tr>\n",
       "      <th>1</th>\n",
       "      <td>0.026940</td>\n",
       "      <td>0.015504</td>\n",
       "      <td>0.666667</td>\n",
       "      <td>0.000000</td>\n",
       "    </tr>\n",
       "    <tr>\n",
       "      <th>2</th>\n",
       "      <td>0.014732</td>\n",
       "      <td>0.023256</td>\n",
       "      <td>0.958333</td>\n",
       "      <td>0.428571</td>\n",
       "    </tr>\n",
       "    <tr>\n",
       "      <th>3</th>\n",
       "      <td>0.043400</td>\n",
       "      <td>0.031008</td>\n",
       "      <td>0.541667</td>\n",
       "      <td>0.457143</td>\n",
       "    </tr>\n",
       "    <tr>\n",
       "      <th>4</th>\n",
       "      <td>0.023591</td>\n",
       "      <td>0.054264</td>\n",
       "      <td>0.375000</td>\n",
       "      <td>0.228571</td>\n",
       "    </tr>\n",
       "  </tbody>\n",
       "</table>\n",
       "</div>"
      ],
      "text/plain": [
       "          M         F         L         R\n",
       "0  0.017807  0.015504  0.750000  0.428571\n",
       "1  0.026940  0.015504  0.666667  0.000000\n",
       "2  0.014732  0.023256  0.958333  0.428571\n",
       "3  0.043400  0.031008  0.541667  0.457143\n",
       "4  0.023591  0.054264  0.375000  0.228571"
      ]
     },
     "execution_count": 152,
     "metadata": {},
     "output_type": "execute_result"
    }
   ],
   "source": [
    "x_train.head()"
   ]
  },
  {
   "cell_type": "code",
   "execution_count": null,
   "id": "c6faf078",
   "metadata": {},
   "outputs": [],
   "source": []
  },
  {
   "cell_type": "code",
   "execution_count": null,
   "id": "9d780a6e",
   "metadata": {},
   "outputs": [],
   "source": []
  },
  {
   "cell_type": "markdown",
   "id": "b1124680",
   "metadata": {},
   "source": [
    "### 4. Define Some functions"
   ]
  },
  {
   "cell_type": "code",
   "execution_count": 153,
   "id": "d092d168",
   "metadata": {},
   "outputs": [],
   "source": [
    "def get_confusion_matrix(y_true, y_pred):\n",
    "    return confusion_matrix(y_true, y_pred)"
   ]
  },
  {
   "cell_type": "code",
   "execution_count": 157,
   "id": "ae851669",
   "metadata": {},
   "outputs": [],
   "source": [
    "def get_f1_score(y_true, y_pred):\n",
    "    return round(f1_score(y_true, y_pred, average='weighted'), 3)"
   ]
  },
  {
   "cell_type": "code",
   "execution_count": 331,
   "id": "1aeb5447",
   "metadata": {},
   "outputs": [],
   "source": [
    "def viewer(clfs, clf_names, x_train, x_test, y_train, y_test):\n",
    "    print('                train acc   -   test acc   -   test f1')\n",
    "    print('------------------------------------------------------')\n",
    "    for i, (clf, clf_name) in enumerate(zip(clfs, clf_names)):\n",
    "        y_pred = clf.predict(x_test)\n",
    "        train_acc = clf.score(x_train, y_train)\n",
    "        test_acc = clf.score(x_test, y_test)\n",
    "        f1score = get_f1_score(y_test, y_pred)\n",
    "        print(' |_  {}. {:3s}: {:>9.2f}      -    {:.2f}      -    {:.2f}'.format(i+1, clf_name, train_acc, test_acc, f1score))\n",
    "    \n",
    "    print('\\n\\nConfusion Matrices:\\n')\n",
    "    for i, (clf, clf_name) in enumerate(zip(clfs, clf_names)):\n",
    "        print('{}: ---------------------------------------------------\\n'.format(clf_name))\n",
    "        \n",
    "        train_y_pred = clf.predict(x_train)\n",
    "        train_confusion_matrix = get_confusion_matrix(y_train, train_y_pred)\n",
    "        print(' |_ Train:\\n\\n{}\\n'.format(train_confusion_matrix))\n",
    "        \n",
    "        test_y_pred = clf.predict(x_test)\n",
    "        test_confusion_matrix = get_confusion_matrix(y_test, test_y_pred)\n",
    "        print(' |_ Test:\\n\\n{}\\n'.format(test_confusion_matrix))"
   ]
  },
  {
   "cell_type": "code",
   "execution_count": 294,
   "id": "ac4fcc69",
   "metadata": {},
   "outputs": [],
   "source": [
    "def random_forest(x_train, x_test, y_train, y_test):\n",
    "    nb = RandomForestClassifier(n_estimators=10, random_state=0)\n",
    "    nb = nb.fit(x_train, y_train)\n",
    "    return nb"
   ]
  },
  {
   "cell_type": "code",
   "execution_count": 293,
   "id": "31627377",
   "metadata": {},
   "outputs": [],
   "source": [
    "def logistic_regression(x_train, x_test, y_train, y_test):\n",
    "    lr = LogisticRegression(solver='newton-cg', multi_class='multinomial', random_state=0)\n",
    "    lr = lr.fit(x_train, y_train)\n",
    "    return lr"
   ]
  },
  {
   "cell_type": "code",
   "execution_count": 288,
   "id": "afecc6b9",
   "metadata": {},
   "outputs": [],
   "source": [
    "def naive_bayes(x_train, x_test, y_train, y_test):\n",
    "    nb = MultinomialNB()\n",
    "    nb = nb.fit(x_train, y_train)\n",
    "    return nb"
   ]
  },
  {
   "cell_type": "code",
   "execution_count": 266,
   "id": "df417041",
   "metadata": {},
   "outputs": [],
   "source": [
    "def knn_classifier(x_train, x_test, y_train, y_test):\n",
    "    knn = KNeighborsClassifier(n_neighbors=5, metric='minkowski')\n",
    "    knn = knn.fit(x_train, y_train)\n",
    "    return knn"
   ]
  },
  {
   "cell_type": "code",
   "execution_count": 292,
   "id": "245aa1be",
   "metadata": {},
   "outputs": [],
   "source": [
    "def poly_svm(x_train, x_test, y_train, y_test):\n",
    "    p_svm = svm.SVC(kernel='poly', random_state=0)\n",
    "    p_svm = p_svm.fit(x_train, y_train)\n",
    "    return p_svm"
   ]
  },
  {
   "cell_type": "code",
   "execution_count": 262,
   "id": "0a40a50e",
   "metadata": {},
   "outputs": [],
   "source": [
    "def decision_tree(x_train, x_test, y_train, y_test):\n",
    "    dtree = DecisionTreeClassifier(max_depth=5, random_state=0)\n",
    "    dtree = dtree.fit(x_train, y_train)\n",
    "    return dtree"
   ]
  },
  {
   "cell_type": "code",
   "execution_count": null,
   "id": "87dd9d5d",
   "metadata": {},
   "outputs": [],
   "source": []
  },
  {
   "cell_type": "markdown",
   "id": "baa45359",
   "metadata": {},
   "source": [
    "### 5. Lets start classifying"
   ]
  },
  {
   "cell_type": "code",
   "execution_count": 295,
   "id": "645b2640",
   "metadata": {},
   "outputs": [],
   "source": [
    "clfs = []\n",
    "clfs_names = []\n",
    "\n",
    "# Logistic Regression\n",
    "lr = logistic_regression(x_train, x_test, y_train, y_test)\n",
    "clfs.append(lr)\n",
    "clfs_names.append('LR')\n",
    "\n",
    "# SVM\n",
    "p_svm = poly_svm(x_train, x_test, y_train, y_test)\n",
    "clfs.append(p_svm)\n",
    "clfs_names.append('SVM')\n",
    "\n",
    "# Decision Tree\n",
    "dtree = decision_tree(x_train, x_test, y_train, y_test)\n",
    "clfs.append(dtree)\n",
    "clfs_names.append('DT')\n",
    "\n",
    "# KNN\n",
    "knn = knn_classifier(x_train, x_test, y_train, y_test)\n",
    "clfs.append(knn)\n",
    "clfs_names.append('KNN')\n",
    "\n",
    "# Naive bayes\n",
    "nb = naive_bayes(x_train, x_test, y_train, y_test)\n",
    "clfs.append(nb)\n",
    "clfs_names.append('NB')\n",
    "\n",
    "# Random Forest\n",
    "rf = random_forest(x_train, x_test, y_train, y_test)\n",
    "clfs.append(rf)\n",
    "clfs_names.append('RF')"
   ]
  },
  {
   "cell_type": "code",
   "execution_count": null,
   "id": "36f1b9a8",
   "metadata": {},
   "outputs": [],
   "source": []
  },
  {
   "cell_type": "markdown",
   "id": "df83cab6",
   "metadata": {},
   "source": [
    "### 6. And here we go ))"
   ]
  },
  {
   "cell_type": "code",
   "execution_count": 332,
   "id": "ff0a036f",
   "metadata": {},
   "outputs": [
    {
     "name": "stdout",
     "output_type": "stream",
     "text": [
      "                train acc   -   test acc   -   test f1\n",
      "------------------------------------------------------\n",
      " |_  1. LR :      0.70      -    0.69      -    0.68\n",
      " |_  2. SVM:      0.77      -    0.76      -    0.76\n",
      " |_  3. DT :      0.98      -    0.98      -    0.98\n",
      " |_  4. KNN:      0.92      -    0.85      -    0.85\n",
      " |_  5. NB :      0.48      -    0.48      -    0.36\n",
      " |_  6. RF :      1.00      -    1.00      -    1.00\n",
      "\n",
      "\n",
      "Confusion Matrices:\n",
      "\n",
      "LR: ---------------------------------------------------\n",
      "\n",
      " |_ Train:\n",
      "\n",
      "[[1742  270  104   55   37]\n",
      " [ 269  899  177  173   65]\n",
      " [ 358  394  519  248   63]\n",
      " [   0    0  116 1836  178]\n",
      " [   2    0    0  263 1556]]\n",
      "\n",
      " |_ Test:\n",
      "\n",
      "[[426  79  17  12  18]\n",
      " [ 77 218  53  37  11]\n",
      " [ 88  90 142  55  21]\n",
      " [  0   0  27 451  55]\n",
      " [  0   0   0  81 374]]\n",
      "\n",
      "SVM: ---------------------------------------------------\n",
      "\n",
      " |_ Train:\n",
      "\n",
      "[[1783  397   18   10    0]\n",
      " [ 128 1259   66   80   50]\n",
      " [  28  882  469  203    0]\n",
      " [   0  101   51 1962   16]\n",
      " [   0    3    2  113 1703]]\n",
      "\n",
      " |_ Test:\n",
      "\n",
      "[[448 100   4   0   0]\n",
      " [ 34 316  16  17  13]\n",
      " [ 14 222 120  40   0]\n",
      " [  0  25  20 482   6]\n",
      " [  0   0   0  39 416]]\n",
      "\n",
      "DT: ---------------------------------------------------\n",
      "\n",
      " |_ Train:\n",
      "\n",
      "[[2208    0    0    0    0]\n",
      " [   0 1583    0    0    0]\n",
      " [   0   97 1485    0    0]\n",
      " [   0   75    0 2055    0]\n",
      " [   0    0    0    0 1821]]\n",
      "\n",
      " |_ Test:\n",
      "\n",
      "[[552   0   0   0   0]\n",
      " [  0 396   0   0   0]\n",
      " [  0  27 369   0   0]\n",
      " [  0  16   1 516   0]\n",
      " [  0   0   0   0 455]]\n",
      "\n",
      "KNN: ---------------------------------------------------\n",
      "\n",
      " |_ Train:\n",
      "\n",
      "[[2100   58   48    1    1]\n",
      " [ 182 1249  101   39   12]\n",
      " [  85   96 1375   26    0]\n",
      " [   0   11   15 2098    6]\n",
      " [   0    5    7   22 1787]]\n",
      "\n",
      " |_ Test:\n",
      "\n",
      "[[488  36  26   1   1]\n",
      " [ 65 257  51  19   4]\n",
      " [ 40  50 295  11   0]\n",
      " [  0   6   6 516   5]\n",
      " [  0   7   4  10 434]]\n",
      "\n",
      "NB: ---------------------------------------------------\n",
      "\n",
      " |_ Train:\n",
      "\n",
      "[[2141    0    0   67    0]\n",
      " [1097    0    0  477    9]\n",
      " [1098    0    0  484    0]\n",
      " [ 203    0    0 1867   60]\n",
      " [ 602    1    0  713  505]]\n",
      "\n",
      " |_ Test:\n",
      "\n",
      "[[536   0   0  16   0]\n",
      " [282   0   0 114   0]\n",
      " [283   0   0 113   0]\n",
      " [ 48   0   0 457  28]\n",
      " [152   0   0 182 121]]\n",
      "\n",
      "RF: ---------------------------------------------------\n",
      "\n",
      " |_ Train:\n",
      "\n",
      "[[2208    0    0    0    0]\n",
      " [   0 1583    0    0    0]\n",
      " [   0    0 1582    0    0]\n",
      " [   0    0    0 2130    0]\n",
      " [   0    0    0    0 1821]]\n",
      "\n",
      " |_ Test:\n",
      "\n",
      "[[552   0   0   0   0]\n",
      " [  0 396   0   0   0]\n",
      " [  0   0 396   0   0]\n",
      " [  0   0   1 532   0]\n",
      " [  0   0   0   0 455]]\n",
      "\n"
     ]
    }
   ],
   "source": [
    "viewer(clfs, clfs_names, x_train, x_test, y_train, y_test)"
   ]
  },
  {
   "cell_type": "code",
   "execution_count": null,
   "id": "8171ac6d",
   "metadata": {},
   "outputs": [],
   "source": []
  },
  {
   "cell_type": "code",
   "execution_count": null,
   "id": "660c5c6e",
   "metadata": {},
   "outputs": [],
   "source": [
    "# Notice that the Random forest classifier, have 1 wrong prediction according to the confusion matrix, \n",
    "# but its shown 100% in the table because we round the accuracies for better appearance"
   ]
  },
  {
   "cell_type": "markdown",
   "id": "f685bb51",
   "metadata": {},
   "source": [
    "##### Finito"
   ]
  },
  {
   "cell_type": "code",
   "execution_count": null,
   "id": "d1ea5a58",
   "metadata": {},
   "outputs": [],
   "source": []
  }
 ],
 "metadata": {
  "kernelspec": {
   "display_name": "Python 3 (ipykernel)",
   "language": "python",
   "name": "python3"
  },
  "language_info": {
   "codemirror_mode": {
    "name": "ipython",
    "version": 3
   },
   "file_extension": ".py",
   "mimetype": "text/x-python",
   "name": "python",
   "nbconvert_exporter": "python",
   "pygments_lexer": "ipython3",
   "version": "3.10.1"
  },
  "toc": {
   "base_numbering": 1,
   "nav_menu": {},
   "number_sections": false,
   "sideBar": true,
   "skip_h1_title": false,
   "title_cell": "Table of Contents",
   "title_sidebar": "Contents",
   "toc_cell": false,
   "toc_position": {},
   "toc_section_display": true,
   "toc_window_display": false
  }
 },
 "nbformat": 4,
 "nbformat_minor": 5
}
