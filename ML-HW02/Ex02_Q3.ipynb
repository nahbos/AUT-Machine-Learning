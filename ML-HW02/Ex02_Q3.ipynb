{
 "cells": [
  {
   "cell_type": "markdown",
   "id": "9ba12121",
   "metadata": {},
   "source": [
    "#### - Sobhan Moradian Daghigh\n",
    "#### - 12/4/2021\n",
    "#### - ML - EX02 - Q3"
   ]
  },
  {
   "cell_type": "code",
   "execution_count": 1,
   "id": "f7fc2bab",
   "metadata": {},
   "outputs": [],
   "source": [
    "import pandas as pd\n",
    "import numpy as np\n",
    "import matplotlib.pyplot as plt\n",
    "from sklearn import datasets\n",
    "from sklearn.metrics import mean_absolute_error, mean_squared_error, accuracy_score\n",
    "from sklearn.model_selection import train_test_split\n",
    "from sklearn.preprocessing import Normalizer\n",
    "import random\n",
    "import operator"
   ]
  },
  {
   "cell_type": "markdown",
   "id": "fe003e3b",
   "metadata": {},
   "source": [
    "#### Reading data"
   ]
  },
  {
   "cell_type": "code",
   "execution_count": 2,
   "id": "7c592d9d",
   "metadata": {},
   "outputs": [
    {
     "data": {
      "text/html": [
       "<div>\n",
       "<style scoped>\n",
       "    .dataframe tbody tr th:only-of-type {\n",
       "        vertical-align: middle;\n",
       "    }\n",
       "\n",
       "    .dataframe tbody tr th {\n",
       "        vertical-align: top;\n",
       "    }\n",
       "\n",
       "    .dataframe thead th {\n",
       "        text-align: right;\n",
       "    }\n",
       "</style>\n",
       "<table border=\"1\" class=\"dataframe\">\n",
       "  <thead>\n",
       "    <tr style=\"text-align: right;\">\n",
       "      <th></th>\n",
       "      <th>sepal length (cm)</th>\n",
       "      <th>sepal width (cm)</th>\n",
       "      <th>petal length (cm)</th>\n",
       "      <th>petal width (cm)</th>\n",
       "      <th>target</th>\n",
       "    </tr>\n",
       "  </thead>\n",
       "  <tbody>\n",
       "    <tr>\n",
       "      <th>0</th>\n",
       "      <td>5.1</td>\n",
       "      <td>3.5</td>\n",
       "      <td>1.4</td>\n",
       "      <td>0.2</td>\n",
       "      <td>0.0</td>\n",
       "    </tr>\n",
       "    <tr>\n",
       "      <th>1</th>\n",
       "      <td>4.9</td>\n",
       "      <td>3.0</td>\n",
       "      <td>1.4</td>\n",
       "      <td>0.2</td>\n",
       "      <td>0.0</td>\n",
       "    </tr>\n",
       "    <tr>\n",
       "      <th>2</th>\n",
       "      <td>4.7</td>\n",
       "      <td>3.2</td>\n",
       "      <td>1.3</td>\n",
       "      <td>0.2</td>\n",
       "      <td>0.0</td>\n",
       "    </tr>\n",
       "    <tr>\n",
       "      <th>3</th>\n",
       "      <td>4.6</td>\n",
       "      <td>3.1</td>\n",
       "      <td>1.5</td>\n",
       "      <td>0.2</td>\n",
       "      <td>0.0</td>\n",
       "    </tr>\n",
       "    <tr>\n",
       "      <th>4</th>\n",
       "      <td>5.0</td>\n",
       "      <td>3.6</td>\n",
       "      <td>1.4</td>\n",
       "      <td>0.2</td>\n",
       "      <td>0.0</td>\n",
       "    </tr>\n",
       "  </tbody>\n",
       "</table>\n",
       "</div>"
      ],
      "text/plain": [
       "   sepal length (cm)  sepal width (cm)  petal length (cm)  petal width (cm)  \\\n",
       "0                5.1               3.5                1.4               0.2   \n",
       "1                4.9               3.0                1.4               0.2   \n",
       "2                4.7               3.2                1.3               0.2   \n",
       "3                4.6               3.1                1.5               0.2   \n",
       "4                5.0               3.6                1.4               0.2   \n",
       "\n",
       "   target  \n",
       "0     0.0  \n",
       "1     0.0  \n",
       "2     0.0  \n",
       "3     0.0  \n",
       "4     0.0  "
      ]
     },
     "execution_count": 2,
     "metadata": {},
     "output_type": "execute_result"
    }
   ],
   "source": [
    "iris = datasets.load_iris()\n",
    "dataset = pd.DataFrame(data= np.c_[iris.data, iris.target], columns= iris.feature_names + ['target'])\n",
    "dataset.head()"
   ]
  },
  {
   "cell_type": "code",
   "execution_count": 3,
   "id": "588cf661",
   "metadata": {},
   "outputs": [
    {
     "name": "stdout",
     "output_type": "stream",
     "text": [
      "<class 'pandas.core.frame.DataFrame'>\n",
      "RangeIndex: 150 entries, 0 to 149\n",
      "Data columns (total 5 columns):\n",
      " #   Column             Non-Null Count  Dtype  \n",
      "---  ------             --------------  -----  \n",
      " 0   sepal length (cm)  150 non-null    float64\n",
      " 1   sepal width (cm)   150 non-null    float64\n",
      " 2   petal length (cm)  150 non-null    float64\n",
      " 3   petal width (cm)   150 non-null    float64\n",
      " 4   target             150 non-null    float64\n",
      "dtypes: float64(5)\n",
      "memory usage: 6.0 KB\n"
     ]
    }
   ],
   "source": [
    "dataset.info()"
   ]
  },
  {
   "cell_type": "code",
   "execution_count": null,
   "id": "7a2f5fa6",
   "metadata": {},
   "outputs": [],
   "source": []
  },
  {
   "cell_type": "markdown",
   "id": "8e0bb552",
   "metadata": {},
   "source": [
    "#### Normalizing"
   ]
  },
  {
   "cell_type": "code",
   "execution_count": 4,
   "id": "bd850c24",
   "metadata": {},
   "outputs": [
    {
     "data": {
      "text/html": [
       "<div>\n",
       "<style scoped>\n",
       "    .dataframe tbody tr th:only-of-type {\n",
       "        vertical-align: middle;\n",
       "    }\n",
       "\n",
       "    .dataframe tbody tr th {\n",
       "        vertical-align: top;\n",
       "    }\n",
       "\n",
       "    .dataframe thead th {\n",
       "        text-align: right;\n",
       "    }\n",
       "</style>\n",
       "<table border=\"1\" class=\"dataframe\">\n",
       "  <thead>\n",
       "    <tr style=\"text-align: right;\">\n",
       "      <th></th>\n",
       "      <th>sepal length (cm)</th>\n",
       "      <th>sepal width (cm)</th>\n",
       "      <th>petal length (cm)</th>\n",
       "      <th>petal width (cm)</th>\n",
       "      <th>target</th>\n",
       "    </tr>\n",
       "  </thead>\n",
       "  <tbody>\n",
       "    <tr>\n",
       "      <th>0</th>\n",
       "      <td>0.803773</td>\n",
       "      <td>0.551609</td>\n",
       "      <td>0.220644</td>\n",
       "      <td>0.031521</td>\n",
       "      <td>0.0</td>\n",
       "    </tr>\n",
       "    <tr>\n",
       "      <th>1</th>\n",
       "      <td>0.828133</td>\n",
       "      <td>0.507020</td>\n",
       "      <td>0.236609</td>\n",
       "      <td>0.033801</td>\n",
       "      <td>0.0</td>\n",
       "    </tr>\n",
       "    <tr>\n",
       "      <th>2</th>\n",
       "      <td>0.805333</td>\n",
       "      <td>0.548312</td>\n",
       "      <td>0.222752</td>\n",
       "      <td>0.034269</td>\n",
       "      <td>0.0</td>\n",
       "    </tr>\n",
       "    <tr>\n",
       "      <th>3</th>\n",
       "      <td>0.800030</td>\n",
       "      <td>0.539151</td>\n",
       "      <td>0.260879</td>\n",
       "      <td>0.034784</td>\n",
       "      <td>0.0</td>\n",
       "    </tr>\n",
       "    <tr>\n",
       "      <th>4</th>\n",
       "      <td>0.790965</td>\n",
       "      <td>0.569495</td>\n",
       "      <td>0.221470</td>\n",
       "      <td>0.031639</td>\n",
       "      <td>0.0</td>\n",
       "    </tr>\n",
       "    <tr>\n",
       "      <th>...</th>\n",
       "      <td>...</td>\n",
       "      <td>...</td>\n",
       "      <td>...</td>\n",
       "      <td>...</td>\n",
       "      <td>...</td>\n",
       "    </tr>\n",
       "    <tr>\n",
       "      <th>145</th>\n",
       "      <td>0.721557</td>\n",
       "      <td>0.323085</td>\n",
       "      <td>0.560015</td>\n",
       "      <td>0.247699</td>\n",
       "      <td>2.0</td>\n",
       "    </tr>\n",
       "    <tr>\n",
       "      <th>146</th>\n",
       "      <td>0.729654</td>\n",
       "      <td>0.289545</td>\n",
       "      <td>0.579090</td>\n",
       "      <td>0.220054</td>\n",
       "      <td>2.0</td>\n",
       "    </tr>\n",
       "    <tr>\n",
       "      <th>147</th>\n",
       "      <td>0.716539</td>\n",
       "      <td>0.330710</td>\n",
       "      <td>0.573231</td>\n",
       "      <td>0.220474</td>\n",
       "      <td>2.0</td>\n",
       "    </tr>\n",
       "    <tr>\n",
       "      <th>148</th>\n",
       "      <td>0.674671</td>\n",
       "      <td>0.369981</td>\n",
       "      <td>0.587616</td>\n",
       "      <td>0.250281</td>\n",
       "      <td>2.0</td>\n",
       "    </tr>\n",
       "    <tr>\n",
       "      <th>149</th>\n",
       "      <td>0.690259</td>\n",
       "      <td>0.350979</td>\n",
       "      <td>0.596665</td>\n",
       "      <td>0.210588</td>\n",
       "      <td>2.0</td>\n",
       "    </tr>\n",
       "  </tbody>\n",
       "</table>\n",
       "<p>150 rows × 5 columns</p>\n",
       "</div>"
      ],
      "text/plain": [
       "     sepal length (cm)  sepal width (cm)  petal length (cm)  petal width (cm)  \\\n",
       "0             0.803773          0.551609           0.220644          0.031521   \n",
       "1             0.828133          0.507020           0.236609          0.033801   \n",
       "2             0.805333          0.548312           0.222752          0.034269   \n",
       "3             0.800030          0.539151           0.260879          0.034784   \n",
       "4             0.790965          0.569495           0.221470          0.031639   \n",
       "..                 ...               ...                ...               ...   \n",
       "145           0.721557          0.323085           0.560015          0.247699   \n",
       "146           0.729654          0.289545           0.579090          0.220054   \n",
       "147           0.716539          0.330710           0.573231          0.220474   \n",
       "148           0.674671          0.369981           0.587616          0.250281   \n",
       "149           0.690259          0.350979           0.596665          0.210588   \n",
       "\n",
       "     target  \n",
       "0       0.0  \n",
       "1       0.0  \n",
       "2       0.0  \n",
       "3       0.0  \n",
       "4       0.0  \n",
       "..      ...  \n",
       "145     2.0  \n",
       "146     2.0  \n",
       "147     2.0  \n",
       "148     2.0  \n",
       "149     2.0  \n",
       "\n",
       "[150 rows x 5 columns]"
      ]
     },
     "execution_count": 4,
     "metadata": {},
     "output_type": "execute_result"
    }
   ],
   "source": [
    "scaler = Normalizer().fit(dataset.iloc[:, :-1])\n",
    "normalized_dataset = scaler.transform(dataset.iloc[:, :-1])\n",
    "normalized_dataset = pd.DataFrame(normalized_dataset, columns=dataset.columns[:-1])\n",
    "normalized_dataset['target'] = dataset.iloc[:, -1]\n",
    "normalized_dataset"
   ]
  },
  {
   "cell_type": "markdown",
   "id": "76ef49e2",
   "metadata": {},
   "source": [
    "#### Implementation of  cross validation spliter"
   ]
  },
  {
   "cell_type": "code",
   "execution_count": 5,
   "id": "342438e5",
   "metadata": {},
   "outputs": [],
   "source": [
    "def cross_validation(dataset, k_folds=10):\n",
    "    # Shuffling the dataset\n",
    "    shuffled = dataset.sample(frac=1)\n",
    "    remind = shuffled.shape[0] % k_folds\n",
    "    shuffled = shuffled.iloc[:-remind, :] if remind != 0 else shuffled\n",
    "    return np.array_split(shuffled, k_folds)"
   ]
  },
  {
   "cell_type": "markdown",
   "id": "f633fa77",
   "metadata": {},
   "source": [
    "#### As a test:"
   ]
  },
  {
   "cell_type": "code",
   "execution_count": 6,
   "id": "05fb826e",
   "metadata": {},
   "outputs": [
    {
     "data": {
      "text/html": [
       "<div>\n",
       "<style scoped>\n",
       "    .dataframe tbody tr th:only-of-type {\n",
       "        vertical-align: middle;\n",
       "    }\n",
       "\n",
       "    .dataframe tbody tr th {\n",
       "        vertical-align: top;\n",
       "    }\n",
       "\n",
       "    .dataframe thead th {\n",
       "        text-align: right;\n",
       "    }\n",
       "</style>\n",
       "<table border=\"1\" class=\"dataframe\">\n",
       "  <thead>\n",
       "    <tr style=\"text-align: right;\">\n",
       "      <th></th>\n",
       "      <th>sepal length (cm)</th>\n",
       "      <th>sepal width (cm)</th>\n",
       "      <th>petal length (cm)</th>\n",
       "      <th>petal width (cm)</th>\n",
       "      <th>target</th>\n",
       "    </tr>\n",
       "  </thead>\n",
       "  <tbody>\n",
       "    <tr>\n",
       "      <th>39</th>\n",
       "      <td>0.807796</td>\n",
       "      <td>0.538530</td>\n",
       "      <td>0.237587</td>\n",
       "      <td>0.031678</td>\n",
       "      <td>0.0</td>\n",
       "    </tr>\n",
       "    <tr>\n",
       "      <th>58</th>\n",
       "      <td>0.763019</td>\n",
       "      <td>0.335266</td>\n",
       "      <td>0.531801</td>\n",
       "      <td>0.150292</td>\n",
       "      <td>1.0</td>\n",
       "    </tr>\n",
       "    <tr>\n",
       "      <th>90</th>\n",
       "      <td>0.723371</td>\n",
       "      <td>0.341957</td>\n",
       "      <td>0.578697</td>\n",
       "      <td>0.157826</td>\n",
       "      <td>1.0</td>\n",
       "    </tr>\n",
       "    <tr>\n",
       "      <th>116</th>\n",
       "      <td>0.706105</td>\n",
       "      <td>0.325894</td>\n",
       "      <td>0.597473</td>\n",
       "      <td>0.195537</td>\n",
       "      <td>2.0</td>\n",
       "    </tr>\n",
       "    <tr>\n",
       "      <th>55</th>\n",
       "      <td>0.722330</td>\n",
       "      <td>0.354829</td>\n",
       "      <td>0.570260</td>\n",
       "      <td>0.164742</td>\n",
       "      <td>1.0</td>\n",
       "    </tr>\n",
       "  </tbody>\n",
       "</table>\n",
       "</div>"
      ],
      "text/plain": [
       "     sepal length (cm)  sepal width (cm)  petal length (cm)  petal width (cm)  \\\n",
       "39            0.807796          0.538530           0.237587          0.031678   \n",
       "58            0.763019          0.335266           0.531801          0.150292   \n",
       "90            0.723371          0.341957           0.578697          0.157826   \n",
       "116           0.706105          0.325894           0.597473          0.195537   \n",
       "55            0.722330          0.354829           0.570260          0.164742   \n",
       "\n",
       "     target  \n",
       "39      0.0  \n",
       "58      1.0  \n",
       "90      1.0  \n",
       "116     2.0  \n",
       "55      1.0  "
      ]
     },
     "execution_count": 6,
     "metadata": {},
     "output_type": "execute_result"
    }
   ],
   "source": [
    "cross_vals = cross_validation(normalized_dataset)\n",
    "cross_vals[0].head()"
   ]
  },
  {
   "cell_type": "code",
   "execution_count": null,
   "id": "40847bb3",
   "metadata": {},
   "outputs": [],
   "source": []
  },
  {
   "cell_type": "markdown",
   "id": "6512effe",
   "metadata": {},
   "source": [
    "#### Implementation of euclidean distance"
   ]
  },
  {
   "cell_type": "code",
   "execution_count": 7,
   "id": "23953d74",
   "metadata": {},
   "outputs": [],
   "source": [
    "def euclideanDistance(vectorA, vectorB):\n",
    "    distance = 0\n",
    "    for i in range(len(vectorA) - 1):\n",
    "        distance += np.power(np.subtract(vectorA[i], vectorB[i]), 2)\n",
    "    return np.sqrt(distance)"
   ]
  },
  {
   "cell_type": "code",
   "execution_count": null,
   "id": "2fed6b75",
   "metadata": {},
   "outputs": [],
   "source": []
  },
  {
   "cell_type": "markdown",
   "id": "3c466c48",
   "metadata": {},
   "source": [
    "#### Implementation of KNNClassifier"
   ]
  },
  {
   "cell_type": "code",
   "execution_count": 8,
   "id": "dc684b0e",
   "metadata": {},
   "outputs": [],
   "source": [
    "class kNNClassifier:\n",
    "    \n",
    "    def __init__(self, k_neighbors):\n",
    "        self.k = k_neighbors\n",
    "    \n",
    "    def fit(self, train):\n",
    "        self.train = train\n",
    "\n",
    "    def getNeighbors(self, test):\n",
    "        \n",
    "        distances = []\n",
    "        for i, trainRow in self.train.iterrows():\n",
    "            distances.append([trainRow, euclideanDistance(test, trainRow), self.train.iloc[:, -1][i]])\n",
    "            distances.sort(key=operator.itemgetter(1))\n",
    "\n",
    "        neighbors = []\n",
    "        for index in range(self.k):\n",
    "            neighbors.append(distances[index])\n",
    "        return neighbors\n",
    "        \n",
    "    def predict(self, test):\n",
    "        \n",
    "        self.test = test\n",
    "        predictions = []\n",
    "        \n",
    "        for i, testRow in self.test.iterrows():\n",
    "            neighbors = self.getNeighbors(testRow)\n",
    "            output= [row[-1] for row in neighbors]\n",
    "            prediction = max(set(output), key=output.count)\n",
    "            predictions.append(prediction)\n",
    "        \n",
    "        return predictions"
   ]
  },
  {
   "cell_type": "code",
   "execution_count": null,
   "id": "ac8dee89",
   "metadata": {},
   "outputs": [],
   "source": []
  },
  {
   "cell_type": "markdown",
   "id": "bb14297a",
   "metadata": {},
   "source": [
    "#### Find the optimal k_neighbors using cross validation "
   ]
  },
  {
   "cell_type": "code",
   "execution_count": 9,
   "id": "a8da2f3e",
   "metadata": {
    "scrolled": true
   },
   "outputs": [
    {
     "name": "stdout",
     "output_type": "stream",
     "text": [
      "Maximum accuracy: 0.980 at K = 3\n"
     ]
    },
    {
     "data": {
      "image/png": "[encoded data removed]",
      "text/plain": [
       "<Figure size 720x432 with 1 Axes>"
      ]
     },
     "metadata": {
      "needs_background": "light"
     },
     "output_type": "display_data"
    }
   ],
   "source": [
    "k_range = 30\n",
    "acc = []\n",
    "cross_vals = cross_validation(normalized_dataset)\n",
    "\n",
    "for i in range(1,k_range, 2):\n",
    "    accus = []\n",
    "    for fold in cross_vals:\n",
    "        train = normalized_dataset[~normalized_dataset.index.isin(fold.index)]\n",
    "        test = fold\n",
    "\n",
    "        knn = kNNClassifier(k_neighbors=i)\n",
    "        knn.fit(train)\n",
    "        predictions = knn.predict(test)\n",
    "        accuracy = accuracy_score(test.iloc[:, -1], predictions)\n",
    "        accus.append(accuracy)\n",
    "\n",
    "    max_accu = np.mean(accus)\n",
    "    acc.append(max_accu)\n",
    "    \n",
    "plt.figure(figsize=(10,6))\n",
    "plt.plot(acc, color = 'blue', linestyle='dashed', \n",
    "         marker='o', markerfacecolor='red', markersize=10)\n",
    "plt.title('accuracy vs. K Value')\n",
    "plt.xlabel('K')\n",
    "plt.ylabel('Accuracy')\n",
    "print(\"Maximum accuracy: {:.3f} at K = {}\".format(max(acc), np.multiply(acc.index(max(acc)), 2) + 1))"
   ]
  },
  {
   "cell_type": "markdown",
   "id": "8a703d55",
   "metadata": {},
   "source": [
    "#### So the winner k is 11."
   ]
  },
  {
   "cell_type": "code",
   "execution_count": null,
   "id": "9d1372dc",
   "metadata": {},
   "outputs": [],
   "source": []
  },
  {
   "cell_type": "markdown",
   "id": "91dfbb23",
   "metadata": {},
   "source": [
    "#### Part B:"
   ]
  },
  {
   "cell_type": "markdown",
   "id": "600f12af",
   "metadata": {},
   "source": [
    "#### Split data into 80% of train and 20% of test."
   ]
  },
  {
   "cell_type": "code",
   "execution_count": 10,
   "id": "8ec97372",
   "metadata": {},
   "outputs": [],
   "source": [
    "x_train, x_test, y_train, y_test = train_test_split(normalized_dataset.iloc[:, :-1], normalized_dataset.iloc[:, -1], train_size=0.8, shuffle=True)"
   ]
  },
  {
   "cell_type": "code",
   "execution_count": 11,
   "id": "9fcc2cbc",
   "metadata": {},
   "outputs": [],
   "source": [
    "train = pd.DataFrame(x_train)\n",
    "train['target'] = y_train\n",
    "test = pd.DataFrame(x_test)\n",
    "test['target'] = y_test"
   ]
  },
  {
   "cell_type": "code",
   "execution_count": null,
   "id": "227f091f",
   "metadata": {},
   "outputs": [],
   "source": []
  },
  {
   "cell_type": "code",
   "execution_count": 13,
   "id": "39b06de5",
   "metadata": {},
   "outputs": [
    {
     "name": "stdout",
     "output_type": "stream",
     "text": [
      "Accuracy: 0.97\n",
      "MSE: 0.03\n",
      "RMSE: 0.18\n",
      "MAE: 0.03\n"
     ]
    }
   ],
   "source": [
    "knn = kNNClassifier(k_neighbors=3)\n",
    "knn.fit(train)\n",
    "predictions = knn.predict(test)\n",
    "accuracy = accuracy_score(test.iloc[:, -1], predictions)\n",
    "MSE = mean_squared_error(y_test, predictions)\n",
    "RMSE = mean_squared_error(y_test, predictions, squared=False)\n",
    "MAE = mean_absolute_error(y_test, predictions)\n",
    "\n",
    "print('Accuracy: {:.2f}'.format(accuracy))\n",
    "print('MSE: {:.2f}'.format(MSE))\n",
    "print('RMSE: {:.2f}'.format(RMSE))\n",
    "print('MAE: {:.2f}'.format(MAE))"
   ]
  },
  {
   "cell_type": "code",
   "execution_count": null,
   "id": "32c2f23c",
   "metadata": {},
   "outputs": [],
   "source": []
  }
 ],
 "metadata": {
  "kernelspec": {
   "display_name": "Python 3 (ipykernel)",
   "language": "python",
   "name": "python3"
  },
  "language_info": {
   "codemirror_mode": {
    "name": "ipython",
    "version": 3
   },
   "file_extension": ".py",
   "mimetype": "text/x-python",
   "name": "python",
   "nbconvert_exporter": "python",
   "pygments_lexer": "ipython3",
   "version": "3.9.9"
  }
 },
 "nbformat": 4,
 "nbformat_minor": 5
}
