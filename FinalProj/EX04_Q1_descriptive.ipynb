{
 "cells": [
  {
   "cell_type": "code",
   "execution_count": 1,
   "id": "bf29d024",
   "metadata": {},
   "outputs": [],
   "source": [
    "import numpy as np\n",
    "import matplotlib.pyplot as plt"
   ]
  },
  {
   "cell_type": "code",
   "execution_count": null,
   "id": "63a7d1bb",
   "metadata": {},
   "outputs": [],
   "source": []
  },
  {
   "cell_type": "code",
   "execution_count": null,
   "id": "f2366043",
   "metadata": {},
   "outputs": [],
   "source": []
  },
  {
   "cell_type": "code",
   "execution_count": 2,
   "id": "75ce16a3",
   "metadata": {},
   "outputs": [],
   "source": [
    "x = np.array([[1, 3, 5, 7, 9, 11, 13, 15, 17, 1, 3, 5, 7, 9, 11, 13, 15, 17],\n",
    "             [3, 3, 3, 3, 3, 3 , 3, 3, 3, 0, 0, 0, 0 ,0 ,0 ,0 ,0, 0]])\n",
    "centers = np.array([[9, 11],\n",
    "                    [3, 3]])"
   ]
  },
  {
   "cell_type": "code",
   "execution_count": 3,
   "id": "f4e2f382",
   "metadata": {},
   "outputs": [],
   "source": [
    "x_labels = []\n",
    "c_labels = []\n",
    "for ele in x.T:\n",
    "    x_labels.append('(' + str(ele[0]) + ', ' + str(ele[1]) + ')')\n",
    "    \n",
    "for ele in centers.T:\n",
    "    c_labels.append('(' + str(ele[0]) + ', ' + str(ele[1]) + ')')"
   ]
  },
  {
   "cell_type": "code",
   "execution_count": 4,
   "id": "b56e6399",
   "metadata": {},
   "outputs": [
    {
     "data": {
      "image/png": "[encoded data removed]",
      "text/plain": [
       "<Figure size 1080x288 with 1 Axes>"
      ]
     },
     "metadata": {
      "needs_background": "light"
     },
     "output_type": "display_data"
    }
   ],
   "source": [
    "plt.figure(figsize=(15, 4))\n",
    "\n",
    "plt.scatter(x[0], x[1], c='gray', s=100)\n",
    "\n",
    "for i, txt in enumerate(x_labels):\n",
    "    plt.annotate(txt, (x[0][i], x[1][i]), xytext=(x[0][i] + 0.2, x[1][i] + 0.2))\n",
    "\n",
    "plt.scatter(centers[0][0], centers[1][0], c='red', marker='*', s=200)\n",
    "plt.scatter(centers[0][1], centers[1][1], c='blue', marker='*', s=200)\n",
    "\n",
    "for i, txt in enumerate(c_labels):\n",
    "    plt.annotate(txt, (centers[0][i], centers[1][i]), xytext=(centers[0][i] + 0.2, centers[1][i] + 0.2), c=['red', 'blue', 'green'][i])\n",
    "\n",
    "plt.grid(True)\n",
    "plt.xlim(0, 18)\n",
    "plt.ylim(-1, 4)\n",
    "plt.show()"
   ]
  },
  {
   "cell_type": "code",
   "execution_count": null,
   "id": "d8d85cbb",
   "metadata": {},
   "outputs": [],
   "source": []
  },
  {
   "cell_type": "code",
   "execution_count": 5,
   "id": "bc0b5e18",
   "metadata": {},
   "outputs": [
    {
     "name": "stdout",
     "output_type": "stream",
     "text": [
      "--------------   red   --------------\n",
      "[1 3] :\n",
      "8.0 \n",
      "\n",
      "[3 3] :\n",
      "6.0 \n",
      "\n",
      "[5 3] :\n",
      "4.0 \n",
      "\n",
      "[7 3] :\n",
      "2.0 \n",
      "\n",
      "[9 3] :\n",
      "0.0 \n",
      "\n",
      "[11  3] :\n",
      "2.0 \n",
      "\n",
      "[13  3] :\n",
      "4.0 \n",
      "\n",
      "[15  3] :\n",
      "6.0 \n",
      "\n",
      "[17  3] :\n",
      "8.0 \n",
      "\n",
      "[1 0] :\n",
      "8.544 \n",
      "\n",
      "[3 0] :\n",
      "6.7082 \n",
      "\n",
      "[5 0] :\n",
      "5.0 \n",
      "\n",
      "[7 0] :\n",
      "3.6056 \n",
      "\n",
      "[9 0] :\n",
      "3.0 \n",
      "\n",
      "[11  0] :\n",
      "3.6056 \n",
      "\n",
      "[13  0] :\n",
      "5.0 \n",
      "\n",
      "[15  0] :\n",
      "6.7082 \n",
      "\n",
      "[17  0] :\n",
      "8.544 \n",
      "\n",
      "--------------   blue   --------------\n",
      "[1 3] :\n",
      "10.0 \n",
      "\n",
      "[3 3] :\n",
      "8.0 \n",
      "\n",
      "[5 3] :\n",
      "6.0 \n",
      "\n",
      "[7 3] :\n",
      "4.0 \n",
      "\n",
      "[9 3] :\n",
      "2.0 \n",
      "\n",
      "[11  3] :\n",
      "0.0 \n",
      "\n",
      "[13  3] :\n",
      "2.0 \n",
      "\n",
      "[15  3] :\n",
      "4.0 \n",
      "\n",
      "[17  3] :\n",
      "6.0 \n",
      "\n",
      "[1 0] :\n",
      "10.4403 \n",
      "\n",
      "[3 0] :\n",
      "8.544 \n",
      "\n",
      "[5 0] :\n",
      "6.7082 \n",
      "\n",
      "[7 0] :\n",
      "5.0 \n",
      "\n",
      "[9 0] :\n",
      "3.6056 \n",
      "\n",
      "[11  0] :\n",
      "3.0 \n",
      "\n",
      "[13  0] :\n",
      "3.6056 \n",
      "\n",
      "[15  0] :\n",
      "5.0 \n",
      "\n",
      "[17  0] :\n",
      "6.7082 \n",
      "\n"
     ]
    }
   ],
   "source": [
    "for j in range(2):\n",
    "    print('--------------  ', ['red', 'blue'][j], '  --------------')\n",
    "    for i in range(x.T.shape[0]):\n",
    "        print(x.T[i], ':')\n",
    "        print(round(np.linalg.norm(np.subtract(x.T , centers.T[j])[i]), 4), '\\n')"
   ]
  },
  {
   "cell_type": "code",
   "execution_count": null,
   "id": "29e35457",
   "metadata": {},
   "outputs": [],
   "source": []
  },
  {
   "cell_type": "code",
   "execution_count": 6,
   "id": "89265c9f",
   "metadata": {},
   "outputs": [],
   "source": [
    "iter1_centers = np.array([[5, 14],\n",
    "                          [1.5, 1.5]])\n",
    "\n",
    "iter1_c_labels = []\n",
    "for ele in iter1_centers.T:\n",
    "    iter1_c_labels.append('(' + str(ele[0]) + ', ' + str(ele[1]) + ')')"
   ]
  },
  {
   "cell_type": "code",
   "execution_count": 7,
   "id": "ac4d99ba",
   "metadata": {},
   "outputs": [
    {
     "data": {
      "image/png": "[encoded data removed]",
      "text/plain": [
       "<Figure size 1080x288 with 1 Axes>"
      ]
     },
     "metadata": {
      "needs_background": "light"
     },
     "output_type": "display_data"
    }
   ],
   "source": [
    "plt.figure(figsize=(15, 4))\n",
    "\n",
    "plt.scatter(x[0], x[1], c='gray', s=100)\n",
    "\n",
    "for i, txt in enumerate(x_labels):\n",
    "    plt.annotate(txt, (x[0][i], x[1][i]), xytext=(x[0][i] + 0.2, x[1][i] + 0.2))\n",
    "\n",
    "plt.scatter(iter1_centers[0][0], iter1_centers[1][0], c='red', marker='*', s=200)\n",
    "plt.scatter(iter1_centers[0][1], iter1_centers[1][1], c='blue', marker='*', s=200)\n",
    "\n",
    "for i, txt in enumerate(iter1_c_labels):\n",
    "    plt.annotate(txt, (iter1_centers[0][i], iter1_centers[1][i]), \n",
    "                 xytext=(iter1_centers[0][i] + 0.2, iter1_centers[1][i] + 0.2), c=['red', 'blue', 'green'][i])\n",
    "\n",
    "plt.grid(True)\n",
    "plt.xlim(0, 18)\n",
    "plt.ylim(-1, 4)\n",
    "plt.show()"
   ]
  },
  {
   "cell_type": "code",
   "execution_count": 8,
   "id": "7b58994c",
   "metadata": {},
   "outputs": [
    {
     "name": "stdout",
     "output_type": "stream",
     "text": [
      "--------------   red   --------------\n",
      "[1 3] :\n",
      "4.272 \n",
      "\n",
      "[3 3] :\n",
      "2.5 \n",
      "\n",
      "[5 3] :\n",
      "1.5 \n",
      "\n",
      "[7 3] :\n",
      "2.5 \n",
      "\n",
      "[9 3] :\n",
      "4.272 \n",
      "\n",
      "[11  3] :\n",
      "6.1847 \n",
      "\n",
      "[13  3] :\n",
      "8.1394 \n",
      "\n",
      "[15  3] :\n",
      "10.1119 \n",
      "\n",
      "[17  3] :\n",
      "12.0934 \n",
      "\n",
      "[1 0] :\n",
      "4.272 \n",
      "\n",
      "[3 0] :\n",
      "2.5 \n",
      "\n",
      "[5 0] :\n",
      "1.5 \n",
      "\n",
      "[7 0] :\n",
      "2.5 \n",
      "\n",
      "[9 0] :\n",
      "4.272 \n",
      "\n",
      "[11  0] :\n",
      "6.1847 \n",
      "\n",
      "[13  0] :\n",
      "8.1394 \n",
      "\n",
      "[15  0] :\n",
      "10.1119 \n",
      "\n",
      "[17  0] :\n",
      "12.0934 \n",
      "\n",
      "--------------   blue   --------------\n",
      "[1 3] :\n",
      "13.0863 \n",
      "\n",
      "[3 3] :\n",
      "11.1018 \n",
      "\n",
      "[5 3] :\n",
      "9.1241 \n",
      "\n",
      "[7 3] :\n",
      "7.1589 \n",
      "\n",
      "[9 3] :\n",
      "5.2202 \n",
      "\n",
      "[11  3] :\n",
      "3.3541 \n",
      "\n",
      "[13  3] :\n",
      "1.8028 \n",
      "\n",
      "[15  3] :\n",
      "1.8028 \n",
      "\n",
      "[17  3] :\n",
      "3.3541 \n",
      "\n",
      "[1 0] :\n",
      "13.0863 \n",
      "\n",
      "[3 0] :\n",
      "11.1018 \n",
      "\n",
      "[5 0] :\n",
      "9.1241 \n",
      "\n",
      "[7 0] :\n",
      "7.1589 \n",
      "\n",
      "[9 0] :\n",
      "5.2202 \n",
      "\n",
      "[11  0] :\n",
      "3.3541 \n",
      "\n",
      "[13  0] :\n",
      "1.8028 \n",
      "\n",
      "[15  0] :\n",
      "1.8028 \n",
      "\n",
      "[17  0] :\n",
      "3.3541 \n",
      "\n"
     ]
    }
   ],
   "source": [
    "for j in range(2):\n",
    "    print('--------------  ', ['red', 'blue'][j], '  --------------')\n",
    "    for i in range(x.T.shape[0]):\n",
    "        print(x.T[i], ':')\n",
    "        print(round(np.linalg.norm(np.subtract(x.T , iter1_centers.T[j])[i]), 4), '\\n')"
   ]
  },
  {
   "cell_type": "code",
   "execution_count": null,
   "id": "e91ba582",
   "metadata": {},
   "outputs": [],
   "source": []
  },
  {
   "cell_type": "code",
   "execution_count": 9,
   "id": "c61ca040",
   "metadata": {},
   "outputs": [],
   "source": [
    "clusterd_red = np.array([[1, 3, 5, 7, 9, 1, 3, 5, 7, 9],\n",
    "             [3, 3, 3, 3, 3, 0, 0, 0, 0 ,0]])\n",
    "\n",
    "clusterd_blue = np.array([[11, 13, 15, 17, 11, 13, 15, 17],\n",
    "             [3, 3, 3, 3, 0, 0, 0, 0]])\n",
    "\n",
    "centers = np.array([[9, 11],\n",
    "                    [3, 3]])"
   ]
  },
  {
   "cell_type": "code",
   "execution_count": 10,
   "id": "5c3a0771",
   "metadata": {},
   "outputs": [
    {
     "data": {
      "image/png": "[encoded data removed]",
      "text/plain": [
       "<Figure size 1080x288 with 1 Axes>"
      ]
     },
     "metadata": {
      "needs_background": "light"
     },
     "output_type": "display_data"
    }
   ],
   "source": [
    "plt.figure(figsize=(15, 4))\n",
    "\n",
    "plt.scatter(clusterd_red[0], clusterd_red[1], c='red', s=100)\n",
    "plt.scatter(clusterd_blue[0], clusterd_blue[1], c='blue', s=100)\n",
    "\n",
    "for i, txt in enumerate(x_labels):\n",
    "    plt.annotate(txt, (x[0][i], x[1][i]), xytext=(x[0][i] + 0.2, x[1][i] + 0.2))\n",
    "\n",
    "plt.scatter(iter1_centers[0][0], iter1_centers[1][0], c='red', marker='*', s=200)\n",
    "plt.scatter(iter1_centers[0][1], iter1_centers[1][1], c='blue', marker='*', s=200)\n",
    "\n",
    "for i, txt in enumerate(iter1_c_labels):\n",
    "    plt.annotate(txt, (iter1_centers[0][i], iter1_centers[1][i]), \n",
    "                 xytext=(iter1_centers[0][i] + 0.2, iter1_centers[1][i] + 0.2), c=['red', 'blue', 'green'][i])\n",
    "\n",
    "plt.grid(True)\n",
    "plt.xlim(0, 18)\n",
    "plt.ylim(-1, 4)\n",
    "plt.show()"
   ]
  },
  {
   "cell_type": "code",
   "execution_count": null,
   "id": "15cb59db",
   "metadata": {},
   "outputs": [],
   "source": []
  },
  {
   "cell_type": "code",
   "execution_count": null,
   "id": "ff17e7d2",
   "metadata": {},
   "outputs": [],
   "source": []
  }
 ],
 "metadata": {
  "kernelspec": {
   "display_name": "Python 3 (ipykernel)",
   "language": "python",
   "name": "python3"
  },
  "language_info": {
   "codemirror_mode": {
    "name": "ipython",
    "version": 3
   },
   "file_extension": ".py",
   "mimetype": "text/x-python",
   "name": "python",
   "nbconvert_exporter": "python",
   "pygments_lexer": "ipython3",
   "version": "3.10.1"
  }
 },
 "nbformat": 4,
 "nbformat_minor": 5
}
