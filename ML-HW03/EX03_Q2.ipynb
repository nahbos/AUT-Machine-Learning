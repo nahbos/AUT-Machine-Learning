{
 "cells": [
  {
   "cell_type": "markdown",
   "id": "fa80dc96",
   "metadata": {},
   "source": [
    "#### - Sobhan Moradian Daghigh\n",
    "#### \n",
    "#### - 1/6/2022\n",
    "#### \n",
    "#### - ML - EX03 - Q2"
   ]
  },
  {
   "cell_type": "code",
   "execution_count": 231,
   "id": "8f6e8c7b",
   "metadata": {},
   "outputs": [],
   "source": [
    "import pandas as pd\n",
    "import numpy as np\n",
    "import matplotlib.pyplot as plt\n",
    "from sklearn.model_selection import GridSearchCV\n",
    "from sklearn.model_selection import train_test_split\n",
    "from sklearn.metrics import accuracy_score, f1_score, confusion_matrix\n",
    "from sklearn.ensemble import RandomForestClassifier, AdaBoostClassifier\n",
    "from xgboost import XGBClassifier"
   ]
  },
  {
   "cell_type": "code",
   "execution_count": 233,
   "id": "32d1ecfa",
   "metadata": {},
   "outputs": [
    {
     "data": {
      "text/html": [
       "<div>\n",
       "<style scoped>\n",
       "    .dataframe tbody tr th:only-of-type {\n",
       "        vertical-align: middle;\n",
       "    }\n",
       "\n",
       "    .dataframe tbody tr th {\n",
       "        vertical-align: top;\n",
       "    }\n",
       "\n",
       "    .dataframe thead th {\n",
       "        text-align: right;\n",
       "    }\n",
       "</style>\n",
       "<table border=\"1\" class=\"dataframe\">\n",
       "  <thead>\n",
       "    <tr style=\"text-align: right;\">\n",
       "      <th></th>\n",
       "      <th>0</th>\n",
       "      <th>1</th>\n",
       "      <th>2</th>\n",
       "      <th>3</th>\n",
       "      <th>4</th>\n",
       "      <th>5</th>\n",
       "      <th>6</th>\n",
       "      <th>7</th>\n",
       "      <th>8</th>\n",
       "      <th>9</th>\n",
       "      <th>10</th>\n",
       "      <th>11</th>\n",
       "      <th>12</th>\n",
       "      <th>13</th>\n",
       "      <th>14</th>\n",
       "      <th>15</th>\n",
       "      <th>16</th>\n",
       "    </tr>\n",
       "  </thead>\n",
       "  <tbody>\n",
       "    <tr>\n",
       "      <th>0</th>\n",
       "      <td>47</td>\n",
       "      <td>100</td>\n",
       "      <td>27</td>\n",
       "      <td>81</td>\n",
       "      <td>57</td>\n",
       "      <td>37</td>\n",
       "      <td>26</td>\n",
       "      <td>0</td>\n",
       "      <td>0</td>\n",
       "      <td>23</td>\n",
       "      <td>56</td>\n",
       "      <td>53</td>\n",
       "      <td>100</td>\n",
       "      <td>90</td>\n",
       "      <td>40</td>\n",
       "      <td>98</td>\n",
       "      <td>8</td>\n",
       "    </tr>\n",
       "    <tr>\n",
       "      <th>1</th>\n",
       "      <td>0</td>\n",
       "      <td>89</td>\n",
       "      <td>27</td>\n",
       "      <td>100</td>\n",
       "      <td>42</td>\n",
       "      <td>75</td>\n",
       "      <td>29</td>\n",
       "      <td>45</td>\n",
       "      <td>15</td>\n",
       "      <td>15</td>\n",
       "      <td>37</td>\n",
       "      <td>0</td>\n",
       "      <td>69</td>\n",
       "      <td>2</td>\n",
       "      <td>100</td>\n",
       "      <td>6</td>\n",
       "      <td>2</td>\n",
       "    </tr>\n",
       "    <tr>\n",
       "      <th>2</th>\n",
       "      <td>0</td>\n",
       "      <td>57</td>\n",
       "      <td>31</td>\n",
       "      <td>68</td>\n",
       "      <td>72</td>\n",
       "      <td>90</td>\n",
       "      <td>100</td>\n",
       "      <td>100</td>\n",
       "      <td>76</td>\n",
       "      <td>75</td>\n",
       "      <td>50</td>\n",
       "      <td>51</td>\n",
       "      <td>28</td>\n",
       "      <td>25</td>\n",
       "      <td>16</td>\n",
       "      <td>0</td>\n",
       "      <td>1</td>\n",
       "    </tr>\n",
       "    <tr>\n",
       "      <th>3</th>\n",
       "      <td>0</td>\n",
       "      <td>100</td>\n",
       "      <td>7</td>\n",
       "      <td>92</td>\n",
       "      <td>5</td>\n",
       "      <td>68</td>\n",
       "      <td>19</td>\n",
       "      <td>45</td>\n",
       "      <td>86</td>\n",
       "      <td>34</td>\n",
       "      <td>100</td>\n",
       "      <td>45</td>\n",
       "      <td>74</td>\n",
       "      <td>23</td>\n",
       "      <td>67</td>\n",
       "      <td>0</td>\n",
       "      <td>4</td>\n",
       "    </tr>\n",
       "    <tr>\n",
       "      <th>4</th>\n",
       "      <td>0</td>\n",
       "      <td>67</td>\n",
       "      <td>49</td>\n",
       "      <td>83</td>\n",
       "      <td>100</td>\n",
       "      <td>100</td>\n",
       "      <td>81</td>\n",
       "      <td>80</td>\n",
       "      <td>60</td>\n",
       "      <td>60</td>\n",
       "      <td>40</td>\n",
       "      <td>40</td>\n",
       "      <td>33</td>\n",
       "      <td>20</td>\n",
       "      <td>47</td>\n",
       "      <td>0</td>\n",
       "      <td>1</td>\n",
       "    </tr>\n",
       "  </tbody>\n",
       "</table>\n",
       "</div>"
      ],
      "text/plain": [
       "   0    1   2    3    4    5    6    7   8   9    10  11   12  13   14  15  16\n",
       "0  47  100  27   81   57   37   26    0   0  23   56  53  100  90   40  98   8\n",
       "1   0   89  27  100   42   75   29   45  15  15   37   0   69   2  100   6   2\n",
       "2   0   57  31   68   72   90  100  100  76  75   50  51   28  25   16   0   1\n",
       "3   0  100   7   92    5   68   19   45  86  34  100  45   74  23   67   0   4\n",
       "4   0   67  49   83  100  100   81   80  60  60   40  40   33  20   47   0   1"
      ]
     },
     "execution_count": 233,
     "metadata": {},
     "output_type": "execute_result"
    }
   ],
   "source": [
    "train = pd.read_csv('./dataset/data_train.csv', names=range(17),index_col=False)\n",
    "test = pd.read_csv('./dataset/data_test.csv', names=range(17),index_col=False)\n",
    "train.head()"
   ]
  },
  {
   "cell_type": "code",
   "execution_count": 68,
   "id": "69f8ae12",
   "metadata": {},
   "outputs": [
    {
     "name": "stdout",
     "output_type": "stream",
     "text": [
      "<class 'pandas.core.frame.DataFrame'>\n",
      "RangeIndex: 7494 entries, 0 to 7493\n",
      "Data columns (total 17 columns):\n",
      " #   Column  Non-Null Count  Dtype\n",
      "---  ------  --------------  -----\n",
      " 0   0       7494 non-null   int64\n",
      " 1   1       7494 non-null   int64\n",
      " 2   2       7494 non-null   int64\n",
      " 3   3       7494 non-null   int64\n",
      " 4   4       7494 non-null   int64\n",
      " 5   5       7494 non-null   int64\n",
      " 6   6       7494 non-null   int64\n",
      " 7   7       7494 non-null   int64\n",
      " 8   8       7494 non-null   int64\n",
      " 9   9       7494 non-null   int64\n",
      " 10  10      7494 non-null   int64\n",
      " 11  11      7494 non-null   int64\n",
      " 12  12      7494 non-null   int64\n",
      " 13  13      7494 non-null   int64\n",
      " 14  14      7494 non-null   int64\n",
      " 15  15      7494 non-null   int64\n",
      " 16  16      7494 non-null   int64\n",
      "dtypes: int64(17)\n",
      "memory usage: 995.4 KB\n"
     ]
    }
   ],
   "source": [
    "train.info()"
   ]
  },
  {
   "cell_type": "code",
   "execution_count": null,
   "id": "0f63bf8a",
   "metadata": {},
   "outputs": [],
   "source": []
  },
  {
   "cell_type": "markdown",
   "id": "0ac58b66",
   "metadata": {},
   "source": [
    "### Part A."
   ]
  },
  {
   "cell_type": "code",
   "execution_count": 69,
   "id": "805d1074",
   "metadata": {},
   "outputs": [],
   "source": [
    "estimators = 15\n",
    "features_size = 3\n",
    "max_depth = 3"
   ]
  },
  {
   "cell_type": "code",
   "execution_count": 70,
   "id": "478b0eab",
   "metadata": {},
   "outputs": [
    {
     "name": "stdout",
     "output_type": "stream",
     "text": [
      "The accuracy is: 0.791\n",
      "The f1-score is: 0.786\n"
     ]
    }
   ],
   "source": [
    "rfc = RandomForestClassifier(n_estimators=estimators, max_depth= max_depth, max_features=features_size, random_state=0)\n",
    "rfc.fit(train.iloc[:, :-1], train.iloc[:, -1])\n",
    "predictions = rfc.predict(test.iloc[:, :-1])\n",
    "print(\"The accuracy is: {}\".format(round(rfc.score(test.iloc[:, :-1], test.iloc[:, -1]), 3)))\n",
    "print(\"The f1-score is: {}\".format(round(f1_score(test.iloc[:, -1], predictions, average='weighted'), 3)))"
   ]
  },
  {
   "cell_type": "code",
   "execution_count": 71,
   "id": "b2aaaeba",
   "metadata": {},
   "outputs": [
    {
     "name": "stdout",
     "output_type": "stream",
     "text": [
      "[[315   4   0   0   0   0   1   3  40   0]\n",
      " [  0 188 135   1   2   0   0   0   0  38]\n",
      " [  0  18 342   1   1   0   0   2   0   0]\n",
      " [  0   7   0 328   0   0   0   0   0   1]\n",
      " [  0   2   0   1 354   0   0   0   0   7]\n",
      " [  0   0   0 116  13 162   0   0   6  38]\n",
      " [  3   0   2   3   0   0 297  29   2   0]\n",
      " [  0  22  10   3   0   3   3 294   0  29]\n",
      " [ 16   0   0   0   0  12   2  22 283   1]\n",
      " [  0  52   0  63  13   0   2   0   2 204]]\n"
     ]
    }
   ],
   "source": [
    "print(confusion_matrix(test.iloc[:, -1], predictions))"
   ]
  },
  {
   "cell_type": "code",
   "execution_count": null,
   "id": "40723347",
   "metadata": {},
   "outputs": [],
   "source": []
  },
  {
   "cell_type": "markdown",
   "id": "7ecfcaca",
   "metadata": {},
   "source": [
    "### Part B."
   ]
  },
  {
   "cell_type": "code",
   "execution_count": 72,
   "id": "40ae6713",
   "metadata": {},
   "outputs": [],
   "source": [
    "estimators = 10"
   ]
  },
  {
   "cell_type": "code",
   "execution_count": 89,
   "id": "ed12fc15",
   "metadata": {},
   "outputs": [
    {
     "name": "stdout",
     "output_type": "stream",
     "text": [
      "The accuracy is: 0.62\n",
      "The f1-score is: 0.579\n"
     ]
    }
   ],
   "source": [
    "abc = AdaBoostClassifier(n_estimators=estimators, random_state=0, learning_rate=0.3)\n",
    "abc.fit(train.iloc[:, :-1], train.iloc[:, -1])\n",
    "predictions = abc.predict(test.iloc[:, :-1])\n",
    "print(\"The accuracy is: {}\".format(round(abc.score(test.iloc[:, :-1], test.iloc[:, -1]), 3)))\n",
    "print(\"The f1-score is: {}\".format(round(f1_score(test.iloc[:, -1], predictions, average='weighted'), 3)))"
   ]
  },
  {
   "cell_type": "code",
   "execution_count": null,
   "id": "ad721c99",
   "metadata": {},
   "outputs": [],
   "source": []
  },
  {
   "cell_type": "markdown",
   "id": "abb40ed4",
   "metadata": {},
   "source": [
    "### Part C."
   ]
  },
  {
   "cell_type": "code",
   "execution_count": 91,
   "id": "75a8ec11",
   "metadata": {},
   "outputs": [],
   "source": [
    "estimators = [5, 20, 50]"
   ]
  },
  {
   "cell_type": "code",
   "execution_count": 95,
   "id": "8cd42477",
   "metadata": {},
   "outputs": [
    {
     "name": "stdout",
     "output_type": "stream",
     "text": [
      "The estimator is 5:\n",
      "\tThe accuracy is: 0.536\n",
      "\tThe f1-score is: 0.456\n",
      "\n",
      "\n",
      "The estimator is 20:\n",
      "\tThe accuracy is: 0.646\n",
      "\tThe f1-score is: 0.601\n",
      "\n",
      "\n",
      "The estimator is 50:\n",
      "\tThe accuracy is: 0.706\n",
      "\tThe f1-score is: 0.687\n",
      "\n",
      "\n"
     ]
    }
   ],
   "source": [
    "for estim in estimators:\n",
    "    abc = AdaBoostClassifier(n_estimators=estim, random_state=0, learning_rate=0.3)\n",
    "    abc.fit(train.iloc[:, :-1], train.iloc[:, -1])\n",
    "    predictions = abc.predict(test.iloc[:, :-1])\n",
    "    print(\"The estimator is {}:\".format(estim))\n",
    "    print(\"\\tThe accuracy is: {}\".format(round(abc.score(test.iloc[:, :-1], test.iloc[:, -1]), 3)))\n",
    "    print(\"\\tThe f1-score is: {}\".format(round(f1_score(test.iloc[:, -1], predictions, average='weighted'), 3)))\n",
    "    print(\"\\n\")"
   ]
  },
  {
   "cell_type": "code",
   "execution_count": null,
   "id": "f1a674db",
   "metadata": {},
   "outputs": [],
   "source": []
  },
  {
   "cell_type": "markdown",
   "id": "7cbd3943",
   "metadata": {},
   "source": [
    "### Part D."
   ]
  },
  {
   "cell_type": "code",
   "execution_count": 224,
   "id": "be67cf56",
   "metadata": {},
   "outputs": [],
   "source": [
    "params = [\n",
    "    {\"eta\": [1, 0.5, 0.1]},\n",
    "    {\"gamma\": [0, 0.1, 0.2]},\n",
    "    {\"max_depth\": [3, 4, 5, 6]},\n",
    "    {\"min_child_weight\": [0, 0.3, 0.7]},\n",
    "    {\"subsample\": [0.5, 0.7, 0.9]},\n",
    "    {\"refresh_leaf\": [0, 1]},\n",
    "    {\"colsample_bytree\": [0.3, 0.5, 0.7]},\n",
    "]"
   ]
  },
  {
   "cell_type": "code",
   "execution_count": 237,
   "id": "c8f1aa15",
   "metadata": {},
   "outputs": [
    {
     "name": "stdout",
     "output_type": "stream",
     "text": [
      "Fitting 3 folds for each of 21 candidates, totalling 63 fits\n"
     ]
    },
    {
     "data": {
      "text/plain": [
       "GridSearchCV(cv=3,\n",
       "             estimator=XGBClassifier(base_score=None, booster=None,\n",
       "                                     colsample_bylevel=None,\n",
       "                                     colsample_bynode=None,\n",
       "                                     colsample_bytree=None,\n",
       "                                     enable_categorical=False,\n",
       "                                     eval_metric='rmse', gamma=None,\n",
       "                                     gpu_id=None, importance_type=None,\n",
       "                                     interaction_constraints=None,\n",
       "                                     learning_rate=None, max_delta_step=None,\n",
       "                                     max_depth=None, min_child_weight=None,\n",
       "                                     missing=nan, monoton...\n",
       "                                     random_state=None, reg_alpha=None,\n",
       "                                     reg_lambda=None, scale_pos_weight=None,\n",
       "                                     subsample=None, tree_method=None,\n",
       "                                     use_label_encoder=False,\n",
       "                                     validate_parameters=None, verbosity=None),\n",
       "             param_grid=[{'eta': [1, 0.5, 0.1]}, {'gamma': [0, 0.1, 0.2]},\n",
       "                         {'max_depth': [3, 4, 5, 6]},\n",
       "                         {'min_child_weight': [0, 0.3, 0.7]},\n",
       "                         {'subsample': [0.5, 0.7, 0.9]},\n",
       "                         {'refresh_leaf': [0, 1]},\n",
       "                         {'colsample_bytree': [0.3, 0.5, 0.7]}],\n",
       "             verbose=1)"
      ]
     },
     "execution_count": 237,
     "metadata": {},
     "output_type": "execute_result"
    }
   ],
   "source": [
    "xgbc = XGBClassifier(use_label_encoder=False, eval_metric='rmse')\n",
    "gs = GridSearchCV(xgbc, params, cv=3, verbose=1)\n",
    "gs.fit(train.iloc[:, :-1], train.iloc[:, -1])"
   ]
  },
  {
   "cell_type": "code",
   "execution_count": 253,
   "id": "15e6eaba",
   "metadata": {},
   "outputs": [
    {
     "data": {
      "text/html": [
       "<div>\n",
       "<style scoped>\n",
       "    .dataframe tbody tr th:only-of-type {\n",
       "        vertical-align: middle;\n",
       "    }\n",
       "\n",
       "    .dataframe tbody tr th {\n",
       "        vertical-align: top;\n",
       "    }\n",
       "\n",
       "    .dataframe thead th {\n",
       "        text-align: right;\n",
       "    }\n",
       "</style>\n",
       "<table border=\"1\" class=\"dataframe\">\n",
       "  <thead>\n",
       "    <tr style=\"text-align: right;\">\n",
       "      <th></th>\n",
       "      <th>params</th>\n",
       "      <th>mean_test_score</th>\n",
       "    </tr>\n",
       "  </thead>\n",
       "  <tbody>\n",
       "    <tr>\n",
       "      <th>0</th>\n",
       "      <td>{'colsample_bytree': 0.5}</td>\n",
       "      <td>0.99106</td>\n",
       "    </tr>\n",
       "    <tr>\n",
       "      <th>1</th>\n",
       "      <td>{'subsample': 0.7}</td>\n",
       "      <td>0.990526</td>\n",
       "    </tr>\n",
       "    <tr>\n",
       "      <th>2</th>\n",
       "      <td>{'colsample_bytree': 0.3}</td>\n",
       "      <td>0.989992</td>\n",
       "    </tr>\n",
       "    <tr>\n",
       "      <th>3</th>\n",
       "      <td>{'max_depth': 5}</td>\n",
       "      <td>0.989725</td>\n",
       "    </tr>\n",
       "    <tr>\n",
       "      <th>4</th>\n",
       "      <td>{'colsample_bytree': 0.7}</td>\n",
       "      <td>0.989725</td>\n",
       "    </tr>\n",
       "    <tr>\n",
       "      <th>5</th>\n",
       "      <td>{'max_depth': 4}</td>\n",
       "      <td>0.989592</td>\n",
       "    </tr>\n",
       "    <tr>\n",
       "      <th>6</th>\n",
       "      <td>{'min_child_weight': 0.7}</td>\n",
       "      <td>0.989325</td>\n",
       "    </tr>\n",
       "    <tr>\n",
       "      <th>7</th>\n",
       "      <td>{'eta': 0.5}</td>\n",
       "      <td>0.989191</td>\n",
       "    </tr>\n",
       "    <tr>\n",
       "      <th>8</th>\n",
       "      <td>{'gamma': 0}</td>\n",
       "      <td>0.989191</td>\n",
       "    </tr>\n",
       "    <tr>\n",
       "      <th>9</th>\n",
       "      <td>{'max_depth': 6}</td>\n",
       "      <td>0.989191</td>\n",
       "    </tr>\n",
       "  </tbody>\n",
       "</table>\n",
       "</div>"
      ],
      "text/plain": [
       "                      params mean_test_score\n",
       "0  {'colsample_bytree': 0.5}         0.99106\n",
       "1         {'subsample': 0.7}        0.990526\n",
       "2  {'colsample_bytree': 0.3}        0.989992\n",
       "3           {'max_depth': 5}        0.989725\n",
       "4  {'colsample_bytree': 0.7}        0.989725\n",
       "5           {'max_depth': 4}        0.989592\n",
       "6  {'min_child_weight': 0.7}        0.989325\n",
       "7               {'eta': 0.5}        0.989191\n",
       "8               {'gamma': 0}        0.989191\n",
       "9           {'max_depth': 6}        0.989191"
      ]
     },
     "execution_count": 253,
     "metadata": {},
     "output_type": "execute_result"
    }
   ],
   "source": [
    "results = pd.DataFrame(gs.cv_results_)\n",
    "results = results.reset_index().sort_values(['rank_test_score', 'index'])\n",
    "results.reset_index(inplace=True)\n",
    "pd.DataFrame([results.loc[:, x] for x in ['params', 'mean_test_score']]).T.head(10)"
   ]
  },
  {
   "cell_type": "code",
   "execution_count": null,
   "id": "489547fb",
   "metadata": {},
   "outputs": [],
   "source": []
  },
  {
   "cell_type": "code",
   "execution_count": 261,
   "id": "33c5465a",
   "metadata": {},
   "outputs": [
    {
     "name": "stdout",
     "output_type": "stream",
     "text": [
      "The accuracy is: 0.973\n",
      "The f1-score is: 0.973\n"
     ]
    }
   ],
   "source": [
    "xgbc = XGBClassifier(\n",
    "    use_label_encoder=False, \n",
    "    eval_metric='rmse',\n",
    "    eta='0.5',\n",
    "    max_depth='5',\n",
    "    subsample='0.7',\n",
    "    colsample_bytree='0.5'\n",
    ")\n",
    "xgbc.fit(train.iloc[:, :-1], train.iloc[:, -1])\n",
    "predictions = xgbc.predict(test.iloc[:, :-1])\n",
    "print(\"The accuracy is: {}\".format(round(xgbc.score(test.iloc[:, :-1], test.iloc[:, -1]), 3)))\n",
    "print(\"The f1-score is: {}\".format(round(f1_score(test.iloc[:, -1], predictions, average='weighted'), 3)))"
   ]
  },
  {
   "cell_type": "code",
   "execution_count": null,
   "id": "9f4d8803",
   "metadata": {},
   "outputs": [],
   "source": []
  },
  {
   "cell_type": "code",
   "execution_count": null,
   "id": "96769930",
   "metadata": {},
   "outputs": [],
   "source": []
  }
 ],
 "metadata": {
  "kernelspec": {
   "display_name": "Python 3 (ipykernel)",
   "language": "python",
   "name": "python3"
  },
  "language_info": {
   "codemirror_mode": {
    "name": "ipython",
    "version": 3
   },
   "file_extension": ".py",
   "mimetype": "text/x-python",
   "name": "python",
   "nbconvert_exporter": "python",
   "pygments_lexer": "ipython3",
   "version": "3.10.1"
  }
 },
 "nbformat": 4,
 "nbformat_minor": 5
}
