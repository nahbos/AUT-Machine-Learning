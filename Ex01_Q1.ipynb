{
 "cells": [
  {
   "cell_type": "markdown",
   "id": "47986d23",
   "metadata": {},
   "source": [
    "### - Sobhan Moradian Daghigh\n",
    "#### - 11/10/2021\n",
    "#### \n",
    "#### - ML - EX01 - Q1\n",
    "##### "
   ]
  },
  {
   "cell_type": "code",
   "execution_count": 1,
   "id": "2b68393d",
   "metadata": {},
   "outputs": [],
   "source": [
    "import pandas as pd\n",
    "import numpy as np\n",
    "import matplotlib.pyplot as plt\n",
    "from sklearn.model_selection import train_test_split\n",
    "from sklearn.metrics import mean_squared_error, mean_absolute_error"
   ]
  },
  {
   "cell_type": "markdown",
   "id": "f157b59e",
   "metadata": {},
   "source": [
    "#### Reading the dataset"
   ]
  },
  {
   "cell_type": "code",
   "execution_count": 2,
   "id": "eab7a221",
   "metadata": {},
   "outputs": [
    {
     "data": {
      "text/html": [
       "<div>\n",
       "<style scoped>\n",
       "    .dataframe tbody tr th:only-of-type {\n",
       "        vertical-align: middle;\n",
       "    }\n",
       "\n",
       "    .dataframe tbody tr th {\n",
       "        vertical-align: top;\n",
       "    }\n",
       "\n",
       "    .dataframe thead th {\n",
       "        text-align: right;\n",
       "    }\n",
       "</style>\n",
       "<table border=\"1\" class=\"dataframe\">\n",
       "  <thead>\n",
       "    <tr style=\"text-align: right;\">\n",
       "      <th></th>\n",
       "      <th>x</th>\n",
       "      <th>y</th>\n",
       "    </tr>\n",
       "  </thead>\n",
       "  <tbody>\n",
       "    <tr>\n",
       "      <th>0</th>\n",
       "      <td>0.097627</td>\n",
       "      <td>0.626964</td>\n",
       "    </tr>\n",
       "    <tr>\n",
       "      <th>1</th>\n",
       "      <td>0.430379</td>\n",
       "      <td>0.846452</td>\n",
       "    </tr>\n",
       "    <tr>\n",
       "      <th>2</th>\n",
       "      <td>0.205527</td>\n",
       "      <td>0.756017</td>\n",
       "    </tr>\n",
       "    <tr>\n",
       "      <th>3</th>\n",
       "      <td>0.089766</td>\n",
       "      <td>0.427504</td>\n",
       "    </tr>\n",
       "    <tr>\n",
       "      <th>4</th>\n",
       "      <td>-0.152690</td>\n",
       "      <td>-1.335228</td>\n",
       "    </tr>\n",
       "  </tbody>\n",
       "</table>\n",
       "</div>"
      ],
      "text/plain": [
       "          x         y\n",
       "0  0.097627  0.626964\n",
       "1  0.430379  0.846452\n",
       "2  0.205527  0.756017\n",
       "3  0.089766  0.427504\n",
       "4 -0.152690 -1.335228"
      ]
     },
     "execution_count": 2,
     "metadata": {},
     "output_type": "execute_result"
    }
   ],
   "source": [
    "dataset = pd.read_csv('./ML-HW01/dataset1/dataset1.csv')\n",
    "dataset.head()"
   ]
  },
  {
   "cell_type": "code",
   "execution_count": 3,
   "id": "c30b6a50",
   "metadata": {},
   "outputs": [
    {
     "name": "stdout",
     "output_type": "stream",
     "text": [
      "<class 'pandas.core.frame.DataFrame'>\n",
      "RangeIndex: 300 entries, 0 to 299\n",
      "Data columns (total 2 columns):\n",
      " #   Column  Non-Null Count  Dtype  \n",
      "---  ------  --------------  -----  \n",
      " 0   x       300 non-null    float64\n",
      " 1   y       300 non-null    float64\n",
      "dtypes: float64(2)\n",
      "memory usage: 4.8 KB\n"
     ]
    }
   ],
   "source": [
    "dataset.info()"
   ]
  },
  {
   "cell_type": "markdown",
   "id": "cf877d2f",
   "metadata": {},
   "source": [
    "#### Part A:"
   ]
  },
  {
   "cell_type": "code",
   "execution_count": 4,
   "id": "f0578b12",
   "metadata": {},
   "outputs": [
    {
     "data": {
      "image/png": "[encoded data removed]",
      "text/plain": [
       "<Figure size 432x288 with 1 Axes>"
      ]
     },
     "metadata": {
      "needs_background": "light"
     },
     "output_type": "display_data"
    }
   ],
   "source": [
    "plt.scatter(dataset.iloc[:, 0], dataset.iloc[:, 1], alpha= 0.5)\n",
    "plt.show()"
   ]
  },
  {
   "cell_type": "markdown",
   "id": "6b73b5bc",
   "metadata": {},
   "source": [
    "#### Part G:"
   ]
  },
  {
   "cell_type": "markdown",
   "id": "2ecbc5b5",
   "metadata": {},
   "source": [
    "#### To solve a polynomial regression as a linear regression problem, update the dataset as below:\n",
    "##### h(x) = θ0 + ... + θi(x^i) + ... θd(x^d)   --->    h(x) = θ0 + ... + θi(xi) + ... θd(xd)"
   ]
  },
  {
   "cell_type": "code",
   "execution_count": 5,
   "id": "bbbe8d12",
   "metadata": {},
   "outputs": [
    {
     "data": {
      "text/html": [
       "<div>\n",
       "<style scoped>\n",
       "    .dataframe tbody tr th:only-of-type {\n",
       "        vertical-align: middle;\n",
       "    }\n",
       "\n",
       "    .dataframe tbody tr th {\n",
       "        vertical-align: top;\n",
       "    }\n",
       "\n",
       "    .dataframe thead th {\n",
       "        text-align: right;\n",
       "    }\n",
       "</style>\n",
       "<table border=\"1\" class=\"dataframe\">\n",
       "  <thead>\n",
       "    <tr style=\"text-align: right;\">\n",
       "      <th></th>\n",
       "      <th>x0</th>\n",
       "      <th>x1</th>\n",
       "      <th>x2</th>\n",
       "      <th>x3</th>\n",
       "      <th>x4</th>\n",
       "      <th>x5</th>\n",
       "      <th>x6</th>\n",
       "      <th>x7</th>\n",
       "      <th>x8</th>\n",
       "      <th>x9</th>\n",
       "      <th>x10</th>\n",
       "      <th>y</th>\n",
       "    </tr>\n",
       "  </thead>\n",
       "  <tbody>\n",
       "    <tr>\n",
       "      <th>0</th>\n",
       "      <td>1.0</td>\n",
       "      <td>0.097627</td>\n",
       "      <td>0.009531</td>\n",
       "      <td>0.000930</td>\n",
       "      <td>0.000091</td>\n",
       "      <td>0.000009</td>\n",
       "      <td>8.658046e-07</td>\n",
       "      <td>8.452591e-08</td>\n",
       "      <td>8.252012e-09</td>\n",
       "      <td>8.056192e-10</td>\n",
       "      <td>7.865019e-11</td>\n",
       "      <td>0.626964</td>\n",
       "    </tr>\n",
       "    <tr>\n",
       "      <th>1</th>\n",
       "      <td>1.0</td>\n",
       "      <td>0.430379</td>\n",
       "      <td>0.185226</td>\n",
       "      <td>0.079717</td>\n",
       "      <td>0.034309</td>\n",
       "      <td>0.014766</td>\n",
       "      <td>6.354843e-03</td>\n",
       "      <td>2.734989e-03</td>\n",
       "      <td>1.177081e-03</td>\n",
       "      <td>5.065907e-04</td>\n",
       "      <td>2.180259e-04</td>\n",
       "      <td>0.846452</td>\n",
       "    </tr>\n",
       "    <tr>\n",
       "      <th>2</th>\n",
       "      <td>1.0</td>\n",
       "      <td>0.205527</td>\n",
       "      <td>0.042241</td>\n",
       "      <td>0.008682</td>\n",
       "      <td>0.001784</td>\n",
       "      <td>0.000367</td>\n",
       "      <td>7.537202e-05</td>\n",
       "      <td>1.549097e-05</td>\n",
       "      <td>3.183808e-06</td>\n",
       "      <td>6.543577e-07</td>\n",
       "      <td>1.344880e-07</td>\n",
       "      <td>0.756017</td>\n",
       "    </tr>\n",
       "    <tr>\n",
       "      <th>3</th>\n",
       "      <td>1.0</td>\n",
       "      <td>0.089766</td>\n",
       "      <td>0.008058</td>\n",
       "      <td>0.000723</td>\n",
       "      <td>0.000065</td>\n",
       "      <td>0.000006</td>\n",
       "      <td>5.232170e-07</td>\n",
       "      <td>4.696729e-08</td>\n",
       "      <td>4.216083e-09</td>\n",
       "      <td>3.784624e-10</td>\n",
       "      <td>3.397320e-11</td>\n",
       "      <td>0.427504</td>\n",
       "    </tr>\n",
       "    <tr>\n",
       "      <th>4</th>\n",
       "      <td>1.0</td>\n",
       "      <td>-0.152690</td>\n",
       "      <td>0.023314</td>\n",
       "      <td>-0.003560</td>\n",
       "      <td>0.000544</td>\n",
       "      <td>-0.000083</td>\n",
       "      <td>1.267274e-05</td>\n",
       "      <td>-1.935005e-06</td>\n",
       "      <td>2.954567e-07</td>\n",
       "      <td>-4.511341e-08</td>\n",
       "      <td>6.888384e-09</td>\n",
       "      <td>-1.335228</td>\n",
       "    </tr>\n",
       "  </tbody>\n",
       "</table>\n",
       "</div>"
      ],
      "text/plain": [
       "    x0        x1        x2        x3        x4        x5            x6  \\\n",
       "0  1.0  0.097627  0.009531  0.000930  0.000091  0.000009  8.658046e-07   \n",
       "1  1.0  0.430379  0.185226  0.079717  0.034309  0.014766  6.354843e-03   \n",
       "2  1.0  0.205527  0.042241  0.008682  0.001784  0.000367  7.537202e-05   \n",
       "3  1.0  0.089766  0.008058  0.000723  0.000065  0.000006  5.232170e-07   \n",
       "4  1.0 -0.152690  0.023314 -0.003560  0.000544 -0.000083  1.267274e-05   \n",
       "\n",
       "             x7            x8            x9           x10         y  \n",
       "0  8.452591e-08  8.252012e-09  8.056192e-10  7.865019e-11  0.626964  \n",
       "1  2.734989e-03  1.177081e-03  5.065907e-04  2.180259e-04  0.846452  \n",
       "2  1.549097e-05  3.183808e-06  6.543577e-07  1.344880e-07  0.756017  \n",
       "3  4.696729e-08  4.216083e-09  3.784624e-10  3.397320e-11  0.427504  \n",
       "4 -1.935005e-06  2.954567e-07 -4.511341e-08  6.888384e-09 -1.335228  "
      ]
     },
     "execution_count": 5,
     "metadata": {},
     "output_type": "execute_result"
    }
   ],
   "source": [
    "df = pd.DataFrame()\n",
    "labels = ['x0', 'x1', 'x2', 'x3', 'x4', 'x5', 'x6', 'x7', 'x8', 'x9', 'x10']\n",
    "\n",
    "for i in range(11):\n",
    "    df[labels[i]] = np.power(dataset.iloc[:,0], i)\n",
    "    \n",
    "df['y'] = dataset.iloc[:, 1]\n",
    "\n",
    "df.head()"
   ]
  },
  {
   "cell_type": "markdown",
   "id": "600f12af",
   "metadata": {},
   "source": [
    "#### Split data into 80% of train and 20% of test."
   ]
  },
  {
   "cell_type": "code",
   "execution_count": 6,
   "id": "8ec97372",
   "metadata": {},
   "outputs": [],
   "source": [
    "x_train, x_test, y_train, y_test = train_test_split(df.iloc[:, :-1], df.iloc[:, -1], train_size=0.8, shuffle=True)"
   ]
  },
  {
   "cell_type": "code",
   "execution_count": 7,
   "id": "81865c89",
   "metadata": {},
   "outputs": [
    {
     "data": {
      "image/png": "[encoded data removed]",
      "text/plain": [
       "<Figure size 432x288 with 1 Axes>"
      ]
     },
     "metadata": {
      "needs_background": "light"
     },
     "output_type": "display_data"
    }
   ],
   "source": [
    "plt.scatter(x_train.iloc[:, 1], y_train.iloc[:,], alpha= 0.5, c=['green'] * x_train.shape[0])\n",
    "plt.scatter(x_test.iloc[:, 1], y_test.iloc[:,], alpha= 0.5, c=['red'] * x_test.shape[0])\n",
    "plt.show()"
   ]
  },
  {
   "cell_type": "code",
   "execution_count": 8,
   "id": "2f1772be",
   "metadata": {},
   "outputs": [],
   "source": [
    "train = pd.concat([x_train, y_train], axis=1)\n",
    "test = pd.concat([x_test, y_test], axis=1)"
   ]
  },
  {
   "cell_type": "code",
   "execution_count": null,
   "id": "a8c35530",
   "metadata": {},
   "outputs": [],
   "source": []
  },
  {
   "cell_type": "markdown",
   "id": "43a4e289",
   "metadata": {},
   "source": [
    "#### Ok we're not allowded to use build-in funcs for Gradient Descent.\n",
    "#### So let's define it according to the algorithm."
   ]
  },
  {
   "cell_type": "code",
   "execution_count": 9,
   "id": "a5d1dd7a",
   "metadata": {},
   "outputs": [],
   "source": [
    "# Data count\n",
    "m = train.shape[0]"
   ]
  },
  {
   "cell_type": "code",
   "execution_count": 40,
   "id": "798c8662",
   "metadata": {},
   "outputs": [],
   "source": [
    "def gd(epoch, degree, df_train, df_test, size,  report=True):\n",
    "\n",
    "    # According to some searches, I decided to start learning rate from 0.003 and decrease it during iterations\n",
    "    alpha = 0.003 \n",
    "    alph = alpha\n",
    "    decay = 0.0005\n",
    "    \n",
    "    # Coefficients\n",
    "    coeffs = [0] * (degree + 1)\n",
    "    \n",
    "    # Miss rate - Learning rate - Epoch\n",
    "    mr_lr_ep = [[[[], [], []], [[], [], []]], [], [], []]\n",
    "    \n",
    "    predY = predY_cal(coeffs, df_train, degree)\n",
    "    for i in range(epoch):\n",
    "        coeffs = update_coefficients(coeffs, alpha, size, predY, df_train, degree)\n",
    "        predY = predY_cal(coeffs, df_train, degree)\n",
    "        \n",
    "        if report:\n",
    "            miss_rate(df_train, df_test, predY, coeffs, degree, mr_lr_ep)\n",
    "            mr_lr_ep[1].append(alpha)\n",
    "            mr_lr_ep[2].append(i)\n",
    "            mr_lr_ep[3].append(alpha)\n",
    "        \n",
    "        alpha = np.multiply(alph, np.divide(1, np.add(1, np.multiply(decay, i))))\n",
    "                \n",
    "    return coeffs, mr_lr_ep"
   ]
  },
  {
   "cell_type": "markdown",
   "id": "763a55e4",
   "metadata": {},
   "source": [
    "#### The func which updates the coefficients."
   ]
  },
  {
   "cell_type": "code",
   "execution_count": 38,
   "id": "ce37623e",
   "metadata": {},
   "outputs": [],
   "source": [
    "def update_coefficients(coeffs, alpha, m, predY, df, degree):\n",
    "    for i in range(degree + 1):\n",
    "        coeffs[i] -= np.multiply(alpha, np.multiply(np.divide(1, m), sum(np.multiply(np.subtract(predY, df.iloc[:, -1]), df.iloc[:, i]))))\n",
    "    \n",
    "    return coeffs    "
   ]
  },
  {
   "cell_type": "markdown",
   "id": "ece20a2d",
   "metadata": {},
   "source": [
    "#### The func which calculate the prediction values."
   ]
  },
  {
   "cell_type": "code",
   "execution_count": 33,
   "id": "cc4987ca",
   "metadata": {},
   "outputs": [],
   "source": [
    "def predY_cal(coeffs, df, degree):\n",
    "    sum_ = 0\n",
    "    for i in range(degree + 1):\n",
    "        sum_ += np.multiply(coeffs[i], df.iloc[:, i])\n",
    "        \n",
    "    return sum_"
   ]
  },
  {
   "cell_type": "markdown",
   "id": "3b6773ac",
   "metadata": {},
   "source": [
    "#### The func which calculate miss-rates for the final reports."
   ]
  },
  {
   "cell_type": "code",
   "execution_count": 34,
   "id": "0c1b7d66",
   "metadata": {},
   "outputs": [],
   "source": [
    "def miss_rate(df_train, df_test, train_pred_Y, coeffs, degree, mr_lr_ep):\n",
    "        \n",
    "    tr_MSE = mean_squared_error(df_train.iloc[:, 1], train_pred_Y)\n",
    "    tr_RMSE = mean_squared_error(df_train.iloc[:, 1], train_pred_Y, squared=False)\n",
    "    tr_MAE = mean_absolute_error(df_train.iloc[:, 1], train_pred_Y)\n",
    "    \n",
    "    test_pred_Y = predY_cal(coeffs, df_test, degree=degree)\n",
    "    ts_MSE = mean_squared_error(df_test.iloc[:, -1], test_pred_Y)\n",
    "    ts_RMSE = mean_squared_error(df_test.iloc[:, -1], test_pred_Y, squared=False)\n",
    "    ts_MAE = mean_absolute_error(df_test.iloc[:, -1], test_pred_Y)\n",
    "    \n",
    "    mr_lr_ep[0][0][0].append(tr_MSE)\n",
    "    mr_lr_ep[0][0][1].append(tr_RMSE)\n",
    "    mr_lr_ep[0][0][2].append(tr_MAE)\n",
    "    \n",
    "    mr_lr_ep[0][1][0].append(ts_MSE)\n",
    "    mr_lr_ep[0][1][1].append(ts_RMSE)\n",
    "    mr_lr_ep[0][1][2].append(ts_MAE)\n",
    "        "
   ]
  },
  {
   "cell_type": "markdown",
   "id": "6af87f3b",
   "metadata": {},
   "source": [
    "#### OK, let's blow it up:)"
   ]
  },
  {
   "cell_type": "code",
   "execution_count": 35,
   "id": "3c6e2314",
   "metadata": {},
   "outputs": [
    {
     "data": {
      "image/png": "[encoded data removed]",
      "text/plain": [
       "<Figure size 432x288 with 1 Axes>"
      ]
     },
     "metadata": {
      "needs_background": "light"
     },
     "output_type": "display_data"
    },
    {
     "name": "stdout",
     "output_type": "stream",
     "text": [
      "\n",
      "           MSE: 0.74 , RMSE: 0.86 , MAE: 0.72\n",
      "\n",
      "\n"
     ]
    },
    {
     "ename": "KeyboardInterrupt",
     "evalue": "",
     "output_type": "error",
     "traceback": [
      "\u001b[1;31m---------------------------------------------------------------------------\u001b[0m",
      "\u001b[1;31mKeyboardInterrupt\u001b[0m                         Traceback (most recent call last)",
      "\u001b[1;32m~\\AppData\\Local\\Temp/ipykernel_12124/2824202435.py\u001b[0m in \u001b[0;36m<module>\u001b[1;34m\u001b[0m\n\u001b[0;32m      5\u001b[0m \u001b[1;32mfor\u001b[0m \u001b[0mdegree\u001b[0m \u001b[1;32min\u001b[0m \u001b[0mdegrees\u001b[0m\u001b[1;33m:\u001b[0m\u001b[1;33m\u001b[0m\u001b[1;33m\u001b[0m\u001b[0m\n\u001b[0;32m      6\u001b[0m     \u001b[1;32mfor\u001b[0m \u001b[0mepoch\u001b[0m \u001b[1;32min\u001b[0m \u001b[0mepochs\u001b[0m\u001b[1;33m:\u001b[0m\u001b[1;33m\u001b[0m\u001b[1;33m\u001b[0m\u001b[0m\n\u001b[1;32m----> 7\u001b[1;33m         \u001b[0mcoeffs\u001b[0m\u001b[1;33m,\u001b[0m \u001b[0mmr_lr_ep\u001b[0m \u001b[1;33m=\u001b[0m \u001b[0mgd\u001b[0m\u001b[1;33m(\u001b[0m\u001b[0mepoch\u001b[0m\u001b[1;33m=\u001b[0m\u001b[0mepoch\u001b[0m\u001b[1;33m,\u001b[0m \u001b[0mdegree\u001b[0m\u001b[1;33m=\u001b[0m\u001b[0mdegree\u001b[0m\u001b[1;33m,\u001b[0m \u001b[0mdf_train\u001b[0m\u001b[1;33m=\u001b[0m\u001b[0mtrain\u001b[0m\u001b[1;33m,\u001b[0m \u001b[0mdf_test\u001b[0m\u001b[1;33m=\u001b[0m\u001b[0mtest\u001b[0m\u001b[1;33m,\u001b[0m \u001b[0msize\u001b[0m\u001b[1;33m=\u001b[0m\u001b[0mm\u001b[0m\u001b[1;33m)\u001b[0m\u001b[1;33m\u001b[0m\u001b[1;33m\u001b[0m\u001b[0m\n\u001b[0m\u001b[0;32m      8\u001b[0m         \u001b[0mmr_lr_ep_list\u001b[0m\u001b[1;33m.\u001b[0m\u001b[0mappend\u001b[0m\u001b[1;33m(\u001b[0m\u001b[1;33m[\u001b[0m\u001b[0mmr_lr_ep\u001b[0m\u001b[1;33m,\u001b[0m \u001b[0mdegree\u001b[0m\u001b[1;33m]\u001b[0m\u001b[1;33m)\u001b[0m\u001b[1;33m\u001b[0m\u001b[1;33m\u001b[0m\u001b[0m\n\u001b[0;32m      9\u001b[0m         \u001b[0mprediction\u001b[0m \u001b[1;33m=\u001b[0m \u001b[0mpredY_cal\u001b[0m\u001b[1;33m(\u001b[0m\u001b[0mcoeffs\u001b[0m\u001b[1;33m,\u001b[0m \u001b[0mtest\u001b[0m\u001b[1;33m,\u001b[0m \u001b[0mdegree\u001b[0m\u001b[1;33m=\u001b[0m\u001b[0mdegree\u001b[0m\u001b[1;33m)\u001b[0m\u001b[1;33m\u001b[0m\u001b[1;33m\u001b[0m\u001b[0m\n",
      "\u001b[1;32m~\\AppData\\Local\\Temp/ipykernel_12124/1370936962.py\u001b[0m in \u001b[0;36mgd\u001b[1;34m(epoch, degree, df_train, df_test, size, report)\u001b[0m\n\u001b[0;32m     18\u001b[0m \u001b[1;33m\u001b[0m\u001b[0m\n\u001b[0;32m     19\u001b[0m         \u001b[1;32mif\u001b[0m \u001b[0mreport\u001b[0m\u001b[1;33m:\u001b[0m\u001b[1;33m\u001b[0m\u001b[1;33m\u001b[0m\u001b[0m\n\u001b[1;32m---> 20\u001b[1;33m             \u001b[0mmiss_rate\u001b[0m\u001b[1;33m(\u001b[0m\u001b[0mdf_train\u001b[0m\u001b[1;33m,\u001b[0m \u001b[0mdf_test\u001b[0m\u001b[1;33m,\u001b[0m \u001b[0mpredY\u001b[0m\u001b[1;33m,\u001b[0m \u001b[0mcoeffs\u001b[0m\u001b[1;33m,\u001b[0m \u001b[0mdegree\u001b[0m\u001b[1;33m,\u001b[0m \u001b[0mmr_lr_ep\u001b[0m\u001b[1;33m)\u001b[0m\u001b[1;33m\u001b[0m\u001b[1;33m\u001b[0m\u001b[0m\n\u001b[0m\u001b[0;32m     21\u001b[0m             \u001b[0mmr_lr_ep\u001b[0m\u001b[1;33m[\u001b[0m\u001b[1;36m1\u001b[0m\u001b[1;33m]\u001b[0m\u001b[1;33m.\u001b[0m\u001b[0mappend\u001b[0m\u001b[1;33m(\u001b[0m\u001b[0malpha\u001b[0m\u001b[1;33m)\u001b[0m\u001b[1;33m\u001b[0m\u001b[1;33m\u001b[0m\u001b[0m\n\u001b[0;32m     22\u001b[0m             \u001b[0mmr_lr_ep\u001b[0m\u001b[1;33m[\u001b[0m\u001b[1;36m2\u001b[0m\u001b[1;33m]\u001b[0m\u001b[1;33m.\u001b[0m\u001b[0mappend\u001b[0m\u001b[1;33m(\u001b[0m\u001b[0mi\u001b[0m\u001b[1;33m)\u001b[0m\u001b[1;33m\u001b[0m\u001b[1;33m\u001b[0m\u001b[0m\n",
      "\u001b[1;32m~\\AppData\\Local\\Temp/ipykernel_12124/1019753020.py\u001b[0m in \u001b[0;36mmiss_rate\u001b[1;34m(df_train, df_test, train_pred_Y, coeffs, degree, mr_lr_ep)\u001b[0m\n\u001b[0;32m      7\u001b[0m     \u001b[0mtest_pred_Y\u001b[0m \u001b[1;33m=\u001b[0m \u001b[0mpredY_cal\u001b[0m\u001b[1;33m(\u001b[0m\u001b[0mcoeffs\u001b[0m\u001b[1;33m,\u001b[0m \u001b[0mdf_test\u001b[0m\u001b[1;33m,\u001b[0m \u001b[0mdegree\u001b[0m\u001b[1;33m=\u001b[0m\u001b[0mdegree\u001b[0m\u001b[1;33m)\u001b[0m\u001b[1;33m\u001b[0m\u001b[1;33m\u001b[0m\u001b[0m\n\u001b[0;32m      8\u001b[0m     \u001b[0mts_MSE\u001b[0m \u001b[1;33m=\u001b[0m \u001b[0mmean_squared_error\u001b[0m\u001b[1;33m(\u001b[0m\u001b[0mdf_test\u001b[0m\u001b[1;33m.\u001b[0m\u001b[0miloc\u001b[0m\u001b[1;33m[\u001b[0m\u001b[1;33m:\u001b[0m\u001b[1;33m,\u001b[0m \u001b[1;33m-\u001b[0m\u001b[1;36m1\u001b[0m\u001b[1;33m]\u001b[0m\u001b[1;33m,\u001b[0m \u001b[0mtest_pred_Y\u001b[0m\u001b[1;33m)\u001b[0m\u001b[1;33m\u001b[0m\u001b[1;33m\u001b[0m\u001b[0m\n\u001b[1;32m----> 9\u001b[1;33m     \u001b[0mts_RMSE\u001b[0m \u001b[1;33m=\u001b[0m \u001b[0mmean_squared_error\u001b[0m\u001b[1;33m(\u001b[0m\u001b[0mdf_test\u001b[0m\u001b[1;33m.\u001b[0m\u001b[0miloc\u001b[0m\u001b[1;33m[\u001b[0m\u001b[1;33m:\u001b[0m\u001b[1;33m,\u001b[0m \u001b[1;33m-\u001b[0m\u001b[1;36m1\u001b[0m\u001b[1;33m]\u001b[0m\u001b[1;33m,\u001b[0m \u001b[0mtest_pred_Y\u001b[0m\u001b[1;33m,\u001b[0m \u001b[0msquared\u001b[0m\u001b[1;33m=\u001b[0m\u001b[1;32mFalse\u001b[0m\u001b[1;33m)\u001b[0m\u001b[1;33m\u001b[0m\u001b[1;33m\u001b[0m\u001b[0m\n\u001b[0m\u001b[0;32m     10\u001b[0m     \u001b[0mts_MAE\u001b[0m \u001b[1;33m=\u001b[0m \u001b[0mmean_absolute_error\u001b[0m\u001b[1;33m(\u001b[0m\u001b[0mdf_test\u001b[0m\u001b[1;33m.\u001b[0m\u001b[0miloc\u001b[0m\u001b[1;33m[\u001b[0m\u001b[1;33m:\u001b[0m\u001b[1;33m,\u001b[0m \u001b[1;33m-\u001b[0m\u001b[1;36m1\u001b[0m\u001b[1;33m]\u001b[0m\u001b[1;33m,\u001b[0m \u001b[0mtest_pred_Y\u001b[0m\u001b[1;33m)\u001b[0m\u001b[1;33m\u001b[0m\u001b[1;33m\u001b[0m\u001b[0m\n\u001b[0;32m     11\u001b[0m \u001b[1;33m\u001b[0m\u001b[0m\n",
      "\u001b[1;32m~\\AppData\\Local\\Packages\\PythonSoftwareFoundation.Python.3.9_qbz5n2kfra8p0\\LocalCache\\local-packages\\Python39\\site-packages\\sklearn\\metrics\\_regression.py\u001b[0m in \u001b[0;36mmean_squared_error\u001b[1;34m(y_true, y_pred, sample_weight, multioutput, squared)\u001b[0m\n\u001b[0;32m    424\u001b[0m         \u001b[0my_true\u001b[0m\u001b[1;33m,\u001b[0m \u001b[0my_pred\u001b[0m\u001b[1;33m,\u001b[0m \u001b[0mmultioutput\u001b[0m\u001b[1;33m\u001b[0m\u001b[1;33m\u001b[0m\u001b[0m\n\u001b[0;32m    425\u001b[0m     )\n\u001b[1;32m--> 426\u001b[1;33m     \u001b[0mcheck_consistent_length\u001b[0m\u001b[1;33m(\u001b[0m\u001b[0my_true\u001b[0m\u001b[1;33m,\u001b[0m \u001b[0my_pred\u001b[0m\u001b[1;33m,\u001b[0m \u001b[0msample_weight\u001b[0m\u001b[1;33m)\u001b[0m\u001b[1;33m\u001b[0m\u001b[1;33m\u001b[0m\u001b[0m\n\u001b[0m\u001b[0;32m    427\u001b[0m     \u001b[0moutput_errors\u001b[0m \u001b[1;33m=\u001b[0m \u001b[0mnp\u001b[0m\u001b[1;33m.\u001b[0m\u001b[0maverage\u001b[0m\u001b[1;33m(\u001b[0m\u001b[1;33m(\u001b[0m\u001b[0my_true\u001b[0m \u001b[1;33m-\u001b[0m \u001b[0my_pred\u001b[0m\u001b[1;33m)\u001b[0m \u001b[1;33m**\u001b[0m \u001b[1;36m2\u001b[0m\u001b[1;33m,\u001b[0m \u001b[0maxis\u001b[0m\u001b[1;33m=\u001b[0m\u001b[1;36m0\u001b[0m\u001b[1;33m,\u001b[0m \u001b[0mweights\u001b[0m\u001b[1;33m=\u001b[0m\u001b[0msample_weight\u001b[0m\u001b[1;33m)\u001b[0m\u001b[1;33m\u001b[0m\u001b[1;33m\u001b[0m\u001b[0m\n\u001b[0;32m    428\u001b[0m \u001b[1;33m\u001b[0m\u001b[0m\n",
      "\u001b[1;32m~\\AppData\\Local\\Packages\\PythonSoftwareFoundation.Python.3.9_qbz5n2kfra8p0\\LocalCache\\local-packages\\Python39\\site-packages\\sklearn\\utils\\validation.py\u001b[0m in \u001b[0;36mcheck_consistent_length\u001b[1;34m(*arrays)\u001b[0m\n\u001b[0;32m    327\u001b[0m \u001b[1;33m\u001b[0m\u001b[0m\n\u001b[0;32m    328\u001b[0m     \u001b[0mlengths\u001b[0m \u001b[1;33m=\u001b[0m \u001b[1;33m[\u001b[0m\u001b[0m_num_samples\u001b[0m\u001b[1;33m(\u001b[0m\u001b[0mX\u001b[0m\u001b[1;33m)\u001b[0m \u001b[1;32mfor\u001b[0m \u001b[0mX\u001b[0m \u001b[1;32min\u001b[0m \u001b[0marrays\u001b[0m \u001b[1;32mif\u001b[0m \u001b[0mX\u001b[0m \u001b[1;32mis\u001b[0m \u001b[1;32mnot\u001b[0m \u001b[1;32mNone\u001b[0m\u001b[1;33m]\u001b[0m\u001b[1;33m\u001b[0m\u001b[1;33m\u001b[0m\u001b[0m\n\u001b[1;32m--> 329\u001b[1;33m     \u001b[0muniques\u001b[0m \u001b[1;33m=\u001b[0m \u001b[0mnp\u001b[0m\u001b[1;33m.\u001b[0m\u001b[0munique\u001b[0m\u001b[1;33m(\u001b[0m\u001b[0mlengths\u001b[0m\u001b[1;33m)\u001b[0m\u001b[1;33m\u001b[0m\u001b[1;33m\u001b[0m\u001b[0m\n\u001b[0m\u001b[0;32m    330\u001b[0m     \u001b[1;32mif\u001b[0m \u001b[0mlen\u001b[0m\u001b[1;33m(\u001b[0m\u001b[0muniques\u001b[0m\u001b[1;33m)\u001b[0m \u001b[1;33m>\u001b[0m \u001b[1;36m1\u001b[0m\u001b[1;33m:\u001b[0m\u001b[1;33m\u001b[0m\u001b[1;33m\u001b[0m\u001b[0m\n\u001b[0;32m    331\u001b[0m         raise ValueError(\n",
      "\u001b[1;32m<__array_function__ internals>\u001b[0m in \u001b[0;36munique\u001b[1;34m(*args, **kwargs)\u001b[0m\n",
      "\u001b[1;32m~\\AppData\\Local\\Packages\\PythonSoftwareFoundation.Python.3.9_qbz5n2kfra8p0\\LocalCache\\local-packages\\Python39\\site-packages\\numpy\\lib\\arraysetops.py\u001b[0m in \u001b[0;36munique\u001b[1;34m(ar, return_index, return_inverse, return_counts, axis)\u001b[0m\n\u001b[0;32m    270\u001b[0m     \u001b[0mar\u001b[0m \u001b[1;33m=\u001b[0m \u001b[0mnp\u001b[0m\u001b[1;33m.\u001b[0m\u001b[0masanyarray\u001b[0m\u001b[1;33m(\u001b[0m\u001b[0mar\u001b[0m\u001b[1;33m)\u001b[0m\u001b[1;33m\u001b[0m\u001b[1;33m\u001b[0m\u001b[0m\n\u001b[0;32m    271\u001b[0m     \u001b[1;32mif\u001b[0m \u001b[0maxis\u001b[0m \u001b[1;32mis\u001b[0m \u001b[1;32mNone\u001b[0m\u001b[1;33m:\u001b[0m\u001b[1;33m\u001b[0m\u001b[1;33m\u001b[0m\u001b[0m\n\u001b[1;32m--> 272\u001b[1;33m         \u001b[0mret\u001b[0m \u001b[1;33m=\u001b[0m \u001b[0m_unique1d\u001b[0m\u001b[1;33m(\u001b[0m\u001b[0mar\u001b[0m\u001b[1;33m,\u001b[0m \u001b[0mreturn_index\u001b[0m\u001b[1;33m,\u001b[0m \u001b[0mreturn_inverse\u001b[0m\u001b[1;33m,\u001b[0m \u001b[0mreturn_counts\u001b[0m\u001b[1;33m)\u001b[0m\u001b[1;33m\u001b[0m\u001b[1;33m\u001b[0m\u001b[0m\n\u001b[0m\u001b[0;32m    273\u001b[0m         \u001b[1;32mreturn\u001b[0m \u001b[0m_unpack_tuple\u001b[0m\u001b[1;33m(\u001b[0m\u001b[0mret\u001b[0m\u001b[1;33m)\u001b[0m\u001b[1;33m\u001b[0m\u001b[1;33m\u001b[0m\u001b[0m\n\u001b[0;32m    274\u001b[0m \u001b[1;33m\u001b[0m\u001b[0m\n",
      "\u001b[1;32m~\\AppData\\Local\\Packages\\PythonSoftwareFoundation.Python.3.9_qbz5n2kfra8p0\\LocalCache\\local-packages\\Python39\\site-packages\\numpy\\lib\\arraysetops.py\u001b[0m in \u001b[0;36m_unique1d\u001b[1;34m(ar, return_index, return_inverse, return_counts)\u001b[0m\n\u001b[0;32m    323\u001b[0m     \u001b[0mFind\u001b[0m \u001b[0mthe\u001b[0m \u001b[0munique\u001b[0m \u001b[0melements\u001b[0m \u001b[0mof\u001b[0m \u001b[0man\u001b[0m \u001b[0marray\u001b[0m\u001b[1;33m,\u001b[0m \u001b[0mignoring\u001b[0m \u001b[0mshape\u001b[0m\u001b[1;33m.\u001b[0m\u001b[1;33m\u001b[0m\u001b[1;33m\u001b[0m\u001b[0m\n\u001b[0;32m    324\u001b[0m     \"\"\"\n\u001b[1;32m--> 325\u001b[1;33m     \u001b[0mar\u001b[0m \u001b[1;33m=\u001b[0m \u001b[0mnp\u001b[0m\u001b[1;33m.\u001b[0m\u001b[0masanyarray\u001b[0m\u001b[1;33m(\u001b[0m\u001b[0mar\u001b[0m\u001b[1;33m)\u001b[0m\u001b[1;33m.\u001b[0m\u001b[0mflatten\u001b[0m\u001b[1;33m(\u001b[0m\u001b[1;33m)\u001b[0m\u001b[1;33m\u001b[0m\u001b[1;33m\u001b[0m\u001b[0m\n\u001b[0m\u001b[0;32m    326\u001b[0m \u001b[1;33m\u001b[0m\u001b[0m\n\u001b[0;32m    327\u001b[0m     \u001b[0moptional_indices\u001b[0m \u001b[1;33m=\u001b[0m \u001b[0mreturn_index\u001b[0m \u001b[1;32mor\u001b[0m \u001b[0mreturn_inverse\u001b[0m\u001b[1;33m\u001b[0m\u001b[1;33m\u001b[0m\u001b[0m\n",
      "\u001b[1;31mKeyboardInterrupt\u001b[0m: "
     ]
    }
   ],
   "source": [
    "degrees = [5, 8, 10]\n",
    "epochs = [5000, 10000]\n",
    "mr_lr_ep_list = []\n",
    "\n",
    "for degree in degrees:\n",
    "    for epoch in epochs:\n",
    "        coeffs, mr_lr_ep = gd(epoch=epoch, degree=degree, df_train=train, df_test=test, size=m)\n",
    "        mr_lr_ep_list.append([mr_lr_ep, degree])\n",
    "        prediction = predY_cal(coeffs, test, degree=degree)\n",
    "        \n",
    "        plt.scatter(x_test.iloc[:, 1], prediction, alpha= 0.5, c=['red'] * x_test.shape[0])\n",
    "        plt.scatter(x_test.iloc[:, 1], y_test, alpha= 0.5, c=['green'] * x_test.shape[0])\n",
    "        plt.title('degree: {} , epoch {}'.format(degree, epoch))\n",
    "        plt.show()\n",
    "        \n",
    "        MSE = mean_squared_error(y_test, prediction)\n",
    "        RMSE = mean_squared_error(y_test, prediction, squared=False)\n",
    "        MAE = mean_absolute_error(y_test, prediction)\n",
    "        \n",
    "        print('\\n           MSE: {:.2f} , RMSE: {:.2f} , MAE: {:.2f}\\n\\n'.format(MSE, RMSE, MAE))        "
   ]
  },
  {
   "cell_type": "code",
   "execution_count": null,
   "id": "7ae4e2a2",
   "metadata": {},
   "outputs": [],
   "source": []
  },
  {
   "cell_type": "markdown",
   "id": "0d35909d",
   "metadata": {},
   "source": [
    "#### Part D"
   ]
  },
  {
   "cell_type": "code",
   "execution_count": null,
   "id": "4d2dd720",
   "metadata": {},
   "outputs": [],
   "source": [
    "for ele in mr_lr_ep_list:\n",
    "    plt.figure(figsize=(30, 10))\n",
    "    plt.ylim([0.45, 1])\n",
    "    plt.title('degree: {} , epoch {}'.format(ele[1], len(ele[0][2])))\n",
    "    plt.plot(ele[0][2], ele[0][0][1][0], 'g', label='MSE')\n",
    "    plt.plot(ele[0][2], ele[0][0][1][1], 'r', label='RMSE')\n",
    "    plt.plot(ele[0][2], ele[0][0][1][2], 'b', label='MAE')\n",
    "    plt.legend()        \n",
    "    plt.show()\n",
    "    \n",
    "    plt.figure(figsize=(15, 10))\n",
    "    plt.title('epoch {}'.format(len(ele[0][2])))\n",
    "    plt.plot(ele[0][2], ele[0][3], 'c', label='Learning rate')\n",
    "    plt.legend()        \n",
    "    plt.show()"
   ]
  },
  {
   "cell_type": "code",
   "execution_count": null,
   "id": "7fa63de8",
   "metadata": {},
   "outputs": [],
   "source": []
  },
  {
   "cell_type": "markdown",
   "id": "166a4d98",
   "metadata": {},
   "source": [
    "#### Part H:"
   ]
  },
  {
   "cell_type": "markdown",
   "id": "4f563f02",
   "metadata": {},
   "source": [
    "#### Normal Equation"
   ]
  },
  {
   "cell_type": "code",
   "execution_count": null,
   "id": "7a4587b3",
   "metadata": {},
   "outputs": [],
   "source": [
    "def ne(df_train, df_test, degree):\n",
    "    X = df_train.iloc[:, :degree + 1]\n",
    "    y = df_train.iloc[:, -1:]\n",
    "    \n",
    "    coeffs = np.dot(np.linalg.inv(np.dot(X.T, X)), np.dot(X.T, y))\n",
    "    pred_Y = predY_cal(coeffs, df_test, degree)\n",
    "    \n",
    "    plt.scatter(df_test.iloc[:, 1], pred_Y, alpha= 0.5, c=['red'] * df_test.shape[0])\n",
    "    plt.scatter(df_test.iloc[:, 1], df_test.iloc[:, -1:], alpha= 0.5, c=['green'] * df_test.shape[0])\n",
    "    plt.title('degree: {} '.format(degree))\n",
    "    plt.show()\n",
    "    \n",
    "    MSE = mean_squared_error(df_test.iloc[:, -1:], pred_Y)\n",
    "    RMSE = mean_squared_error(df_test.iloc[:, -1:], pred_Y, squared=False)\n",
    "    MAE = mean_absolute_error(df_test.iloc[:, -1:], pred_Y)\n",
    "    \n",
    "    print('\\n           MSE: {:.2f} , RMSE: {:.2f} , MAE: {:.2f}\\n\\n'.format(MSE, RMSE, MAE))"
   ]
  },
  {
   "cell_type": "markdown",
   "id": "2497330d",
   "metadata": {},
   "source": [
    "#### Here we go"
   ]
  },
  {
   "cell_type": "code",
   "execution_count": null,
   "id": "ee977a37",
   "metadata": {},
   "outputs": [],
   "source": [
    "for degree in degrees:\n",
    "    ne(train, test, degree=degree)"
   ]
  },
  {
   "cell_type": "code",
   "execution_count": null,
   "id": "8d2453f2",
   "metadata": {},
   "outputs": [],
   "source": []
  },
  {
   "cell_type": "markdown",
   "id": "216d5f8c",
   "metadata": {},
   "source": [
    "#### Part V"
   ]
  },
  {
   "cell_type": "code",
   "execution_count": null,
   "id": "7c6e2db5",
   "metadata": {},
   "outputs": [],
   "source": [
    "degree = 8\n",
    "lambdas = [0, 0.5, 1, 5]\n",
    "\n",
    "for lambda_ in lambdas:\n",
    "    \n",
    "    i_matrix = np.identity(degree + 1)\n",
    "    i_matrix[0][0] = 0\n",
    "    \n",
    "    X = train.iloc[:, :degree + 1]\n",
    "    y = train.iloc[:, -1:]\n",
    "\n",
    "    coeffs = np.dot(np.linalg.inv(np.add(np.dot(X.T, X), np.multiply(lambda_, i_matrix))), np.dot(X.T, y))\n",
    "    train_pred_Y = predY_cal(coeffs, train, degree)\n",
    "    test_pred_Y = predY_cal(coeffs, test, degree)\n",
    "\n",
    "    plt.scatter(train.iloc[:, 1], train_pred_Y, alpha= 0.5, c=['red'] * train.shape[0])\n",
    "    plt.scatter(train.iloc[:, 1], train.iloc[:, -1:], alpha= 0.5, c=['green'] * train.shape[0])\n",
    "    plt.title('Train: lambda: {} '.format(lambda_))\n",
    "    plt.show()\n",
    "    \n",
    "    plt.scatter(test.iloc[:, 1], test_pred_Y, alpha= 0.5, c=['red'] * test.shape[0])\n",
    "    plt.scatter(test.iloc[:, 1], test.iloc[:, -1:], alpha= 0.5, c=['green'] * test.shape[0])\n",
    "    plt.title('Test : lambda: {} '.format(lambda_))\n",
    "    plt.show()\n",
    "    \n",
    "    train_RMSE = mean_squared_error(train.iloc[:, -1:], train_pred_Y, squared=False)\n",
    "    test_RMSE = mean_squared_error(test.iloc[:, -1:], test_pred_Y, squared=False)\n",
    "                    \n",
    "    \n",
    "    print('\\n           train RMSE: {:.2f} , test RMSE: {:.2f} \\n\\n'.format(train_RMSE, test_RMSE))"
   ]
  },
  {
   "cell_type": "code",
   "execution_count": null,
   "id": "95d71afc",
   "metadata": {},
   "outputs": [],
   "source": []
  },
  {
   "cell_type": "markdown",
   "id": "b29c2918",
   "metadata": {},
   "source": [
    "#### Finito ;)"
   ]
  }
 ],
 "metadata": {
  "kernelspec": {
   "display_name": "Python 3 (ipykernel)",
   "language": "python",
   "name": "python3"
  },
  "language_info": {
   "codemirror_mode": {
    "name": "ipython",
    "version": 3
   },
   "file_extension": ".py",
   "mimetype": "text/x-python",
   "name": "python",
   "nbconvert_exporter": "python",
   "pygments_lexer": "ipython3",
   "version": "3.9.9"
  }
 },
 "nbformat": 4,
 "nbformat_minor": 5
}
