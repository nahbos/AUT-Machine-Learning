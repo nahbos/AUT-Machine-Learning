{
 "cells": [
  {
   "cell_type": "markdown",
   "metadata": {},
   "source": [
    "### Copyright (C) 2022 Sobhan Moradian Daghigh and s.o who's unknown :)\n",
    "### Date: 2/20/2022 "
   ]
  },
  {
   "cell_type": "code",
   "execution_count": null,
   "metadata": {},
   "outputs": [],
   "source": []
  },
  {
   "cell_type": "code",
   "execution_count": 214,
   "metadata": {
    "id": "mBMoPLmGbrIn"
   },
   "outputs": [],
   "source": [
    "from amalearn.reward import RewardBase\n",
    "from amalearn.agent import AgentBase\n",
    "from amalearn.environment import EnvironmentBase\n",
    "from matplotlib.patches import Rectangle\n",
    "import matplotlib.pyplot as plt\n",
    "import numpy as np\n",
    "import gym"
   ]
  },
  {
   "cell_type": "code",
   "execution_count": null,
   "metadata": {},
   "outputs": [],
   "source": []
  },
  {
   "cell_type": "code",
   "execution_count": null,
   "metadata": {},
   "outputs": [],
   "source": []
  },
  {
   "cell_type": "code",
   "execution_count": null,
   "metadata": {},
   "outputs": [],
   "source": []
  },
  {
   "cell_type": "code",
   "execution_count": 572,
   "metadata": {
    "id": "pH6sNHxPbrIs"
   },
   "outputs": [],
   "source": [
    "class Environment(EnvironmentBase):\n",
    "    \n",
    "    obstacles = [(1, 7), (1, 8), (2, 7), (2, 8), (3, 7), (3, 8), (4, 7), (4, 8),\n",
    "                (12, 6), (12, 7), (13, 6), (13, 7), (14, 6), (14, 7), (15, 6), (15, 7),\n",
    "                (8, 13), (8, 14), (8, 15), (9, 13), (9, 14), (9, 15)]\n",
    "    \n",
    "    def __init__(self, actionPrice, goalReward, punish, obstacles=obstacles, i_limit=15, j_limit=15, p=0.8, goal=(1, 1), start=(15, 15), container=None):\n",
    "        \"\"\" initialize your variables \"\"\"\n",
    "        \n",
    "        state_space = gym.spaces.MultiDiscrete([i_limit, j_limit])\n",
    "        action_space = gym.spaces.Discrete(9)\n",
    "        super(Environment, self).__init__(action_space, state_space, container)\n",
    "        self.state_space = state_space\n",
    "        self.obstacles = obstacles\n",
    "        self.actionPrice = actionPrice\n",
    "        self.goalReward = goalReward\n",
    "        self.punish = punish\n",
    "        self.i_limit = i_limit\n",
    "        self.j_limit = j_limit\n",
    "        self.p = p\n",
    "        self.goal = goal\n",
    "        self.start = start\n",
    "        self.state = start\n",
    "        self.state_p = None\n",
    "        \n",
    "        \n",
    "    # -------------------------------------------------------------------------------------------------------------    \n",
    "    def isStatePossible(self, state):\n",
    "        \"\"\"if given state is possible (not out of the grid and not obstacle) return ture\"\"\"\n",
    "        \n",
    "        i_in = range(1, self.i_limit + 1)\n",
    "        j_in = range(1, self.j_limit + 1)\n",
    "        \n",
    "        return False if state in self.obstacles or state[0] not in i_in or state[1] not in j_in else True\n",
    "    \n",
    "    \n",
    "    # -------------------------------------------------------------------------------------------------------------\n",
    "    def isAccessible(self, state, state_p):\n",
    "        \"\"\"if given state is Accesible (we can reach state_p by doing an action from state) return true\"\"\"\n",
    "\n",
    "        if self.isStatePossible(state) and self.isStatePossible(state_p):\n",
    "            if (np.abs(np.subtract(state, state_p)) <= (1, 1)).all():\n",
    "                return True\n",
    "        return False\n",
    "    \n",
    "    \n",
    "    # -------------------------------------------------------------------------------------------------------------\n",
    "    def getTransitionStatesAndProbs(self, state, action, state_p):\n",
    "        \"\"\"return probability of transition or T(sp,a,s)\"\"\"\n",
    "\n",
    "        _, actions = self.available_actions(state)\n",
    "        if action in actions:\n",
    "            available_states = self.available_states(actions, state)\n",
    "            \n",
    "            if self.next_state(action, state) == state_p:\n",
    "                return self.p\n",
    "            \n",
    "            elif state_p in available_states:\n",
    "                return (1 - self.p) / (len(available_states) - 1)\n",
    "            \n",
    "            else: return 0\n",
    "        \n",
    "        else: return 0\n",
    "    \n",
    "    # -------------------------------------------------------------------------------------------------------------\n",
    "    def getReward(self, state, action, state_p):\n",
    "        \"\"\"return reward of transition\"\"\"\n",
    "        \n",
    "        # The Goal Achieved\n",
    "        if state_p == self.goal:\n",
    "            return self.goalReward\n",
    "        \n",
    "        elif self.isAccessible(state, state_p):\n",
    "            return self.actionPrice\n",
    "        \n",
    "        # Hit the obstacles\n",
    "        else:\n",
    "            return self.punish\n",
    "        \n",
    "            \n",
    "    # -------------------------------------------------------------------------------------------------------------\n",
    "    def calculate_reward(self, action):\n",
    "#         probabilities = []\n",
    "#         for i in range(-1, 2):\n",
    "#             for j in range(-1, 2):\n",
    "#                 state_p = self.next_state((i, j), self.state)\n",
    "#                 probabilities.append(self.getTransitionStatesAndProbs(self.state, action, state_p))\n",
    "        \n",
    "#         _, available_actions = self.available_actions(self.state)\n",
    "#         move = available_actions[np.random.choice(len(available_actions), p=list(filter(lambda num: num != 0, probabilities)))]\n",
    "#         self.state_p = tuple(np.add(move, self.state))\n",
    "#         return self.state_p\n",
    "        pass\n",
    "    \n",
    "    # -------------------------------------------------------------------------------------------------------------\n",
    "    def terminated(self, state):\n",
    "        return state == self.goal\n",
    "    \n",
    "    \n",
    "    # -------------------------------------------------------------------------------------------------------------\n",
    "    def available_actions(self, state):\n",
    "        actions = []\n",
    "        numbers = []\n",
    "        num = 0\n",
    "        for i in range(-1, 2):\n",
    "            for j in range(-1, 2):\n",
    "                state_p = tuple(np.add(state, (j, i)))\n",
    "                if self.isAccessible(state, state_p):\n",
    "                    actions.append((j, i))\n",
    "                    numbers.append(num)\n",
    "                num += 1\n",
    "                    \n",
    "        return numbers, actions\n",
    "    \n",
    "    \n",
    "    # -------------------------------------------------------------------------------------------------------------\n",
    "    def action_num2dim(self, num):\n",
    "        if num < 3:\n",
    "            return (np.mod(num, 3) -1, -1)\n",
    "        elif num < 6:\n",
    "            return (np.mod(num, 3) -1, 0)\n",
    "        else:\n",
    "            return (np.mod(num, 3) -1, 1)\n",
    "        \n",
    "        \n",
    "    # -------------------------------------------------------------------------------------------------------------\n",
    "    def get_states(self):\n",
    "        states = []\n",
    "        for i in range(self.i_limit + 1, 0, -1):\n",
    "            for j in range(self.j_limit + 1, 0, -1):\n",
    "                if self.isStatePossible((i, j)):\n",
    "                    states.append((i, j))\n",
    "        return states\n",
    "    \n",
    "    \n",
    "    # -------------------------------------------------------------------------------------------------------------\n",
    "    def available_states(self, actions, state):\n",
    "        states_p = []\n",
    "        for action in actions:\n",
    "            states_p.append(self.next_state(action, state))\n",
    "        return states_p\n",
    "                \n",
    "    \n",
    "    # -------------------------------------------------------------------------------------------------------------\n",
    "    def next_state(self, action, state):\n",
    "        return tuple(np.add(state, action))\n",
    "\n",
    "    \n",
    "    # -------------------------------------------------------------------------------------------------------------\n",
    "    def reset(self):\n",
    "        self.state = self.start\n",
    "        \n",
    "        \n",
    "    # -------------------------------------------------------------------------------------------------------------\n",
    "    def observe(self):\n",
    "        return self.state\n",
    "    \n",
    "    \n",
    "    # -------------------------------------------------------------------------------------------------------------\n",
    "    def render(self):\n",
    "        return \n",
    "    \n",
    "    \n",
    "    # -------------------------------------------------------------------------------------------------------------\n",
    "    def close(self):\n",
    "        return\n",
    "    "
   ]
  },
  {
   "cell_type": "code",
   "execution_count": null,
   "metadata": {},
   "outputs": [],
   "source": []
  },
  {
   "cell_type": "code",
   "execution_count": null,
   "metadata": {},
   "outputs": [],
   "source": []
  },
  {
   "cell_type": "code",
   "execution_count": 585,
   "metadata": {
    "id": "898Jlhsycyes"
   },
   "outputs": [],
   "source": [
    "class Agent(AgentBase):\n",
    "    def __init__(self, environment, theta=0.1, discount=0.9):\n",
    "        #initialize a random policy and V(s) = 0 for each state\n",
    "        self.environment = environment\n",
    "\n",
    "        self.width  = self.environment.i_limit\n",
    "        self.height = self.environment.j_limit\n",
    "        \n",
    "        #init V\n",
    "        self.V = [[0.0] * (self.width + 1) for _ in range(self.height + 1)]\n",
    "        \n",
    "        #init policy\n",
    "        self.policy = np.random.randint(0, 9, (self.width + 1, self.height + 1))\n",
    "        \n",
    "        super(Agent, self).__init__(id, environment)\n",
    "        self.discount = discount\n",
    "        self.theta = theta\n",
    "        \n",
    "    \n",
    "    # -------------------------------------------------------------------------------------------------------------\n",
    "    def policy_evaluation(self):        \n",
    "        while True:\n",
    "            delta = 0.01 #TODO\n",
    "            pre_delta = delta\n",
    "            for state in self.environment.get_states():\n",
    "                v = self.V[state[0]][state[1]]                \n",
    "                action = self.policy[state[0]][state[1]]                \n",
    "                numbers, actions = self.environment.available_actions(state)\n",
    "                value = 0\n",
    "                for act in actions:\n",
    "                    state_p = self.environment.next_state(act, state)\n",
    "                    reward = self.environment.getReward(state, action_num2dim(action), state_p)\n",
    "                    probability = self.environment.getTransitionStatesAndProbs(state, action_num2dim(action), state_p)\n",
    "                    value += probability * (reward + self.discount * self.V[state_p[0]][state_p[1]])\n",
    "\n",
    "                self.V[state[0]][state[1]] = value\n",
    "                delta = max([delta, np.abs(v - self.V[state[0]][state[1]])])\n",
    "\n",
    "            if delta < self.theta or delta == pre_delta:\n",
    "                break\n",
    "                \n",
    "            pre_delta = delta\n",
    "                \n",
    "        return self.V\n",
    "                    \n",
    "        \n",
    "    # -------------------------------------------------------------------------------------------------------------\n",
    "    def policy_improvement(self):\n",
    "        unchanged = False\n",
    "        for state in self.environment.get_states():\n",
    "            pre_action = self.policy[state[0]][state[1]]\n",
    "            acts = []\n",
    "            numbers, actions = self.environment.available_actions(state)\n",
    "            for _, act1 in zip(numbers, actions):\n",
    "                value = 0\n",
    "                for _, act2 in zip(numbers, actions):\n",
    "                    state_p = self.environment.next_state(act2, state)\n",
    "                    reward = self.environment.getReward(state, act1, state_p)                    \n",
    "                    probability = self.environment.getTransitionStatesAndProbs(state, act1, state_p)\n",
    "                    value += probability * (reward + self.discount * self.V[state_p[0]][state_p[1]])\n",
    "                acts.append(value)\n",
    "            best_act = np.argmax(acts)\n",
    "            self.policy[state[0]][state[1]] = numbers[best_act]\n",
    "            \n",
    "            if numbers[best_act] == pre_action:\n",
    "                unchanged = True\n",
    "        return unchanged\n",
    "    \n",
    "    \n",
    "    # -------------------------------------------------------------------------------------------------------------\n",
    "    def policy_iteration(self):\n",
    "        unchanged = False\n",
    "        while not unchanged:\n",
    "            self.V = self.policy_evaluation()\n",
    "            unchanged = self.policy_improvement()\n",
    "    \n",
    "    \n",
    "    # -------------------------------------------------------------------------------------------------------------\n",
    "    def take_action(self) -> (object, float, bool, object):\n",
    "        self.policy_iteration()\n",
    "                    \n",
    "    \n",
    "    # -------------------------------------------------------------------------------------------------------------\n",
    "    def visualize_policy(self):\n",
    "        \n",
    "        fig, ax = plt.subplots()\n",
    "        policy = self.policy[1:, 1:].T\n",
    "\n",
    "        ax.matshow(policy, cmap='summer')\n",
    "        for i in range(self.width):\n",
    "            for j in range(self.height):\n",
    "                c = policy[i, j]\n",
    "                ax.text(i, j, str(c), va='center', ha='center')\n",
    "        plt.axis('off')\n",
    "        plt.show()\n",
    "        \n",
    "    # -------------------------------------------------------------------------------------------------------------\n",
    "    def get_path(self):\n",
    "        path = []\n",
    "        states = []\n",
    "        start = self.environment.start\n",
    "        curr = start\n",
    "        while True:\n",
    "            num = self.policy[curr[0]][curr[1]]\n",
    "            path.append(num)\n",
    "            states.append(curr)\n",
    "            direction = self.environment.action_num2dim(num)\n",
    "            curr = tuple(np.add(curr, direction))\n",
    "            if self.environment.terminated(curr):\n",
    "                break\n",
    "        return path, states[1:]"
   ]
  },
  {
   "cell_type": "code",
   "execution_count": null,
   "metadata": {},
   "outputs": [],
   "source": []
  },
  {
   "cell_type": "code",
   "execution_count": 601,
   "metadata": {},
   "outputs": [],
   "source": [
    "def plotter(environment, agent):\n",
    "    plt.gcf().set_size_inches(10, 10)\n",
    "    \n",
    "    plt.gca().set_xticks(range(1, environment.i_limit + 1))\n",
    "    plt.gca().set_yticks(range(environment.j_limit, 0, -1))\n",
    "\n",
    "#     path, states = agent.get_path()\n",
    "    no = 1\n",
    "    for i in range(environment.i_limit, 0, -1):\n",
    "        temp = (environment.i_limit + 1) - i\n",
    "        for j in range(environment.j_limit, 0, -1):\n",
    "            if (i, j) == environment.start:\n",
    "                plt.gca().text(j - 0.5, temp - 0.5, str(no), va='center', ha='center')\n",
    "                plt.gca().add_patch(Rectangle((j, temp), -1, -1, fill=True, color='purple', alpha=0.5))\n",
    "                no += 1\n",
    "            \n",
    "            if (i, j) in environment.obstacles:\n",
    "                plt.gca().add_patch(Rectangle((j, temp), -1, -1, fill=True, color='black', alpha=0.5))\n",
    "                \n",
    "#             elif (i, j) in states:\n",
    "#                 num = path[states.index((i, j))]\n",
    "#                 direction = environment.action_num2dim(num)\n",
    "                \n",
    "#                 plt.gca().text(j - 0.5, temp - 0.5, str(no), va='center', ha='center')\n",
    "#                 plt.gca().add_patch(Rectangle((j, temp), -1, -1, fill=True, color='blue', alpha=0.5))\n",
    "#                 no += 1\n",
    "                \n",
    "            elif (i, j) == environment.goal:\n",
    "                plt.gca().text(j - 0.5, temp - 0.5, str(no), va='center', ha='center')\n",
    "                plt.gca().add_patch(Rectangle((j, temp), -1, -1, fill=True, color='green', alpha=0.5))\n",
    "\n",
    "    plt.grid(True)\n",
    "    plt.show()"
   ]
  },
  {
   "cell_type": "code",
   "execution_count": null,
   "metadata": {},
   "outputs": [],
   "source": []
  },
  {
   "cell_type": "code",
   "execution_count": 602,
   "metadata": {},
   "outputs": [
    {
     "data": {
      "image/png": "[encoded data removed]",
      "text/plain": [
       "<Figure size 432x288 with 1 Axes>"
      ]
     },
     "metadata": {
      "needs_background": "light"
     },
     "output_type": "display_data"
    },
    {
     "data": {
      "image/png": "[encoded data removed]",
      "text/plain": [
       "<Figure size 432x288 with 1 Axes>"
      ]
     },
     "metadata": {
      "needs_background": "light"
     },
     "output_type": "display_data"
    },
    {
     "data": {
      "image/png": "[encoded data removed]",
      "text/plain": [
       "<Figure size 720x720 with 1 Axes>"
      ]
     },
     "metadata": {
      "needs_background": "light"
     },
     "output_type": "display_data"
    }
   ],
   "source": [
    "environment = Environment(actionPrice = -0.01, goalReward= 1000, punish = -1, i_limit=15, j_limit=15, start=(15, 15))\n",
    "agent = Agent(environment, theta=10)\n",
    "agent.visualize_policy()\n",
    "agent.take_action()\n",
    "agent.visualize_policy()\n",
    "plotter(environment, agent)"
   ]
  },
  {
   "cell_type": "code",
   "execution_count": null,
   "metadata": {},
   "outputs": [],
   "source": []
  },
  {
   "cell_type": "code",
   "execution_count": 588,
   "metadata": {},
   "outputs": [
    {
     "data": {
      "image/png": "[encoded data removed]",
      "text/plain": [
       "<Figure size 432x288 with 1 Axes>"
      ]
     },
     "metadata": {
      "needs_background": "light"
     },
     "output_type": "display_data"
    },
    {
     "data": {
      "image/png": "[encoded data removed]",
      "text/plain": [
       "<Figure size 432x288 with 1 Axes>"
      ]
     },
     "metadata": {
      "needs_background": "light"
     },
     "output_type": "display_data"
    },
    {
     "data": {
      "image/png": "[encoded data removed]",
      "text/plain": [
       "<Figure size 720x720 with 1 Axes>"
      ]
     },
     "metadata": {
      "needs_background": "light"
     },
     "output_type": "display_data"
    }
   ],
   "source": [
    "environment = Environment(actionPrice = -0.01, goalReward= 1000, punish = -1, i_limit=5, j_limit=5, start=(5, 5))\n",
    "agent = Agent(environment, theta=0)\n",
    "agent.visualize_policy()\n",
    "agent.take_action()\n",
    "agent.visualize_policy()\n",
    "plotter(environment, agent)"
   ]
  },
  {
   "cell_type": "code",
   "execution_count": null,
   "metadata": {},
   "outputs": [],
   "source": []
  },
  {
   "cell_type": "code",
   "execution_count": 589,
   "metadata": {},
   "outputs": [
    {
     "data": {
      "image/png": "[encoded data removed]",
      "text/plain": [
       "<Figure size 720x720 with 1 Axes>"
      ]
     },
     "metadata": {
      "needs_background": "light"
     },
     "output_type": "display_data"
    }
   ],
   "source": [
    "plotter(environment, agent)"
   ]
  },
  {
   "cell_type": "code",
   "execution_count": null,
   "metadata": {},
   "outputs": [],
   "source": []
  },
  {
   "cell_type": "code",
   "execution_count": null,
   "metadata": {},
   "outputs": [],
   "source": []
  },
  {
   "cell_type": "code",
   "execution_count": null,
   "metadata": {},
   "outputs": [],
   "source": []
  }
 ],
 "metadata": {
  "colab": {
   "name": "env.ipynb",
   "provenance": []
  },
  "interpreter": {
   "hash": "83fad98a7911d3a2a55c2e5234aea09e74d0252d0d10d90172c6e09f21426bdf"
  },
  "kernelspec": {
   "display_name": "Python 3 (ipykernel)",
   "language": "python",
   "name": "python3"
  },
  "language_info": {
   "codemirror_mode": {
    "name": "ipython",
    "version": 3
   },
   "file_extension": ".py",
   "mimetype": "text/x-python",
   "name": "python",
   "nbconvert_exporter": "python",
   "pygments_lexer": "ipython3",
   "version": "3.10.1"
  }
 },
 "nbformat": 4,
 "nbformat_minor": 1
}
