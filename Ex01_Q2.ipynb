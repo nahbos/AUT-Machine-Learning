{
 "cells": [
  {
   "cell_type": "markdown",
   "id": "07af6864",
   "metadata": {},
   "source": [
    "### - Sobhan Moradian Daghigh\n",
    "#### - 11/25/2021\n",
    "#### \n",
    "#### - ML - EX01 - Q1\n",
    "##### "
   ]
  },
  {
   "cell_type": "code",
   "execution_count": null,
   "id": "ced110b4",
   "metadata": {},
   "outputs": [],
   "source": [
    "import pandas as pd\n",
    "import numpy as np\n",
    "import matplotlib.pyplot as plt\n",
    "from sklearn.model_selection import train_test_split\n",
    "from sklearn.metrics import mean_squared_error, mean_absolute_error, r2_score\n",
    "import seaborn as sns\n",
    "import import_ipynb\n",
    "from sklearn import preprocessing"
   ]
  },
  {
   "cell_type": "markdown",
   "id": "f7852e79",
   "metadata": {},
   "source": [
    "#### Reading the dataset"
   ]
  },
  {
   "cell_type": "code",
   "execution_count": null,
   "id": "7f030c01",
   "metadata": {},
   "outputs": [],
   "source": [
    "dataset = pd.read_excel('./ML-HW01/dataset2/CSM_dataset.xlsx')\n",
    "dataset.head()"
   ]
  },
  {
   "cell_type": "code",
   "execution_count": null,
   "id": "ac6d3671",
   "metadata": {},
   "outputs": [],
   "source": [
    "dataset.info()"
   ]
  },
  {
   "cell_type": "markdown",
   "id": "222a6cae",
   "metadata": {},
   "source": [
    "#### Part A:"
   ]
  },
  {
   "cell_type": "code",
   "execution_count": null,
   "id": "14f15667",
   "metadata": {},
   "outputs": [],
   "source": [
    "dataset.isnull().sum()"
   ]
  },
  {
   "cell_type": "markdown",
   "id": "0226ef5f",
   "metadata": {},
   "source": [
    "#### So we have missing values for cols 'Budget', 'Screens' and 'Aggregate Followers'"
   ]
  },
  {
   "cell_type": "markdown",
   "id": "deabd765",
   "metadata": {},
   "source": [
    "#### But before trying to handle these, Im wanna see the correlation matrix to determine how to fill in the missing values."
   ]
  },
  {
   "cell_type": "code",
   "execution_count": null,
   "id": "e709824b",
   "metadata": {},
   "outputs": [],
   "source": [
    "dataset.corr().style.background_gradient(cmap='coolwarm')"
   ]
  },
  {
   "cell_type": "markdown",
   "id": "86cb5460",
   "metadata": {},
   "source": [
    "#### OK lets do filling"
   ]
  },
  {
   "cell_type": "markdown",
   "id": "fd5a1b78",
   "metadata": {},
   "source": [
    "#### Screens:"
   ]
  },
  {
   "cell_type": "code",
   "execution_count": null,
   "id": "2b215c8f",
   "metadata": {},
   "outputs": [],
   "source": [
    "dataset['C2D_Gross'] = pd.cut(dataset.Gross, bins=[0, 30000000, 100000000, 1000000000],labels=['NotGood', 'Good', 'Awesome'])\n",
    "groups = dataset.groupby(by=['C2D_Gross'])\n",
    "groups.first()"
   ]
  },
  {
   "cell_type": "code",
   "execution_count": null,
   "id": "46b5d659",
   "metadata": {},
   "outputs": [],
   "source": [
    "for grp, pdf in groups:\n",
    "    lst = dataset.loc[(dataset.C2D_Gross == grp) & (dataset.Screens.notnull())]['Screens'].tolist()\n",
    "    if lst:\n",
    "        mean = np.mean(lst)\n",
    "        dataset.loc[(dataset.C2D_Gross == grp) & (dataset.Screens.isnull()), ['Screens']] = round(mean)"
   ]
  },
  {
   "cell_type": "code",
   "execution_count": null,
   "id": "d643fe6a",
   "metadata": {},
   "outputs": [],
   "source": [
    "dataset.isnull().sum()"
   ]
  },
  {
   "cell_type": "markdown",
   "id": "77d31edd",
   "metadata": {},
   "source": [
    "#### Budget:"
   ]
  },
  {
   "cell_type": "code",
   "execution_count": null,
   "id": "c30cdabf",
   "metadata": {},
   "outputs": [],
   "source": [
    "groups = dataset.groupby(by=['Genre'])\n",
    "groups.first()"
   ]
  },
  {
   "cell_type": "code",
   "execution_count": null,
   "id": "f8584619",
   "metadata": {},
   "outputs": [],
   "source": [
    "for grp, pdf in groups:\n",
    "    lst = dataset.loc[(dataset.Genre == grp) & (dataset.Budget.notnull())]['Budget'].tolist()\n",
    "    if lst:\n",
    "        mean = np.mean(lst)\n",
    "        dataset.loc[(dataset.Genre == grp) & (dataset.Budget.isnull()), ['Budget']] = round(mean)"
   ]
  },
  {
   "cell_type": "code",
   "execution_count": null,
   "id": "10f6aa85",
   "metadata": {},
   "outputs": [],
   "source": [
    "dataset.isnull().sum()"
   ]
  },
  {
   "cell_type": "markdown",
   "id": "378fa4c8",
   "metadata": {},
   "source": [
    "#### Aggregate Followers:"
   ]
  },
  {
   "cell_type": "code",
   "execution_count": null,
   "id": "97db3e94",
   "metadata": {},
   "outputs": [],
   "source": [
    "groups = dataset.groupby(by=['C2D_Gross', 'Genre'])\n",
    "groups.first()"
   ]
  },
  {
   "cell_type": "code",
   "execution_count": null,
   "id": "afbe45f6",
   "metadata": {},
   "outputs": [],
   "source": [
    "for grp, pdf in groups:\n",
    "    lst = dataset.loc[(dataset.C2D_Gross == grp[0]) & (dataset.Genre == grp[1]) & (dataset.loc[:, 'Aggregate Followers'].notnull())]['Aggregate Followers'].tolist()\n",
    "    if lst:\n",
    "        mean = np.mean(lst)\n",
    "        dataset.loc[(dataset.C2D_Gross == grp[0]) & (dataset.Genre == grp[1]) & (dataset.loc[:, 'Aggregate Followers'].isnull()), ['Aggregate Followers']] = round(mean)\n",
    "        \n",
    "    lst = dataset.loc[(dataset.C2D_Gross == grp[0]) & (dataset.loc[:, 'Aggregate Followers'].notnull())]['Aggregate Followers'].tolist()\n",
    "    if lst:\n",
    "        mean = np.mean(lst)\n",
    "        dataset.loc[(dataset.C2D_Gross == grp[0]) & (dataset.loc[:, 'Aggregate Followers'].isnull()), ['Aggregate Followers']] = round(mean)"
   ]
  },
  {
   "cell_type": "code",
   "execution_count": null,
   "id": "dc3bc734",
   "metadata": {},
   "outputs": [],
   "source": [
    "dataset.pop('C2D_Gross')\n",
    "dataset.isnull().sum()"
   ]
  },
  {
   "cell_type": "markdown",
   "id": "2ef3fb08",
   "metadata": {},
   "source": [
    "#### All the missing values handled."
   ]
  },
  {
   "cell_type": "markdown",
   "id": "08c709fc",
   "metadata": {},
   "source": [
    "#### Part B:"
   ]
  },
  {
   "cell_type": "code",
   "execution_count": null,
   "id": "b5d9026d",
   "metadata": {},
   "outputs": [],
   "source": [
    "# sns.set(style=\"ticks\", color_codes=True)    \n",
    "# g = sns.pairplot(dataset)\n",
    "# plt.show()"
   ]
  },
  {
   "cell_type": "code",
   "execution_count": null,
   "id": "20cf8a52",
   "metadata": {},
   "outputs": [],
   "source": []
  },
  {
   "cell_type": "markdown",
   "id": "de6911c0",
   "metadata": {},
   "source": [
    "#### Part D:"
   ]
  },
  {
   "cell_type": "code",
   "execution_count": null,
   "id": "b5b55d0d",
   "metadata": {},
   "outputs": [],
   "source": [
    "import Ex01_Q1 as Q1"
   ]
  },
  {
   "cell_type": "code",
   "execution_count": null,
   "id": "92756945",
   "metadata": {},
   "outputs": [],
   "source": [
    "dataset['Ratings'] = dataset.pop('Ratings')\n",
    "dataset.insert(loc=1, column='Bias', value=[1] * dataset.shape[0])"
   ]
  },
  {
   "cell_type": "markdown",
   "id": "4b4fab3e",
   "metadata": {},
   "source": [
    "#### Normalizing"
   ]
  },
  {
   "cell_type": "code",
   "execution_count": null,
   "id": "df301552",
   "metadata": {},
   "outputs": [],
   "source": [
    "min_max_scaler = preprocessing.MinMaxScaler()\n",
    "x_scaled = min_max_scaler.fit_transform(dataset.iloc[:, 2:].values)\n",
    "scaled_dataset = pd.DataFrame(x_scaled, columns=['Year','Genre', 'Gross', 'Budget', 'Screens', 'Sequel', 'Sentiment', 'Views', 'Likes', 'Dislikes', 'Comments', 'Aggregate Followers', 'Ratings'])\n",
    "scaled_dataset.insert(loc=0, column='Movie', value=dataset.iloc[:, 0])\n",
    "scaled_dataset.insert(loc=1, column='Bias', value=dataset.iloc[:, 1])\n",
    "\n",
    "scaled_dataset.iloc[:, 2:-1] += 0.0005\n",
    "\n",
    "scaled_dataset.head()"
   ]
  },
  {
   "cell_type": "code",
   "execution_count": null,
   "id": "1d150946",
   "metadata": {},
   "outputs": [],
   "source": [
    "# scaled_dataset.insert(loc=5, column='Gross2', value=np.power(scaled_dataset.iloc[:, 4], 2))\n",
    "# scaled_dataset.insert(loc=7, column='Budget2', value=np.multiply(scaled_dataset.iloc[:, 6], 2))\n",
    "\n",
    "# scaled_dataset.head()"
   ]
  },
  {
   "cell_type": "code",
   "execution_count": null,
   "id": "149b4674",
   "metadata": {},
   "outputs": [],
   "source": []
  },
  {
   "cell_type": "markdown",
   "id": "1e6184e2",
   "metadata": {},
   "source": [
    "#### Split data into 80% of train and 20% of test."
   ]
  },
  {
   "cell_type": "code",
   "execution_count": null,
   "id": "50681b03",
   "metadata": {},
   "outputs": [],
   "source": [
    "x_train, x_test, y_train, y_test = train_test_split(scaled_dataset.iloc[:,:-1], scaled_dataset.iloc[:, -1], train_size=0.8, shuffle=True)"
   ]
  },
  {
   "cell_type": "code",
   "execution_count": null,
   "id": "6f1be089",
   "metadata": {},
   "outputs": [],
   "source": [
    "train = pd.concat([x_train, y_train], axis=1)\n",
    "test = pd.concat([x_test, y_test], axis=1)"
   ]
  },
  {
   "cell_type": "code",
   "execution_count": null,
   "id": "d6ed3807",
   "metadata": {},
   "outputs": [],
   "source": [
    "train.head()"
   ]
  },
  {
   "cell_type": "code",
   "execution_count": null,
   "id": "d88d5afa",
   "metadata": {},
   "outputs": [],
   "source": []
  },
  {
   "cell_type": "code",
   "execution_count": null,
   "id": "2d6652ac",
   "metadata": {},
   "outputs": [],
   "source": [
    "# Data count\n",
    "m = train.shape[0]\n",
    "\n",
    "degree = train.shape[1] - 3 # 12 features\n",
    "epoch = 5000\n",
    "\n",
    "coeffs, mr_lr_ep = Q1.gd(epoch=epoch, degree=degree, df_train=train.iloc[:, 1:], df_test=test.iloc[:, 1:], \n",
    "                  size=m, alpha=0.06, decay=0.0001) #decay:0.00003\n",
    "train_pred = Q1.predY_cal(coeffs, train.iloc[:, 1:], degree=degree)\n",
    "test_pred = Q1.predY_cal(coeffs, test.iloc[:, 1:], degree=degree)\n",
    "\n",
    "tr_RMSE = mean_squared_error(train.iloc[:, -1], train_pred, squared=False)\n",
    "ts_RMSE = mean_squared_error(test.iloc[:, -1], test_pred, squared=False)\n",
    "\n",
    "tr_R2Score = r2_score(train.iloc[:, -1], train_pred)\n",
    "ts_R2Score = r2_score(test.iloc[:, -1], test_pred)\n",
    "\n",
    "print('Test RMSE: {:.2f} , Train RMSE: {:.2f}'.format(ts_RMSE, tr_RMSE))\n",
    "print('Test R2Score: {:.2f} , Train R2Score: {:.2f}'.format(ts_R2Score, tr_R2Score))  "
   ]
  },
  {
   "cell_type": "code",
   "execution_count": null,
   "id": "ea75051e",
   "metadata": {},
   "outputs": [],
   "source": [
    "# without Gross2\n",
    "# Test RMSE: 0.16 , Train RMSE: 0.15\n",
    "# Test R2Score: 0.25 , Train R2Score: 0.24"
   ]
  },
  {
   "cell_type": "code",
   "execution_count": null,
   "id": "baa88dbe",
   "metadata": {},
   "outputs": [],
   "source": [
    "## Test\n",
    "# decays = [0.01, 0.001, 0.0001, 0.00001, 0.000001]\n",
    "# alphas = [0.6, 0.7, 0.8, 0.9, 1]"
   ]
  },
  {
   "cell_type": "code",
   "execution_count": null,
   "id": "7bad4846",
   "metadata": {},
   "outputs": [],
   "source": [
    "# for alpha in alphas:\n",
    "#     for decay in decays:\n",
    "#         m = train.shape[0]\n",
    "\n",
    "#         degree = train.shape[1] - 3 # 12 features\n",
    "#         epoch = 1000\n",
    "\n",
    "#         coeffs, mr_lr_ep = Q1.gd(epoch=epoch, degree=degree, df_train=train.iloc[:, 1:], df_test=test.iloc[:, 1:], \n",
    "#                           size=m, alpha=alpha, decay=decay) #decay:0.00003\n",
    "#         train_pred = Q1.predY_cal(coeffs, train.iloc[:, 1:], degree=degree)\n",
    "#         test_pred = Q1.predY_cal(coeffs, test.iloc[:, 1:], degree=degree)\n",
    "        \n",
    "#         tr_RMSE = mean_squared_error(train.iloc[:, -1], train_pred, squared=False)\n",
    "#         ts_RMSE = mean_squared_error(test.iloc[:, -1], test_pred, squared=False)\n",
    "\n",
    "#         tr_R2Score = r2_score(train.iloc[:, -1], train_pred)\n",
    "#         ts_R2Score = r2_score(test.iloc[:, -1], test_pred)\n",
    "\n",
    "#         print(alpha, decay)\n",
    "#         print('Test RMSE: {:.2f} , Train RMSE: {:.2f}'.format(ts_RMSE, tr_RMSE))\n",
    "#         print('Test R2Score: {:.2f} , Train R2Score: {:.2f}'.format(ts_R2Score, tr_R2Score)) \n",
    "#         print('\\n\\n')"
   ]
  },
  {
   "cell_type": "code",
   "execution_count": null,
   "id": "1038e523",
   "metadata": {},
   "outputs": [],
   "source": []
  },
  {
   "cell_type": "code",
   "execution_count": null,
   "id": "7a5c661d",
   "metadata": {},
   "outputs": [],
   "source": [
    "fig, axs = plt.subplots(3, figsize=(10, 15))\n",
    "\n",
    "axs[0].set_title('Train [degree: {} , epoch {}]'.format(degree, epoch))\n",
    "axs[0].plot(mr_lr_ep[2], mr_lr_ep[0][0][0], 'g', label='MSE')\n",
    "axs[0].plot(mr_lr_ep[2], mr_lr_ep[0][0][1], 'r', label='RMSE')\n",
    "axs[0].plot(mr_lr_ep[2], mr_lr_ep[0][0][2], 'b', label='MAE')\n",
    "axs[0].legend()        \n",
    "\n",
    "axs[1].set_title('Test [degree: {} , epoch {}]'.format(degree, epoch))\n",
    "axs[1].plot(mr_lr_ep[2], mr_lr_ep[0][1][0], 'g', label='MSE')\n",
    "axs[1].plot(mr_lr_ep[2], mr_lr_ep[0][1][1], 'r', label='RMSE')\n",
    "axs[1].plot(mr_lr_ep[2], mr_lr_ep[0][1][2], 'b', label='MAE')\n",
    "axs[1].legend()        \n",
    "\n",
    "axs[2].set_title('epoch {}'.format(epoch))\n",
    "axs[2].plot(mr_lr_ep[2], mr_lr_ep[1], 'c', label='Step size')\n",
    "axs[2].legend()\n"
   ]
  },
  {
   "cell_type": "code",
   "execution_count": null,
   "id": "f4f156b5",
   "metadata": {},
   "outputs": [],
   "source": []
  },
  {
   "cell_type": "code",
   "execution_count": null,
   "id": "7eafdad5",
   "metadata": {},
   "outputs": [],
   "source": [
    "new_train = pd.DataFrame()\n",
    "new_test = pd.DataFrame()\n",
    "\n",
    "new_train = train.copy()\n",
    "new_test = test.copy()\n",
    "\n",
    "new_train.pop('Year')\n",
    "new_test.pop('Year')\n",
    "\n",
    "new_train.pop('Comments')\n",
    "new_test.pop('Comments')\n",
    "\n",
    "# new_train.pop('Gross')\n",
    "# new_test.pop('Gross')\n",
    "\n",
    "# new_train.pop('Budget')\n",
    "# new_test.pop('Budget')\n",
    "\n",
    "# new_train.pop('Likes')\n",
    "# new_test.pop('Likes')\n",
    "\n",
    "# new_train.pop('Screens')\n",
    "# new_test.pop('Screens')\n",
    "\n",
    "# new_train.pop('Genre')\n",
    "# new_test.pop('Genre')\n",
    "\n",
    "# new_train.pop('Sequel')\n",
    "# new_test.pop('Sequel')\n",
    "\n",
    "# new_train.pop('Sentiment')\n",
    "# new_test.pop('Sentiment')\n",
    "\n",
    "# new_train.pop('Views')\n",
    "# new_test.pop('Views')\n",
    "\n",
    "# new_train.pop('Dislikes')\n",
    "# new_test.pop('Dislikes')\n",
    "\n",
    "# new_train.pop('Aggregate Followers')\n",
    "# new_test.pop('Aggregate Followers')\n",
    "\n",
    "# Genre\tGross\tBudget\tScreens\tSequel\tSentiment\tViews\tLikes\tDislikes\tComments\tAggregate Followers\n",
    "# Data count\n",
    "m = train.shape[0]\n",
    "\n",
    "degree = new_train.shape[1] - 3 # 3: movie + bias + ratings\n",
    "epoch = 5000"
   ]
  },
  {
   "cell_type": "code",
   "execution_count": null,
   "id": "4a0c302d",
   "metadata": {},
   "outputs": [],
   "source": [
    "degree"
   ]
  },
  {
   "cell_type": "code",
   "execution_count": null,
   "id": "77edc14d",
   "metadata": {},
   "outputs": [],
   "source": [
    "coeffs"
   ]
  },
  {
   "cell_type": "code",
   "execution_count": null,
   "id": "e1b6025e",
   "metadata": {},
   "outputs": [],
   "source": [
    "new_train.iloc[:, 1:]"
   ]
  },
  {
   "cell_type": "code",
   "execution_count": null,
   "id": "8f6576ef",
   "metadata": {},
   "outputs": [],
   "source": [
    "coeffs, mr_lr_ep = Q1.gd(epoch=epoch, degree=degree, df_train=new_train.iloc[:, 1:], df_test=new_test.iloc[:, 1:], \n",
    "                  size=m, alpha=0.001, decay=0.0000003)\n",
    "train_pred = Q1.predY_cal(coeffs, new_train.iloc[:, 1:], degree=degree)\n",
    "test_pred = Q1.predY_cal(coeffs, new_test.iloc[:, 1:], degree=degree)\n",
    "\n",
    "tr_RMSE = mean_squared_error(new_train.iloc[:, -1], train_pred, squared=False)\n",
    "ts_RMSE = mean_squared_error(new_test.iloc[:, -1], test_pred, squared=False)\n",
    "\n",
    "tr_R2Score = r2_score(new_train.iloc[:, -1], train_pred)\n",
    "ts_R2Score = r2_score(new_test.iloc[:, -1], test_pred)\n",
    "\n",
    "print('Test RMSE: {:.2f} , Train RMSE: {:.2f}'.format(ts_RMSE, tr_RMSE)) \n",
    "print('Test R2Score: {:.2f} , Train R2Score: {:.2f}'.format(ts_R2Score, tr_R2Score))  "
   ]
  },
  {
   "cell_type": "code",
   "execution_count": null,
   "id": "0ba4c9a0",
   "metadata": {},
   "outputs": [],
   "source": []
  },
  {
   "cell_type": "code",
   "execution_count": null,
   "id": "de06da99",
   "metadata": {},
   "outputs": [],
   "source": [
    "fig, axs = plt.subplots(3, figsize=(10, 15))\n",
    "\n",
    "axs[0].set_title('Train [degree: {} , epoch {}]'.format(degree, epoch))\n",
    "axs[0].plot(mr_lr_ep[2], mr_lr_ep[0][0][0], 'g', label='MSE')\n",
    "axs[0].plot(mr_lr_ep[2], mr_lr_ep[0][0][1], 'r', label='RMSE')\n",
    "axs[0].plot(mr_lr_ep[2], mr_lr_ep[0][0][2], 'b', label='MAE')\n",
    "axs[0].legend()        \n",
    "\n",
    "axs[1].set_title('Test [degree: {} , epoch {}]'.format(degree, epoch))\n",
    "axs[1].plot(mr_lr_ep[2], mr_lr_ep[0][1][0], 'g', label='MSE')\n",
    "axs[1].plot(mr_lr_ep[2], mr_lr_ep[0][1][1], 'r', label='RMSE')\n",
    "axs[1].plot(mr_lr_ep[2], mr_lr_ep[0][1][2], 'b', label='MAE')\n",
    "axs[1].legend()        \n",
    "\n",
    "axs[2].set_title('epoch {}'.format(epoch))\n",
    "axs[2].plot(mr_lr_ep[2], mr_lr_ep[1], 'c', label='Learning rate')\n",
    "axs[2].legend()"
   ]
  },
  {
   "cell_type": "code",
   "execution_count": null,
   "id": "108cdc12",
   "metadata": {},
   "outputs": [],
   "source": []
  },
  {
   "cell_type": "code",
   "execution_count": null,
   "id": "ab31684b",
   "metadata": {},
   "outputs": [],
   "source": [
    "# from sklearn.linear_model import LinearRegression\n",
    "\n",
    "# reg = LinearRegression().fit(new_train.iloc[:, 1:-1], new_train.iloc[:, -1])\n",
    "\n",
    "# print('R2: ', reg.score(new_train.iloc[:, 1:-1], new_train.iloc[:, -1]))\n",
    "# pred = Q1.predY_cal(reg.coef_, train.iloc[:, 1:], degree=12)\n",
    "# print('MSE: ', mean_squared_error(train.iloc[:, -1], pred))"
   ]
  },
  {
   "cell_type": "code",
   "execution_count": null,
   "id": "4d1f0a8f",
   "metadata": {},
   "outputs": [],
   "source": [
    "# reg.coef_"
   ]
  },
  {
   "cell_type": "code",
   "execution_count": null,
   "id": "76d36cd4",
   "metadata": {},
   "outputs": [],
   "source": []
  }
 ],
 "metadata": {
  "kernelspec": {
   "display_name": "Python 3 (ipykernel)",
   "language": "python",
   "name": "python3"
  },
  "language_info": {
   "codemirror_mode": {
    "name": "ipython",
    "version": 3
   },
   "file_extension": ".py",
   "mimetype": "text/x-python",
   "name": "python",
   "nbconvert_exporter": "python",
   "pygments_lexer": "ipython3",
   "version": "3.9.9"
  }
 },
 "nbformat": 4,
 "nbformat_minor": 5
}
