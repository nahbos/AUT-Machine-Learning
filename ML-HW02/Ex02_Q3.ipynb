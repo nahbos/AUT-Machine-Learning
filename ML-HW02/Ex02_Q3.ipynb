{
 "cells": [
  {
   "cell_type": "markdown",
   "id": "9ba12121",
   "metadata": {},
   "source": [
    "#### - Sobhan Moradian Daghigh\n",
    "#### - 12/4/2021\n",
    "#### - ML - EX02 - Q3"
   ]
  },
  {
   "cell_type": "code",
   "execution_count": 1,
   "id": "f7fc2bab",
   "metadata": {},
   "outputs": [],
   "source": [
    "import pandas as pd\n",
    "import numpy as np\n",
    "import matplotlib.pyplot as plt\n",
    "from sklearn import datasets\n",
    "from sklearn.metrics import mean_absolute_error, mean_squared_error, accuracy_score\n",
    "from sklearn.model_selection import train_test_split\n",
    "from sklearn.preprocessing import Normalizer\n",
    "import random\n",
    "import operator"
   ]
  },
  {
   "cell_type": "markdown",
   "id": "fe003e3b",
   "metadata": {},
   "source": [
    "#### Reading data"
   ]
  },
  {
   "cell_type": "code",
   "execution_count": 89,
   "id": "7c592d9d",
   "metadata": {},
   "outputs": [
    {
     "data": {
      "text/html": [
       "<div>\n",
       "<style scoped>\n",
       "    .dataframe tbody tr th:only-of-type {\n",
       "        vertical-align: middle;\n",
       "    }\n",
       "\n",
       "    .dataframe tbody tr th {\n",
       "        vertical-align: top;\n",
       "    }\n",
       "\n",
       "    .dataframe thead th {\n",
       "        text-align: right;\n",
       "    }\n",
       "</style>\n",
       "<table border=\"1\" class=\"dataframe\">\n",
       "  <thead>\n",
       "    <tr style=\"text-align: right;\">\n",
       "      <th></th>\n",
       "      <th>sepal length (cm)</th>\n",
       "      <th>sepal width (cm)</th>\n",
       "      <th>petal length (cm)</th>\n",
       "      <th>petal width (cm)</th>\n",
       "      <th>target</th>\n",
       "    </tr>\n",
       "  </thead>\n",
       "  <tbody>\n",
       "    <tr>\n",
       "      <th>0</th>\n",
       "      <td>5.1</td>\n",
       "      <td>3.5</td>\n",
       "      <td>1.4</td>\n",
       "      <td>0.2</td>\n",
       "      <td>0.0</td>\n",
       "    </tr>\n",
       "    <tr>\n",
       "      <th>1</th>\n",
       "      <td>4.9</td>\n",
       "      <td>3.0</td>\n",
       "      <td>1.4</td>\n",
       "      <td>0.2</td>\n",
       "      <td>0.0</td>\n",
       "    </tr>\n",
       "    <tr>\n",
       "      <th>2</th>\n",
       "      <td>4.7</td>\n",
       "      <td>3.2</td>\n",
       "      <td>1.3</td>\n",
       "      <td>0.2</td>\n",
       "      <td>0.0</td>\n",
       "    </tr>\n",
       "    <tr>\n",
       "      <th>3</th>\n",
       "      <td>4.6</td>\n",
       "      <td>3.1</td>\n",
       "      <td>1.5</td>\n",
       "      <td>0.2</td>\n",
       "      <td>0.0</td>\n",
       "    </tr>\n",
       "    <tr>\n",
       "      <th>4</th>\n",
       "      <td>5.0</td>\n",
       "      <td>3.6</td>\n",
       "      <td>1.4</td>\n",
       "      <td>0.2</td>\n",
       "      <td>0.0</td>\n",
       "    </tr>\n",
       "  </tbody>\n",
       "</table>\n",
       "</div>"
      ],
      "text/plain": [
       "   sepal length (cm)  sepal width (cm)  petal length (cm)  petal width (cm)  \\\n",
       "0                5.1               3.5                1.4               0.2   \n",
       "1                4.9               3.0                1.4               0.2   \n",
       "2                4.7               3.2                1.3               0.2   \n",
       "3                4.6               3.1                1.5               0.2   \n",
       "4                5.0               3.6                1.4               0.2   \n",
       "\n",
       "   target  \n",
       "0     0.0  \n",
       "1     0.0  \n",
       "2     0.0  \n",
       "3     0.0  \n",
       "4     0.0  "
      ]
     },
     "execution_count": 89,
     "metadata": {},
     "output_type": "execute_result"
    }
   ],
   "source": [
    "iris = datasets.load_iris()\n",
    "dataset = pd.DataFrame(data= np.c_[iris.data, iris.target], columns= iris.feature_names + ['target'])\n",
    "dataset.head()"
   ]
  },
  {
   "cell_type": "code",
   "execution_count": 90,
   "id": "588cf661",
   "metadata": {},
   "outputs": [
    {
     "name": "stdout",
     "output_type": "stream",
     "text": [
      "<class 'pandas.core.frame.DataFrame'>\n",
      "RangeIndex: 150 entries, 0 to 149\n",
      "Data columns (total 5 columns):\n",
      " #   Column             Non-Null Count  Dtype  \n",
      "---  ------             --------------  -----  \n",
      " 0   sepal length (cm)  150 non-null    float64\n",
      " 1   sepal width (cm)   150 non-null    float64\n",
      " 2   petal length (cm)  150 non-null    float64\n",
      " 3   petal width (cm)   150 non-null    float64\n",
      " 4   target             150 non-null    float64\n",
      "dtypes: float64(5)\n",
      "memory usage: 6.0 KB\n"
     ]
    }
   ],
   "source": [
    "dataset.info()"
   ]
  },
  {
   "cell_type": "code",
   "execution_count": null,
   "id": "795b3d75",
   "metadata": {},
   "outputs": [],
   "source": []
  },
  {
   "cell_type": "markdown",
   "id": "cf1ba234",
   "metadata": {},
   "source": [
    "<!-- #### Normalizing -->"
   ]
  },
  {
   "cell_type": "code",
   "execution_count": 91,
   "id": "25f3c21c",
   "metadata": {},
   "outputs": [],
   "source": [
    "# scaler = Normalizer().fit(dataset.iloc[:, :-1])\n",
    "# normalized_dataset = scaler.transform(dataset.iloc[:, :-1])\n",
    "# normalized_dataset = pd.DataFrame(normalized_dataset, columns=dataset.columns[:-1])\n",
    "# normalized_dataset['target'] = dataset.iloc[:, -1]\n",
    "# normalized_dataset"
   ]
  },
  {
   "cell_type": "markdown",
   "id": "d79497b4",
   "metadata": {},
   "source": [
    "#### Implementation of  cross validation spliter"
   ]
  },
  {
   "cell_type": "code",
   "execution_count": 92,
   "id": "342438e5",
   "metadata": {},
   "outputs": [],
   "source": [
    "def cross_validation(dataset, k_folds=10):\n",
    "    # Shuffling the dataset\n",
    "    shuffled = dataset.sample(frac=1)\n",
    "    remind = shuffled.shape[0] % k_folds\n",
    "    shuffled = shuffled.iloc[:-remind, :] if remind != 0 else shuffled\n",
    "    return np.array_split(shuffled, k_folds)"
   ]
  },
  {
   "cell_type": "markdown",
   "id": "9466729e",
   "metadata": {},
   "source": [
    "#### As a test:"
   ]
  },
  {
   "cell_type": "code",
   "execution_count": 93,
   "id": "58930462",
   "metadata": {},
   "outputs": [
    {
     "data": {
      "text/html": [
       "<div>\n",
       "<style scoped>\n",
       "    .dataframe tbody tr th:only-of-type {\n",
       "        vertical-align: middle;\n",
       "    }\n",
       "\n",
       "    .dataframe tbody tr th {\n",
       "        vertical-align: top;\n",
       "    }\n",
       "\n",
       "    .dataframe thead th {\n",
       "        text-align: right;\n",
       "    }\n",
       "</style>\n",
       "<table border=\"1\" class=\"dataframe\">\n",
       "  <thead>\n",
       "    <tr style=\"text-align: right;\">\n",
       "      <th></th>\n",
       "      <th>sepal length (cm)</th>\n",
       "      <th>sepal width (cm)</th>\n",
       "      <th>petal length (cm)</th>\n",
       "      <th>petal width (cm)</th>\n",
       "      <th>target</th>\n",
       "    </tr>\n",
       "  </thead>\n",
       "  <tbody>\n",
       "    <tr>\n",
       "      <th>51</th>\n",
       "      <td>0.745498</td>\n",
       "      <td>0.372749</td>\n",
       "      <td>0.524178</td>\n",
       "      <td>0.174726</td>\n",
       "      <td>1.0</td>\n",
       "    </tr>\n",
       "    <tr>\n",
       "      <th>76</th>\n",
       "      <td>0.764673</td>\n",
       "      <td>0.314865</td>\n",
       "      <td>0.539769</td>\n",
       "      <td>0.157433</td>\n",
       "      <td>1.0</td>\n",
       "    </tr>\n",
       "    <tr>\n",
       "      <th>113</th>\n",
       "      <td>0.692552</td>\n",
       "      <td>0.303751</td>\n",
       "      <td>0.607502</td>\n",
       "      <td>0.243001</td>\n",
       "      <td>2.0</td>\n",
       "    </tr>\n",
       "    <tr>\n",
       "      <th>49</th>\n",
       "      <td>0.812284</td>\n",
       "      <td>0.536107</td>\n",
       "      <td>0.227439</td>\n",
       "      <td>0.032491</td>\n",
       "      <td>0.0</td>\n",
       "    </tr>\n",
       "    <tr>\n",
       "      <th>47</th>\n",
       "      <td>0.795948</td>\n",
       "      <td>0.553703</td>\n",
       "      <td>0.242245</td>\n",
       "      <td>0.034606</td>\n",
       "      <td>0.0</td>\n",
       "    </tr>\n",
       "  </tbody>\n",
       "</table>\n",
       "</div>"
      ],
      "text/plain": [
       "     sepal length (cm)  sepal width (cm)  petal length (cm)  petal width (cm)  \\\n",
       "51            0.745498          0.372749           0.524178          0.174726   \n",
       "76            0.764673          0.314865           0.539769          0.157433   \n",
       "113           0.692552          0.303751           0.607502          0.243001   \n",
       "49            0.812284          0.536107           0.227439          0.032491   \n",
       "47            0.795948          0.553703           0.242245          0.034606   \n",
       "\n",
       "     target  \n",
       "51      1.0  \n",
       "76      1.0  \n",
       "113     2.0  \n",
       "49      0.0  \n",
       "47      0.0  "
      ]
     },
     "execution_count": 93,
     "metadata": {},
     "output_type": "execute_result"
    }
   ],
   "source": [
    "cross_vals = cross_validation(normalized_dataset)\n",
    "cross_vals[0].head()"
   ]
  },
  {
   "cell_type": "code",
   "execution_count": null,
   "id": "3435a72c",
   "metadata": {},
   "outputs": [],
   "source": []
  },
  {
   "cell_type": "markdown",
   "id": "5ac5d178",
   "metadata": {},
   "source": [
    "#### Implementation of euclidean distance"
   ]
  },
  {
   "cell_type": "code",
   "execution_count": 94,
   "id": "4bb9d43e",
   "metadata": {},
   "outputs": [],
   "source": [
    "def euclideanDistance(vectorA, vectorB):\n",
    "    distance = 0\n",
    "    for i in range(len(vectorA) - 1):\n",
    "        distance += np.power(np.subtract(vectorA[i], vectorB[i]), 2)\n",
    "    return np.sqrt(distance)"
   ]
  },
  {
   "cell_type": "code",
   "execution_count": null,
   "id": "4c067ac2",
   "metadata": {},
   "outputs": [],
   "source": []
  },
  {
   "cell_type": "markdown",
   "id": "05f8b63a",
   "metadata": {},
   "source": [
    "#### Implementation of KNNClassifier"
   ]
  },
  {
   "cell_type": "code",
   "execution_count": 95,
   "id": "94b1c4d9",
   "metadata": {},
   "outputs": [],
   "source": [
    "class kNNClassifier:\n",
    "    \n",
    "    def __init__(self, k_neighbors):\n",
    "        self.k = k_neighbors\n",
    "    \n",
    "    def fit(self, train):\n",
    "        self.train = train\n",
    "\n",
    "    def getNeighbors(self, test):\n",
    "        \n",
    "        distances = []\n",
    "        for i, trainRow in self.train.iterrows():\n",
    "            distances.append([trainRow, euclideanDistance(test, trainRow), self.train.iloc[:, -1][i]])\n",
    "            distances.sort(key=operator.itemgetter(1))\n",
    "\n",
    "        neighbors = []\n",
    "        for index in range(self.k):\n",
    "            neighbors.append(distances[index])\n",
    "        return neighbors\n",
    "        \n",
    "    def predict(self, test):\n",
    "        \n",
    "        self.test = test\n",
    "        predictions = []\n",
    "        \n",
    "        for i, testRow in self.test.iterrows():\n",
    "            neighbors = self.getNeighbors(testRow)\n",
    "            output= [row[-1] for row in neighbors]\n",
    "            prediction = max(set(output), key=output.count)\n",
    "            predictions.append(prediction)\n",
    "        \n",
    "        return predictions"
   ]
  },
  {
   "cell_type": "code",
   "execution_count": 96,
   "id": "cd6f1a41",
   "metadata": {},
   "outputs": [],
   "source": []
  },
  {
   "cell_type": "markdown",
   "id": "d29213f0",
   "metadata": {},
   "source": [
    "#### Find the optimal k_neighbors using cross validation "
   ]
  },
  {
   "cell_type": "code",
   "execution_count": 116,
   "id": "938428dc",
   "metadata": {},
   "outputs": [],
   "source": [
    "cross_vals = cross_validation(normalized_dataset)"
   ]
  },
  {
   "cell_type": "code",
   "execution_count": 117,
   "id": "72cc93a1",
   "metadata": {
    "scrolled": true
   },
   "outputs": [
    {
     "name": "stdout",
     "output_type": "stream",
     "text": [
      "Maximum accuracy: 0.980 at K = 3\n"
     ]
    },
    {
     "data": {
      "image/png": "[encoded data removed]",
      "text/plain": [
       "<Figure size 720x432 with 1 Axes>"
      ]
     },
     "metadata": {
      "needs_background": "light"
     },
     "output_type": "display_data"
    }
   ],
   "source": [
    "k_range = 31\n",
    "acc = []\n",
    "acc_index = []\n",
    "\n",
    "for i in range(1,k_range, 2):\n",
    "    accus = []\n",
    "    for fold in cross_vals:\n",
    "        train = normalized_dataset[~normalized_dataset.index.isin(fold.index)]\n",
    "        test = fold\n",
    "\n",
    "        knn = kNNClassifier(k_neighbors=i)        \n",
    "        knn.fit(train)\n",
    "        predictions = knn.predict(test)\n",
    "\n",
    "        accuracy = accuracy_score(test.iloc[:, -1], predictions)\n",
    "        accus.append(accuracy)\n",
    "\n",
    "    max_accu = np.mean(accus)\n",
    "    acc.append(max_accu)\n",
    "    acc_index.append(i)\n",
    "    \n",
    "plt.figure(figsize=(10,6))\n",
    "plt.plot(acc_index, acc, color = 'blue', linestyle='dashed', \n",
    "         marker='o', markerfacecolor='red', markersize=10)\n",
    "plt.title('accuracy vs. K Value')\n",
    "plt.xlabel('K')\n",
    "plt.ylabel('Accuracy')\n",
    "print(\"Maximum accuracy: {:.3f} at K = {}\".format(max(acc), np.multiply(acc.index(max(acc)), 2) + 1))"
   ]
  },
  {
   "cell_type": "markdown",
   "id": "e3cf17e5",
   "metadata": {},
   "source": [
    "#### So the winner k is 3."
   ]
  },
  {
   "cell_type": "code",
   "execution_count": null,
   "id": "79222cfa",
   "metadata": {},
   "outputs": [],
   "source": []
  },
  {
   "cell_type": "markdown",
   "id": "ca53eace",
   "metadata": {},
   "source": [
    "#### Part B:"
   ]
  },
  {
   "cell_type": "markdown",
   "id": "600f12af",
   "metadata": {},
   "source": [
    "#### Split data into 80% of train and 20% of test."
   ]
  },
  {
   "cell_type": "code",
   "execution_count": 118,
   "id": "8ec97372",
   "metadata": {},
   "outputs": [],
   "source": [
    "x_train, x_test, y_train, y_test = train_test_split(normalized_dataset.iloc[:, :-1], normalized_dataset.iloc[:, -1], train_size=0.8, shuffle=True)"
   ]
  },
  {
   "cell_type": "code",
   "execution_count": 119,
   "id": "75d8ddb5",
   "metadata": {},
   "outputs": [],
   "source": [
    "train = pd.DataFrame(x_train)\n",
    "train['target'] = y_train\n",
    "test = pd.DataFrame(x_test)\n",
    "test['target'] = y_test"
   ]
  },
  {
   "cell_type": "code",
   "execution_count": null,
   "id": "73ca54b9",
   "metadata": {},
   "outputs": [],
   "source": []
  },
  {
   "cell_type": "code",
   "execution_count": 120,
   "id": "319c857e",
   "metadata": {},
   "outputs": [
    {
     "name": "stdout",
     "output_type": "stream",
     "text": [
      "Train:\n",
      "MSE: 0.017\n",
      "RMSE: 0.129\n",
      "MAE: 0.017\n",
      "\n",
      "Test:\n",
      "Accuracy: 0.967\n",
      "MSE: 0.033\n",
      "RMSE: 0.183\n",
      "MAE: 0.033\n"
     ]
    }
   ],
   "source": [
    "knn = kNNClassifier(k_neighbors=3)\n",
    "knn.fit(train)\n",
    "ts_predictions = knn.predict(test)\n",
    "accuracy = accuracy_score(test.iloc[:, -1], ts_predictions)\n",
    "ts_MSE = mean_squared_error(y_test, ts_predictions)\n",
    "ts_RMSE = mean_squared_error(y_test, ts_predictions, squared=False)\n",
    "ts_MAE = mean_absolute_error(y_test, ts_predictions)\n",
    "\n",
    "tr_predictions = knn.predict(train)\n",
    "tr_MSE = mean_squared_error(y_train, tr_predictions)\n",
    "tr_RMSE = mean_squared_error(y_train, tr_predictions, squared=False)\n",
    "tr_MAE = mean_absolute_error(y_train, tr_predictions)\n",
    "\n",
    "print('Train:')\n",
    "print('MSE: {:.3f}'.format(tr_MSE))\n",
    "print('RMSE: {:.3f}'.format(tr_RMSE))\n",
    "print('MAE: {:.3f}'.format(tr_MAE))\n",
    "\n",
    "print('\\nTest:')\n",
    "print('Accuracy: {:.3f}'.format(accuracy))\n",
    "print('MSE: {:.3f}'.format(ts_MSE))\n",
    "print('RMSE: {:.3f}'.format(ts_RMSE))\n",
    "print('MAE: {:.3f}'.format(ts_MAE))"
   ]
  },
  {
   "cell_type": "code",
   "execution_count": null,
   "id": "72ef3ccb",
   "metadata": {},
   "outputs": [],
   "source": []
  },
  {
   "cell_type": "code",
   "execution_count": null,
   "id": "2c1be7a1",
   "metadata": {},
   "outputs": [],
   "source": []
  }
 ],
 "metadata": {
  "kernelspec": {
   "display_name": "Python 3 (ipykernel)",
   "language": "python",
   "name": "python3"
  },
  "language_info": {
   "codemirror_mode": {
    "name": "ipython",
    "version": 3
   },
   "file_extension": ".py",
   "mimetype": "text/x-python",
   "name": "python",
   "nbconvert_exporter": "python",
   "pygments_lexer": "ipython3",
   "version": "3.9.9"
  }
 },
 "nbformat": 4,
 "nbformat_minor": 5
}
