{
 "cells": [
  {
   "cell_type": "markdown",
   "id": "47986d23",
   "metadata": {},
   "source": [
    "#### - Sobhan Moradian Daghigh\n",
    "##### - 11/10/2021\n",
    "##### \n",
    "##### - ML - EX01 - Q1"
   ]
  },
  {
   "cell_type": "code",
   "execution_count": 38,
   "id": "2b68393d",
   "metadata": {},
   "outputs": [],
   "source": [
    "import pandas as pd\n",
    "import numpy as np\n",
    "import matplotlib.pyplot as plt"
   ]
  },
  {
   "cell_type": "markdown",
   "id": "f157b59e",
   "metadata": {},
   "source": [
    "#### Reading the dataset"
   ]
  },
  {
   "cell_type": "code",
   "execution_count": 6,
   "id": "eab7a221",
   "metadata": {},
   "outputs": [
    {
     "data": {
      "text/html": [
       "<div>\n",
       "<style scoped>\n",
       "    .dataframe tbody tr th:only-of-type {\n",
       "        vertical-align: middle;\n",
       "    }\n",
       "\n",
       "    .dataframe tbody tr th {\n",
       "        vertical-align: top;\n",
       "    }\n",
       "\n",
       "    .dataframe thead th {\n",
       "        text-align: right;\n",
       "    }\n",
       "</style>\n",
       "<table border=\"1\" class=\"dataframe\">\n",
       "  <thead>\n",
       "    <tr style=\"text-align: right;\">\n",
       "      <th></th>\n",
       "      <th>x</th>\n",
       "      <th>y</th>\n",
       "    </tr>\n",
       "  </thead>\n",
       "  <tbody>\n",
       "    <tr>\n",
       "      <th>0</th>\n",
       "      <td>0.097627</td>\n",
       "      <td>0.626964</td>\n",
       "    </tr>\n",
       "    <tr>\n",
       "      <th>1</th>\n",
       "      <td>0.430379</td>\n",
       "      <td>0.846452</td>\n",
       "    </tr>\n",
       "    <tr>\n",
       "      <th>2</th>\n",
       "      <td>0.205527</td>\n",
       "      <td>0.756017</td>\n",
       "    </tr>\n",
       "    <tr>\n",
       "      <th>3</th>\n",
       "      <td>0.089766</td>\n",
       "      <td>0.427504</td>\n",
       "    </tr>\n",
       "    <tr>\n",
       "      <th>4</th>\n",
       "      <td>-0.152690</td>\n",
       "      <td>-1.335228</td>\n",
       "    </tr>\n",
       "  </tbody>\n",
       "</table>\n",
       "</div>"
      ],
      "text/plain": [
       "          x         y\n",
       "0  0.097627  0.626964\n",
       "1  0.430379  0.846452\n",
       "2  0.205527  0.756017\n",
       "3  0.089766  0.427504\n",
       "4 -0.152690 -1.335228"
      ]
     },
     "execution_count": 6,
     "metadata": {},
     "output_type": "execute_result"
    }
   ],
   "source": [
    "dataset = pd.read_csv('./ML-HW01/dataset1/dataset1.csv')\n",
    "dataset.head()"
   ]
  },
  {
   "cell_type": "code",
   "execution_count": 7,
   "id": "c30b6a50",
   "metadata": {},
   "outputs": [
    {
     "name": "stdout",
     "output_type": "stream",
     "text": [
      "<class 'pandas.core.frame.DataFrame'>\n",
      "RangeIndex: 300 entries, 0 to 299\n",
      "Data columns (total 2 columns):\n",
      " #   Column  Non-Null Count  Dtype  \n",
      "---  ------  --------------  -----  \n",
      " 0   x       300 non-null    float64\n",
      " 1   y       300 non-null    float64\n",
      "dtypes: float64(2)\n",
      "memory usage: 4.8 KB\n"
     ]
    }
   ],
   "source": [
    "dataset.info()"
   ]
  },
  {
   "cell_type": "code",
   "execution_count": 8,
   "id": "f0578b12",
   "metadata": {},
   "outputs": [
    {
     "data": {
      "image/png": "[encoded data removed]",
      "text/plain": [
       "<Figure size 432x288 with 1 Axes>"
      ]
     },
     "metadata": {
      "needs_background": "light"
     },
     "output_type": "display_data"
    }
   ],
   "source": [
    "plt.scatter(dataset.iloc[:, 0], dataset.iloc[:, 1], alpha= 0.5)\n",
    "plt.show()"
   ]
  },
  {
   "cell_type": "code",
   "execution_count": null,
   "id": "a4eea615",
   "metadata": {},
   "outputs": [],
   "source": []
  },
  {
   "cell_type": "markdown",
   "id": "2ecbc5b5",
   "metadata": {},
   "source": [
    "#### To have a polynomial regression as a linear regression problem, update the dataset as below:\n",
    "#### h(x) = θ0 + ... + θi(x^i) + ... θd(x^d)\n",
    "#### ---> h(x) = θ0 + ... + θi(xi) + ... θd(xd)"
   ]
  },
  {
   "cell_type": "code",
   "execution_count": 54,
   "id": "bbbe8d12",
   "metadata": {},
   "outputs": [
    {
     "data": {
      "text/html": [
       "<div>\n",
       "<style scoped>\n",
       "    .dataframe tbody tr th:only-of-type {\n",
       "        vertical-align: middle;\n",
       "    }\n",
       "\n",
       "    .dataframe tbody tr th {\n",
       "        vertical-align: top;\n",
       "    }\n",
       "\n",
       "    .dataframe thead th {\n",
       "        text-align: right;\n",
       "    }\n",
       "</style>\n",
       "<table border=\"1\" class=\"dataframe\">\n",
       "  <thead>\n",
       "    <tr style=\"text-align: right;\">\n",
       "      <th></th>\n",
       "      <th>x0</th>\n",
       "      <th>x1</th>\n",
       "      <th>x2</th>\n",
       "      <th>x3</th>\n",
       "      <th>x4</th>\n",
       "      <th>x5</th>\n",
       "      <th>x6</th>\n",
       "      <th>x7</th>\n",
       "      <th>x8</th>\n",
       "      <th>x9</th>\n",
       "      <th>x10</th>\n",
       "      <th>y</th>\n",
       "    </tr>\n",
       "  </thead>\n",
       "  <tbody>\n",
       "    <tr>\n",
       "      <th>0</th>\n",
       "      <td>1.0</td>\n",
       "      <td>0.097627</td>\n",
       "      <td>0.009531</td>\n",
       "      <td>0.000930</td>\n",
       "      <td>0.000091</td>\n",
       "      <td>0.000009</td>\n",
       "      <td>8.658046e-07</td>\n",
       "      <td>8.452591e-08</td>\n",
       "      <td>8.252012e-09</td>\n",
       "      <td>8.056192e-10</td>\n",
       "      <td>7.865019e-11</td>\n",
       "      <td>0.626964</td>\n",
       "    </tr>\n",
       "    <tr>\n",
       "      <th>1</th>\n",
       "      <td>1.0</td>\n",
       "      <td>0.430379</td>\n",
       "      <td>0.185226</td>\n",
       "      <td>0.079717</td>\n",
       "      <td>0.034309</td>\n",
       "      <td>0.014766</td>\n",
       "      <td>6.354843e-03</td>\n",
       "      <td>2.734989e-03</td>\n",
       "      <td>1.177081e-03</td>\n",
       "      <td>5.065907e-04</td>\n",
       "      <td>2.180259e-04</td>\n",
       "      <td>0.846452</td>\n",
       "    </tr>\n",
       "    <tr>\n",
       "      <th>2</th>\n",
       "      <td>1.0</td>\n",
       "      <td>0.205527</td>\n",
       "      <td>0.042241</td>\n",
       "      <td>0.008682</td>\n",
       "      <td>0.001784</td>\n",
       "      <td>0.000367</td>\n",
       "      <td>7.537202e-05</td>\n",
       "      <td>1.549097e-05</td>\n",
       "      <td>3.183808e-06</td>\n",
       "      <td>6.543577e-07</td>\n",
       "      <td>1.344880e-07</td>\n",
       "      <td>0.756017</td>\n",
       "    </tr>\n",
       "    <tr>\n",
       "      <th>3</th>\n",
       "      <td>1.0</td>\n",
       "      <td>0.089766</td>\n",
       "      <td>0.008058</td>\n",
       "      <td>0.000723</td>\n",
       "      <td>0.000065</td>\n",
       "      <td>0.000006</td>\n",
       "      <td>5.232170e-07</td>\n",
       "      <td>4.696729e-08</td>\n",
       "      <td>4.216083e-09</td>\n",
       "      <td>3.784624e-10</td>\n",
       "      <td>3.397320e-11</td>\n",
       "      <td>0.427504</td>\n",
       "    </tr>\n",
       "    <tr>\n",
       "      <th>4</th>\n",
       "      <td>1.0</td>\n",
       "      <td>-0.152690</td>\n",
       "      <td>0.023314</td>\n",
       "      <td>-0.003560</td>\n",
       "      <td>0.000544</td>\n",
       "      <td>-0.000083</td>\n",
       "      <td>1.267274e-05</td>\n",
       "      <td>-1.935005e-06</td>\n",
       "      <td>2.954567e-07</td>\n",
       "      <td>-4.511341e-08</td>\n",
       "      <td>6.888384e-09</td>\n",
       "      <td>-1.335228</td>\n",
       "    </tr>\n",
       "  </tbody>\n",
       "</table>\n",
       "</div>"
      ],
      "text/plain": [
       "    x0        x1        x2        x3        x4        x5            x6  \\\n",
       "0  1.0  0.097627  0.009531  0.000930  0.000091  0.000009  8.658046e-07   \n",
       "1  1.0  0.430379  0.185226  0.079717  0.034309  0.014766  6.354843e-03   \n",
       "2  1.0  0.205527  0.042241  0.008682  0.001784  0.000367  7.537202e-05   \n",
       "3  1.0  0.089766  0.008058  0.000723  0.000065  0.000006  5.232170e-07   \n",
       "4  1.0 -0.152690  0.023314 -0.003560  0.000544 -0.000083  1.267274e-05   \n",
       "\n",
       "             x7            x8            x9           x10         y  \n",
       "0  8.452591e-08  8.252012e-09  8.056192e-10  7.865019e-11  0.626964  \n",
       "1  2.734989e-03  1.177081e-03  5.065907e-04  2.180259e-04  0.846452  \n",
       "2  1.549097e-05  3.183808e-06  6.543577e-07  1.344880e-07  0.756017  \n",
       "3  4.696729e-08  4.216083e-09  3.784624e-10  3.397320e-11  0.427504  \n",
       "4 -1.935005e-06  2.954567e-07 -4.511341e-08  6.888384e-09 -1.335228  "
      ]
     },
     "execution_count": 54,
     "metadata": {},
     "output_type": "execute_result"
    }
   ],
   "source": [
    "df = pd.DataFrame()\n",
    "labels = ['x0', 'x1', 'x2', 'x3', 'x4', 'x5', 'x6', 'x7', 'x8', 'x9', 'x10']\n",
    "\n",
    "for i in range(11):\n",
    "    df[labels[i]] = np.power(dataset.iloc[:,0], i)\n",
    "    \n",
    "df['y'] = dataset.iloc[:, 1]\n",
    "\n",
    "df.head()"
   ]
  },
  {
   "cell_type": "markdown",
   "id": "43a4e289",
   "metadata": {},
   "source": [
    "#### Ok we're not allowded to use build-in funcs for Gradient Descent.\n",
    "#### So let's define it according to the algorithm."
   ]
  },
  {
   "cell_type": "code",
   "execution_count": 66,
   "id": "a5d1dd7a",
   "metadata": {},
   "outputs": [
    {
     "data": {
      "text/plain": [
       "0"
      ]
     },
     "execution_count": 66,
     "metadata": {},
     "output_type": "execute_result"
    }
   ],
   "source": [
    "# I decided to start learning rate from 0.02 and decrease it during iterations\n",
    "alpha = 0.02 \n",
    "epochs = [5000, 10000]\n",
    "degrees = [5, 8, 10]\n",
    "\n",
    "a0, a1, a2, a3, a4, a5, a6, a7, a8, a9, a10 = [0] * 11\n",
    "coeffs = [a0, a1, a2, a3, a4, a5, a6, a7, a8, a9, a10]\n",
    "\n",
    "# Data count\n",
    "m = df.shape[0]\n",
    "\n",
    "def gd(epoch, degree):\n",
    "    for _ in range(epoch):\n",
    "        predY_cal(coeffs, df, degree[0])\n",
    "# np.power(alpha, np.divide(iteretion, epoch))"
   ]
  },
  {
   "cell_type": "code",
   "execution_count": 58,
   "id": "ce37623e",
   "metadata": {},
   "outputs": [],
   "source": [
    "def update_coefficients(coeffs, alpha, m, predY, df):\n",
    "    for coeff in coeffs:\n",
    "        coeff -= np.multiply(alpha, np.multiply(np.divide(1, m), np.multiply(sum(np.subtract(df.loc['y'], predY)), df.iloc[:, coeffs.index(coeff)])))\n",
    "    \n",
    "    return coeffs    "
   ]
  },
  {
   "cell_type": "code",
   "execution_count": 35,
   "id": "cc4987ca",
   "metadata": {},
   "outputs": [],
   "source": [
    "def predY_cal(coeffs, df, degree):\n",
    "    for i in range(degree):\n",
    "        sum_ += np.multiply(coeffs[i], df.iloc[:, i])\n",
    "    return sum_"
   ]
  },
  {
   "cell_type": "code",
   "execution_count": null,
   "id": "3c6e2314",
   "metadata": {},
   "outputs": [],
   "source": []
  },
  {
   "cell_type": "code",
   "execution_count": null,
   "id": "1023e28b",
   "metadata": {},
   "outputs": [],
   "source": []
  },
  {
   "cell_type": "code",
   "execution_count": null,
   "id": "01f820e7",
   "metadata": {},
   "outputs": [],
   "source": []
  },
  {
   "cell_type": "code",
   "execution_count": null,
   "id": "10e2082f",
   "metadata": {},
   "outputs": [],
   "source": []
  }
 ],
 "metadata": {
  "kernelspec": {
   "display_name": "Python 3 (ipykernel)",
   "language": "python",
   "name": "python3"
  },
  "language_info": {
   "codemirror_mode": {
    "name": "ipython",
    "version": 3
   },
   "file_extension": ".py",
   "mimetype": "text/x-python",
   "name": "python",
   "nbconvert_exporter": "python",
   "pygments_lexer": "ipython3",
   "version": "3.9.9"
  }
 },
 "nbformat": 4,
 "nbformat_minor": 5
}
